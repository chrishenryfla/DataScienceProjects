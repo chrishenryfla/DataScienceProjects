{
 "cells": [
  {
   "cell_type": "code",
   "execution_count": 1,
   "id": "60dc6868",
   "metadata": {
    "slideshow": null
   },
   "outputs": [],
   "source": [
    "import seaborn as sns\n",
    "sns.set()"
   ]
  },
  {
   "cell_type": "code",
   "execution_count": 2,
   "id": "91b76aa5",
   "metadata": {
    "slideshow": null
   },
   "outputs": [],
   "source": [
    "from static_grader import grader"
   ]
  },
  {
   "cell_type": "markdown",
   "id": "fe9a8e79",
   "metadata": {
    "slideshow": null
   },
   "source": [
    "# NLP: Analyzing Review Text\n"
   ]
  },
  {
   "cell_type": "markdown",
   "id": "86b060f1",
   "metadata": {
    "slideshow": null
   },
   "source": [
    "Unstructured data makes up the vast majority of data.  This is a basic intro to handling unstructured data.  Our objective is to be able to extract the sentiment (positive or negative) and gain insight from review text.  We will do this from Yelp review data."
   ]
  },
  {
   "cell_type": "markdown",
   "id": "09d4f770",
   "metadata": {
    "slideshow": null
   },
   "source": [
    "## Metrics and scoring"
   ]
  },
  {
   "cell_type": "markdown",
   "id": "6f820848",
   "metadata": {
    "slideshow": null
   },
   "source": [
    "The first two questions task you to build models, of increasing complexity, to predict the rating of a review from its text. The grader uses a test set to evaluate your model's performance against our reference solution, using the $R^2$ score. It **is** possible to receive a score greater than one, indicating that you've beaten our reference model. We compare our model's score on a test set to your score on the same test set. See how high you can go!\n",
    "\n",
    "The final two questions asks only for the result of a calculation, and your results will be compared directly to those of a reference solution."
   ]
  },
  {
   "cell_type": "markdown",
   "id": "72307e9a",
   "metadata": {
    "slideshow": null
   },
   "source": [
    "## Download and parse the data\n"
   ]
  },
  {
   "cell_type": "markdown",
   "id": "d87dc9fe",
   "metadata": {
    "slideshow": null
   },
   "source": [
    "To start, let's download the data set from Amazon S3:"
   ]
  },
  {
   "cell_type": "code",
   "execution_count": 3,
   "id": "5204c40c",
   "metadata": {
    "slideshow": null
   },
   "outputs": [],
   "source": [
    "!aws s3 sync s3://dataincubator-course/mldata/ . --exclude '*' --include 'yelp_train_academic_dataset_review_reduced.json.gz'"
   ]
  },
  {
   "cell_type": "markdown",
   "id": "7718b3fe",
   "metadata": {
    "slideshow": null
   },
   "source": [
    "The training data are a series of JSON objects, in a Gzipped file. Python supports Gzipped files natively: [`gzip.open`](https://docs.python.org/3/library/gzip.html) has the same interface as `open`, but handles `.gz` files automatically.\n",
    "\n",
    "The built-in `json` package has a `loads` function that converts a JSON string into a Python dictionary. We could call that once for each row of the file. [`ujson`](http://docs.micropython.org/en/latest/library/ujson.html) has the same interface as the built-in `json` package, but is *substantially* faster (at the cost of non-robust handling of malformed JSON). We will use that inside a list comprehension to get a list of dictionaries:"
   ]
  },
  {
   "cell_type": "code",
   "execution_count": 4,
   "id": "4c745a14",
   "metadata": {
    "slideshow": null
   },
   "outputs": [],
   "source": [
    "import gzip\n",
    "import ujson as json\n",
    "\n",
    "with gzip.open('yelp_train_academic_dataset_review_reduced.json.gz') as f:\n",
    "    data = [json.loads(line) for line in f]"
   ]
  },
  {
   "cell_type": "markdown",
   "id": "a1e15770",
   "metadata": {
    "slideshow": null
   },
   "source": [
    "The scikit-learn API requires that we keep labels (in this case, the star ratings) and features in separate data structures."
   ]
  },
  {
   "cell_type": "code",
   "execution_count": 45,
   "id": "1153aa50",
   "metadata": {
    "slideshow": null
   },
   "outputs": [],
   "source": [
    "stars = [row['stars'] for row in data]"
   ]
  },
  {
   "cell_type": "markdown",
   "id": "bbef1284",
   "metadata": {
    "slideshow": null
   },
   "source": [
    "# Questions\n"
   ]
  },
  {
   "cell_type": "markdown",
   "id": "f6f8d243",
   "metadata": {
    "heading_collapsed": true,
    "slideshow": null
   },
   "source": [
    "## Question 1: bag_of_words_model"
   ]
  },
  {
   "cell_type": "markdown",
   "id": "8439e314",
   "metadata": {
    "hidden": true,
    "slideshow": null
   },
   "source": [
    "Build a linear model predicting the star rating based on the text reviews. Apply the bag-of-words model using the [`CountVectorizer`](http://scikit-learn.org/stable/modules/generated/sklearn.feature_extraction.text.CountVectorizer.html#sklearn.feature_extraction.text.CountVectorizer) to produce a feature matrix giving the counts of each word in each review.\n",
    "\n",
    "**Hints**:\n",
    "1. You will need to extract the review text from the raw input data, a list of dictionaries. You can take a similar approach you took in the `ml` miniproject by first converting the data into a pandas data frame and then using [`ColumnTransformer`](https://scikit-learn.org/stable/modules/generated/sklearn.compose.ColumnTransformer.html?highlight=columntransformer#sklearn.compose.ColumnTransformer) or you can build a custom transform to extract the text. Either way, remember that the `CountVectorizer` accepts as input to its `transform` method a 1D array of text.\n",
    "\n",
    "1. Try choosing different values for `min_df` (minimum document frequency cutoff) and `max_df` in `CountVectorizer`. Setting `min_df` to zero admits rare words which might only appear once in the entire corpus.  This is both prone to overfitting and makes your data unmanageably large.  Don't forget to use cross-validation to select the right value.\n",
    "\n",
    "1. Try using [`LinearRegression`](http://scikit-learn.org/stable/modules/generated/sklearn.linear_model.LinearRegression.html#sklearn.linear_model.LinearRegression) or [`Ridge`](https://scikit-learn.org/stable/modules/generated/sklearn.linear_model.Ridge.html?highlight=ridge#sklearn.linear_model.Ridge). There is also [`RidgeCV`](https://scikit-learn.org/stable/modules/generated/sklearn.linear_model.RidgeCV.html?highlight=ridge#sklearn.linear_model.RidgeCV) which has built-in leave-on-out cross-validation. If the memory footprint is too big, try switching to [Stochastic Gradient Descent](http://scikit-learn.org/stable/modules/generated/sklearn.linear_model.SGDRegressor.html#sklearn.linear_model.SGDRegressor). Don't forget to search for the optimal value of the regularization parameter. How do the regularization parameter `alpha` and the values of `min_df` and `max_df` from `CountVectorizer` change the answer?\n",
    "\n",
    "1. You will likely pick up several hyperparameters between the vectorization step and the regularization of the predictor. While it is more strictly correct to do a grid search over all of them at once, this can take a long time. Quite often, doing a grid search over a single hyperparameter at a time can produce similar results.  Alternatively, the grid search may be done over a smaller subset of the data, as long as it is representative of the whole.\n",
    "\n",
    "1. Finally, assemble a pipeline that will transform the data from list of dictionaries all the way to predictions.  This will allow you to submit the model's `predict` method to the grader for scoring as the test set used by the grader is a list of dictionaries."
   ]
  },
  {
   "cell_type": "code",
   "execution_count": 7,
   "id": "3c298456",
   "metadata": {
    "hidden": true
   },
   "outputs": [
    {
     "data": {
      "text/plain": [
       "{'votes': {'funny': 6, 'useful': 0, 'cool': 0},\n",
       " 'user_id': 'ZYaumz29bl9qHpu-KVtMGA',\n",
       " 'review_id': 'ow1c4Lcl3ObWxDC2yurwjQ',\n",
       " 'stars': 4,\n",
       " 'date': '2009-05-04',\n",
       " 'text': \"If you like lot lizards, you'll love the Pine Cone!\",\n",
       " 'type': 'review',\n",
       " 'business_id': 'JwUE5GmEO-sH1FuwJgKBlQ'}"
      ]
     },
     "execution_count": 7,
     "metadata": {},
     "output_type": "execute_result"
    }
   ],
   "source": [
    "data[1]"
   ]
  },
  {
   "cell_type": "code",
   "execution_count": 5,
   "id": "85a56a91",
   "metadata": {
    "hidden": true
   },
   "outputs": [],
   "source": [
    "#Extract review text from input data\n",
    "\n",
    "from sklearn.base import TransformerMixin\n",
    "\n",
    "class DictListValueExtractor(TransformerMixin):\n",
    "    def __init__(self, key):\n",
    "        self.key = key\n",
    "\n",
    "    def fit(self, X, y=None):\n",
    "        return self\n",
    "\n",
    "    def transform(self, X):\n",
    "        extracted_values = []\n",
    "        for item in X:\n",
    "            if self.key in item:\n",
    "                extracted_values.append(item[self.key])\n",
    "        return extracted_values\n",
    "    \n",
    "# Create the transformer instance with the key you want to extract\n",
    "transformer = DictListValueExtractor(key='text')\n",
    "\n",
    "# Apply the transformation to the data\n",
    "result = transformer.transform(data)"
   ]
  },
  {
   "cell_type": "code",
   "execution_count": 8,
   "id": "f2891994",
   "metadata": {
    "hidden": true
   },
   "outputs": [
    {
     "data": {
      "text/plain": [
       "253272"
      ]
     },
     "execution_count": 8,
     "metadata": {},
     "output_type": "execute_result"
    }
   ],
   "source": [
    "len(result)"
   ]
  },
  {
   "cell_type": "code",
   "execution_count": 11,
   "id": "f1adf73f",
   "metadata": {
    "hidden": true
   },
   "outputs": [],
   "source": [
    "from sklearn.feature_extraction.text import CountVectorizer\n",
    "from sklearn.model_selection import train_test_split\n",
    "from sklearn.feature_extraction.text import CountVectorizer\n",
    "from sklearn.linear_model import Ridge\n",
    "from sklearn.linear_model import LinearRegression\n",
    "from sklearn.pipeline import Pipeline\n",
    "from sklearn.metrics import mean_squared_error\n",
    "from scipy.stats import uniform, randint\n",
    "from sklearn.model_selection import RandomizedSearchCV\n",
    "\n",
    "#cv = CountVectorizer(min_df=17500, max_df=0.8)\n",
    "#cv.fit(result)\n",
    "\n",
    "#print(cv.get_feature_names_out())"
   ]
  },
  {
   "cell_type": "code",
   "execution_count": 12,
   "id": "3c5e44d5",
   "metadata": {
    "hidden": true,
    "scrolled": true
   },
   "outputs": [
    {
     "data": {
      "text/html": [
       "<style>#sk-container-id-2 {color: black;background-color: white;}#sk-container-id-2 pre{padding: 0;}#sk-container-id-2 div.sk-toggleable {background-color: white;}#sk-container-id-2 label.sk-toggleable__label {cursor: pointer;display: block;width: 100%;margin-bottom: 0;padding: 0.3em;box-sizing: border-box;text-align: center;}#sk-container-id-2 label.sk-toggleable__label-arrow:before {content: \"▸\";float: left;margin-right: 0.25em;color: #696969;}#sk-container-id-2 label.sk-toggleable__label-arrow:hover:before {color: black;}#sk-container-id-2 div.sk-estimator:hover label.sk-toggleable__label-arrow:before {color: black;}#sk-container-id-2 div.sk-toggleable__content {max-height: 0;max-width: 0;overflow: hidden;text-align: left;background-color: #f0f8ff;}#sk-container-id-2 div.sk-toggleable__content pre {margin: 0.2em;color: black;border-radius: 0.25em;background-color: #f0f8ff;}#sk-container-id-2 input.sk-toggleable__control:checked~div.sk-toggleable__content {max-height: 200px;max-width: 100%;overflow: auto;}#sk-container-id-2 input.sk-toggleable__control:checked~label.sk-toggleable__label-arrow:before {content: \"▾\";}#sk-container-id-2 div.sk-estimator input.sk-toggleable__control:checked~label.sk-toggleable__label {background-color: #d4ebff;}#sk-container-id-2 div.sk-label input.sk-toggleable__control:checked~label.sk-toggleable__label {background-color: #d4ebff;}#sk-container-id-2 input.sk-hidden--visually {border: 0;clip: rect(1px 1px 1px 1px);clip: rect(1px, 1px, 1px, 1px);height: 1px;margin: -1px;overflow: hidden;padding: 0;position: absolute;width: 1px;}#sk-container-id-2 div.sk-estimator {font-family: monospace;background-color: #f0f8ff;border: 1px dotted black;border-radius: 0.25em;box-sizing: border-box;margin-bottom: 0.5em;}#sk-container-id-2 div.sk-estimator:hover {background-color: #d4ebff;}#sk-container-id-2 div.sk-parallel-item::after {content: \"\";width: 100%;border-bottom: 1px solid gray;flex-grow: 1;}#sk-container-id-2 div.sk-label:hover label.sk-toggleable__label {background-color: #d4ebff;}#sk-container-id-2 div.sk-serial::before {content: \"\";position: absolute;border-left: 1px solid gray;box-sizing: border-box;top: 0;bottom: 0;left: 50%;z-index: 0;}#sk-container-id-2 div.sk-serial {display: flex;flex-direction: column;align-items: center;background-color: white;padding-right: 0.2em;padding-left: 0.2em;position: relative;}#sk-container-id-2 div.sk-item {position: relative;z-index: 1;}#sk-container-id-2 div.sk-parallel {display: flex;align-items: stretch;justify-content: center;background-color: white;position: relative;}#sk-container-id-2 div.sk-item::before, #sk-container-id-2 div.sk-parallel-item::before {content: \"\";position: absolute;border-left: 1px solid gray;box-sizing: border-box;top: 0;bottom: 0;left: 50%;z-index: -1;}#sk-container-id-2 div.sk-parallel-item {display: flex;flex-direction: column;z-index: 1;position: relative;background-color: white;}#sk-container-id-2 div.sk-parallel-item:first-child::after {align-self: flex-end;width: 50%;}#sk-container-id-2 div.sk-parallel-item:last-child::after {align-self: flex-start;width: 50%;}#sk-container-id-2 div.sk-parallel-item:only-child::after {width: 0;}#sk-container-id-2 div.sk-dashed-wrapped {border: 1px dashed gray;margin: 0 0.4em 0.5em 0.4em;box-sizing: border-box;padding-bottom: 0.4em;background-color: white;}#sk-container-id-2 div.sk-label label {font-family: monospace;font-weight: bold;display: inline-block;line-height: 1.2em;}#sk-container-id-2 div.sk-label-container {text-align: center;}#sk-container-id-2 div.sk-container {/* jupyter's `normalize.less` sets `[hidden] { display: none; }` but bootstrap.min.css set `[hidden] { display: none !important; }` so we also need the `!important` here to be able to override the default hidden behavior on the sphinx rendered scikit-learn.org. See: https://github.com/scikit-learn/scikit-learn/issues/21755 */display: inline-block !important;position: relative;}#sk-container-id-2 div.sk-text-repr-fallback {display: none;}</style><div id=\"sk-container-id-2\" class=\"sk-top-container\"><div class=\"sk-text-repr-fallback\"><pre>Pipeline(steps=[(&#x27;extractor&#x27;,\n",
       "                 &lt;__main__.DictListValueExtractor object at 0x7f53a03a0e80&gt;),\n",
       "                (&#x27;vectorizer&#x27;, CountVectorizer(max_df=0.8, min_df=8000)),\n",
       "                (&#x27;regressor&#x27;, Ridge(alpha=0.1))])</pre><b>In a Jupyter environment, please rerun this cell to show the HTML representation or trust the notebook. <br />On GitHub, the HTML representation is unable to render, please try loading this page with nbviewer.org.</b></div><div class=\"sk-container\" hidden><div class=\"sk-item sk-dashed-wrapped\"><div class=\"sk-label-container\"><div class=\"sk-label sk-toggleable\"><input class=\"sk-toggleable__control sk-hidden--visually\" id=\"sk-estimator-id-6\" type=\"checkbox\" ><label for=\"sk-estimator-id-6\" class=\"sk-toggleable__label sk-toggleable__label-arrow\">Pipeline</label><div class=\"sk-toggleable__content\"><pre>Pipeline(steps=[(&#x27;extractor&#x27;,\n",
       "                 &lt;__main__.DictListValueExtractor object at 0x7f53a03a0e80&gt;),\n",
       "                (&#x27;vectorizer&#x27;, CountVectorizer(max_df=0.8, min_df=8000)),\n",
       "                (&#x27;regressor&#x27;, Ridge(alpha=0.1))])</pre></div></div></div><div class=\"sk-serial\"><div class=\"sk-item\"><div class=\"sk-estimator sk-toggleable\"><input class=\"sk-toggleable__control sk-hidden--visually\" id=\"sk-estimator-id-7\" type=\"checkbox\" ><label for=\"sk-estimator-id-7\" class=\"sk-toggleable__label sk-toggleable__label-arrow\">DictListValueExtractor</label><div class=\"sk-toggleable__content\"><pre>&lt;__main__.DictListValueExtractor object at 0x7f53a03a0e80&gt;</pre></div></div></div><div class=\"sk-item\"><div class=\"sk-estimator sk-toggleable\"><input class=\"sk-toggleable__control sk-hidden--visually\" id=\"sk-estimator-id-8\" type=\"checkbox\" ><label for=\"sk-estimator-id-8\" class=\"sk-toggleable__label sk-toggleable__label-arrow\">CountVectorizer</label><div class=\"sk-toggleable__content\"><pre>CountVectorizer(max_df=0.8, min_df=8000)</pre></div></div></div><div class=\"sk-item\"><div class=\"sk-estimator sk-toggleable\"><input class=\"sk-toggleable__control sk-hidden--visually\" id=\"sk-estimator-id-9\" type=\"checkbox\" ><label for=\"sk-estimator-id-9\" class=\"sk-toggleable__label sk-toggleable__label-arrow\">Ridge</label><div class=\"sk-toggleable__content\"><pre>Ridge(alpha=0.1)</pre></div></div></div></div></div></div></div>"
      ],
      "text/plain": [
       "Pipeline(steps=[('extractor',\n",
       "                 <__main__.DictListValueExtractor object at 0x7f53a03a0e80>),\n",
       "                ('vectorizer', CountVectorizer(max_df=0.8, min_df=8000)),\n",
       "                ('regressor', Ridge(alpha=0.1))])"
      ]
     },
     "execution_count": 12,
     "metadata": {},
     "output_type": "execute_result"
    }
   ],
   "source": [
    "# Step 2: Split the data into training and testing sets\n",
    "X_train, X_test, y_train, y_test = train_test_split(data, stars, test_size=0.2, random_state=42)\n",
    "\n",
    "# Step 3: Create the pipeline with CountVectorizer and LinearRegression\n",
    "pipeline = Pipeline([\n",
    "    ('extractor', DictListValueExtractor(key='text')),\n",
    "    ('vectorizer', CountVectorizer(min_df=8000, max_df=0.8)),     # Convert text to a bag-of-words representation\n",
    "    ('regressor', Ridge(alpha=0.1))      # Use Linear Regression for prediction\n",
    "])\n",
    "\n",
    "# Step 4: Fit the pipeline on the training data\n",
    "pipeline.fit(X_train, y_train)"
   ]
  },
  {
   "cell_type": "code",
   "execution_count": null,
   "id": "0df668ff",
   "metadata": {
    "hidden": true,
    "slideshow": null
   },
   "outputs": [],
   "source": [
    "bag_of_words_model = ...\n",
    "\n",
    "bag_of_words_model.fit(data, stars)"
   ]
  },
  {
   "cell_type": "code",
   "execution_count": 13,
   "id": "8560fd24",
   "metadata": {
    "hidden": true,
    "slideshow": null
   },
   "outputs": [
    {
     "name": "stdout",
     "output_type": "stream",
     "text": [
      "==================\n",
      "Your score: 1.0248\n",
      "==================\n"
     ]
    }
   ],
   "source": [
    "grader.score('nlp__bag_of_words_model', pipeline.predict)"
   ]
  },
  {
   "cell_type": "markdown",
   "id": "429d477e",
   "metadata": {
    "heading_collapsed": true,
    "slideshow": null
   },
   "source": [
    "## Question 2: bigram_model"
   ]
  },
  {
   "cell_type": "markdown",
   "id": "674c5960",
   "metadata": {
    "hidden": true,
    "slideshow": null
   },
   "source": [
    "In a bigram model, we'll consider both single words and pairs of consecutive words that appear. This is going to be a much higher-dimensional problem so you should be careful about overfitting. You should also use a vectorizer that applies some sort of normalization, e.g., the `TfidfVectorizer` or a word count vectorizer combined with `TfidfTransformer`.\n",
    "\n",
    "Sometimes, reducing the dimension can be useful. If you're using the `TfidfVectorizer`, you can change the `max_features` hyperparameter to reduce the size of the resulting vocabulary. For `HashingVectorizer`, you can adjust the size of the feature matrix through `n_features`.\n",
    "\n",
    "**A side note on multi-stage model evaluation:** When your model consists of a pipeline with several stages, it can be worthwhile to evaluate which parts of the pipeline have the greatest impact on the overall accuracy (or other metric) of the model. This allows you to focus your efforts on improving the important algorithms, and leaving the rest \"good enough\".\n",
    "\n",
    "One way to accomplish this is through ceiling analysis, which can be useful when you have a training set with ground truth values at each stage. Let's say you're training a model to extract image captions from websites and return a list of names that were in the caption. Your overall accuracy at some point reaches 70%. You can try manually giving the model what you know are the correct image captions from the training set, and see how the accuracy improves (maybe up to 75%). Alternatively, giving the model the perfect name parsing for each caption increases accuracy to 90%. This indicates that the name parsing is a much more promising target for further work, and the caption extraction is a relatively smaller factor in the overall performance.\n",
    "\n",
    "If you don't know the right answers at different stages of the pipeline, you can still evaluate how important different parts of the model are to its performance by changing or removing certain steps while keeping everything else constant. You might try this kind of analysis to determine how important adding stopwords and stemming to your NLP model actually is, and how that importance changes with parameters like the number of features."
   ]
  },
  {
   "cell_type": "code",
   "execution_count": 7,
   "id": "e5d461a8",
   "metadata": {
    "hidden": true
   },
   "outputs": [],
   "source": [
    "#Extract review text from input data\n",
    "from sklearn.model_selection import train_test_split\n",
    "from sklearn.feature_extraction.text import CountVectorizer, TfidfTransformer\n",
    "from sklearn.linear_model import Ridge\n",
    "from sklearn.pipeline import Pipeline\n",
    "from sklearn.base import TransformerMixin\n",
    "\n",
    "class DictListValueExtractor(TransformerMixin):\n",
    "    def __init__(self, key):\n",
    "        self.key = key\n",
    "\n",
    "    def fit(self, X, y=None):\n",
    "        return self\n",
    "\n",
    "    def transform(self, X):\n",
    "        extracted_values = []\n",
    "        for item in X:\n",
    "            if self.key in item:\n",
    "                extracted_values.append(item[self.key])\n",
    "        return extracted_values\n",
    "    \n",
    "# Create the transformer instance with the key you want to extract\n",
    "transformer = DictListValueExtractor(key='text')\n",
    "\n",
    "# Apply the transformation to the data\n",
    "result = transformer.transform(data)"
   ]
  },
  {
   "cell_type": "code",
   "execution_count": 8,
   "id": "18543dd9",
   "metadata": {
    "hidden": true
   },
   "outputs": [
    {
     "data": {
      "text/html": [
       "<style>#sk-container-id-1 {color: black;background-color: white;}#sk-container-id-1 pre{padding: 0;}#sk-container-id-1 div.sk-toggleable {background-color: white;}#sk-container-id-1 label.sk-toggleable__label {cursor: pointer;display: block;width: 100%;margin-bottom: 0;padding: 0.3em;box-sizing: border-box;text-align: center;}#sk-container-id-1 label.sk-toggleable__label-arrow:before {content: \"▸\";float: left;margin-right: 0.25em;color: #696969;}#sk-container-id-1 label.sk-toggleable__label-arrow:hover:before {color: black;}#sk-container-id-1 div.sk-estimator:hover label.sk-toggleable__label-arrow:before {color: black;}#sk-container-id-1 div.sk-toggleable__content {max-height: 0;max-width: 0;overflow: hidden;text-align: left;background-color: #f0f8ff;}#sk-container-id-1 div.sk-toggleable__content pre {margin: 0.2em;color: black;border-radius: 0.25em;background-color: #f0f8ff;}#sk-container-id-1 input.sk-toggleable__control:checked~div.sk-toggleable__content {max-height: 200px;max-width: 100%;overflow: auto;}#sk-container-id-1 input.sk-toggleable__control:checked~label.sk-toggleable__label-arrow:before {content: \"▾\";}#sk-container-id-1 div.sk-estimator input.sk-toggleable__control:checked~label.sk-toggleable__label {background-color: #d4ebff;}#sk-container-id-1 div.sk-label input.sk-toggleable__control:checked~label.sk-toggleable__label {background-color: #d4ebff;}#sk-container-id-1 input.sk-hidden--visually {border: 0;clip: rect(1px 1px 1px 1px);clip: rect(1px, 1px, 1px, 1px);height: 1px;margin: -1px;overflow: hidden;padding: 0;position: absolute;width: 1px;}#sk-container-id-1 div.sk-estimator {font-family: monospace;background-color: #f0f8ff;border: 1px dotted black;border-radius: 0.25em;box-sizing: border-box;margin-bottom: 0.5em;}#sk-container-id-1 div.sk-estimator:hover {background-color: #d4ebff;}#sk-container-id-1 div.sk-parallel-item::after {content: \"\";width: 100%;border-bottom: 1px solid gray;flex-grow: 1;}#sk-container-id-1 div.sk-label:hover label.sk-toggleable__label {background-color: #d4ebff;}#sk-container-id-1 div.sk-serial::before {content: \"\";position: absolute;border-left: 1px solid gray;box-sizing: border-box;top: 0;bottom: 0;left: 50%;z-index: 0;}#sk-container-id-1 div.sk-serial {display: flex;flex-direction: column;align-items: center;background-color: white;padding-right: 0.2em;padding-left: 0.2em;position: relative;}#sk-container-id-1 div.sk-item {position: relative;z-index: 1;}#sk-container-id-1 div.sk-parallel {display: flex;align-items: stretch;justify-content: center;background-color: white;position: relative;}#sk-container-id-1 div.sk-item::before, #sk-container-id-1 div.sk-parallel-item::before {content: \"\";position: absolute;border-left: 1px solid gray;box-sizing: border-box;top: 0;bottom: 0;left: 50%;z-index: -1;}#sk-container-id-1 div.sk-parallel-item {display: flex;flex-direction: column;z-index: 1;position: relative;background-color: white;}#sk-container-id-1 div.sk-parallel-item:first-child::after {align-self: flex-end;width: 50%;}#sk-container-id-1 div.sk-parallel-item:last-child::after {align-self: flex-start;width: 50%;}#sk-container-id-1 div.sk-parallel-item:only-child::after {width: 0;}#sk-container-id-1 div.sk-dashed-wrapped {border: 1px dashed gray;margin: 0 0.4em 0.5em 0.4em;box-sizing: border-box;padding-bottom: 0.4em;background-color: white;}#sk-container-id-1 div.sk-label label {font-family: monospace;font-weight: bold;display: inline-block;line-height: 1.2em;}#sk-container-id-1 div.sk-label-container {text-align: center;}#sk-container-id-1 div.sk-container {/* jupyter's `normalize.less` sets `[hidden] { display: none; }` but bootstrap.min.css set `[hidden] { display: none !important; }` so we also need the `!important` here to be able to override the default hidden behavior on the sphinx rendered scikit-learn.org. See: https://github.com/scikit-learn/scikit-learn/issues/21755 */display: inline-block !important;position: relative;}#sk-container-id-1 div.sk-text-repr-fallback {display: none;}</style><div id=\"sk-container-id-1\" class=\"sk-top-container\"><div class=\"sk-text-repr-fallback\"><pre>Pipeline(steps=[(&#x27;extractor&#x27;,\n",
       "                 &lt;__main__.DictListValueExtractor object at 0x7f53a05c33a0&gt;),\n",
       "                (&#x27;vectorizer&#x27;,\n",
       "                 CountVectorizer(max_df=0.8, min_df=200, ngram_range=(2, 2))),\n",
       "                (&#x27;tfidf&#x27;, TfidfTransformer()), (&#x27;regressor&#x27;, Ridge())])</pre><b>In a Jupyter environment, please rerun this cell to show the HTML representation or trust the notebook. <br />On GitHub, the HTML representation is unable to render, please try loading this page with nbviewer.org.</b></div><div class=\"sk-container\" hidden><div class=\"sk-item sk-dashed-wrapped\"><div class=\"sk-label-container\"><div class=\"sk-label sk-toggleable\"><input class=\"sk-toggleable__control sk-hidden--visually\" id=\"sk-estimator-id-1\" type=\"checkbox\" ><label for=\"sk-estimator-id-1\" class=\"sk-toggleable__label sk-toggleable__label-arrow\">Pipeline</label><div class=\"sk-toggleable__content\"><pre>Pipeline(steps=[(&#x27;extractor&#x27;,\n",
       "                 &lt;__main__.DictListValueExtractor object at 0x7f53a05c33a0&gt;),\n",
       "                (&#x27;vectorizer&#x27;,\n",
       "                 CountVectorizer(max_df=0.8, min_df=200, ngram_range=(2, 2))),\n",
       "                (&#x27;tfidf&#x27;, TfidfTransformer()), (&#x27;regressor&#x27;, Ridge())])</pre></div></div></div><div class=\"sk-serial\"><div class=\"sk-item\"><div class=\"sk-estimator sk-toggleable\"><input class=\"sk-toggleable__control sk-hidden--visually\" id=\"sk-estimator-id-2\" type=\"checkbox\" ><label for=\"sk-estimator-id-2\" class=\"sk-toggleable__label sk-toggleable__label-arrow\">DictListValueExtractor</label><div class=\"sk-toggleable__content\"><pre>&lt;__main__.DictListValueExtractor object at 0x7f53a05c33a0&gt;</pre></div></div></div><div class=\"sk-item\"><div class=\"sk-estimator sk-toggleable\"><input class=\"sk-toggleable__control sk-hidden--visually\" id=\"sk-estimator-id-3\" type=\"checkbox\" ><label for=\"sk-estimator-id-3\" class=\"sk-toggleable__label sk-toggleable__label-arrow\">CountVectorizer</label><div class=\"sk-toggleable__content\"><pre>CountVectorizer(max_df=0.8, min_df=200, ngram_range=(2, 2))</pre></div></div></div><div class=\"sk-item\"><div class=\"sk-estimator sk-toggleable\"><input class=\"sk-toggleable__control sk-hidden--visually\" id=\"sk-estimator-id-4\" type=\"checkbox\" ><label for=\"sk-estimator-id-4\" class=\"sk-toggleable__label sk-toggleable__label-arrow\">TfidfTransformer</label><div class=\"sk-toggleable__content\"><pre>TfidfTransformer()</pre></div></div></div><div class=\"sk-item\"><div class=\"sk-estimator sk-toggleable\"><input class=\"sk-toggleable__control sk-hidden--visually\" id=\"sk-estimator-id-5\" type=\"checkbox\" ><label for=\"sk-estimator-id-5\" class=\"sk-toggleable__label sk-toggleable__label-arrow\">Ridge</label><div class=\"sk-toggleable__content\"><pre>Ridge()</pre></div></div></div></div></div></div></div>"
      ],
      "text/plain": [
       "Pipeline(steps=[('extractor',\n",
       "                 <__main__.DictListValueExtractor object at 0x7f53a05c33a0>),\n",
       "                ('vectorizer',\n",
       "                 CountVectorizer(max_df=0.8, min_df=200, ngram_range=(2, 2))),\n",
       "                ('tfidf', TfidfTransformer()), ('regressor', Ridge())])"
      ]
     },
     "execution_count": 8,
     "metadata": {},
     "output_type": "execute_result"
    }
   ],
   "source": [
    "# Step 2: Split the data into training and testing sets\n",
    "#X_train, X_test, y_train, y_test = train_test_split(result, stars, test_size=0.2, random_state=42)\n",
    "\n",
    "# Step 3: Create the pipeline with DictListValueExtractor, CountVectorizer (bigrams), TfidfTransformer, and Ridge\n",
    "pipeline = Pipeline([\n",
    "    ('extractor', DictListValueExtractor(key='text')),  # Extract 'review' values from dictionaries\n",
    "    ('vectorizer', CountVectorizer(min_df=200, max_df=0.8, ngram_range=(2, 2))),  # Convert text to bag-of-words with bigrams\n",
    "    ('tfidf', TfidfTransformer()),                       # Apply TF-IDF transformation\n",
    "    ('regressor', Ridge(alpha=1.0))                      # Use SGD\n",
    "])\n",
    "\n",
    "# Step 4: Fit the pipeline on the training data\n",
    "pipeline.fit(data, stars)"
   ]
  },
  {
   "cell_type": "code",
   "execution_count": null,
   "id": "76d04869",
   "metadata": {
    "hidden": true,
    "slideshow": null
   },
   "outputs": [],
   "source": [
    "bigram_model = ...\n",
    "\n",
    "bigram_model.fit(data, stars)"
   ]
  },
  {
   "cell_type": "code",
   "execution_count": 9,
   "id": "819b956d",
   "metadata": {
    "hidden": true,
    "slideshow": null
   },
   "outputs": [
    {
     "name": "stdout",
     "output_type": "stream",
     "text": [
      "==================\n",
      "Your score: 1.0268\n",
      "==================\n"
     ]
    }
   ],
   "source": [
    "grader.score('nlp__bigram_model', pipeline.predict)"
   ]
  },
  {
   "cell_type": "markdown",
   "id": "7c078ba3",
   "metadata": {
    "heading_collapsed": true,
    "slideshow": null
   },
   "source": [
    "## Question 3: word_polarity"
   ]
  },
  {
   "cell_type": "markdown",
   "id": "c3ed5271",
   "metadata": {
    "hidden": true,
    "slideshow": null
   },
   "source": [
    "Let's consider a different approach and try to derive some insight from our analysis.  \n",
    "\n",
    "We want to determine the most \"polarizing words\" in the corpus of reviews.  In other words, we want to identify words that strongly signal a review is either positive or negative.  For example, we understand that a word like \"terrible\" will most likely appear in negative rather than positive reviews.  \n",
    "\n",
    "During training, the [naive Bayes model](https://scikit-learn.org/stable/modules/naive_bayes.html#) calculates probabilities such as $Pr(\\textrm{terrible}\\ |\\ \\textrm{negative}),$ the probability that the word \"terrible\" appears in the review text, given that the review is negative.  Using these probabilities, we can define a **polarity score** for each word $w$,\n",
    "\n",
    "$$\\textrm{polarity}(w) = \\log\\left(\\frac{Pr(w\\ |\\ \\textrm{positive})}{Pr(w\\ |\\ \\textrm{negative})}\\right).$$\n",
    "\n",
    "Polarity analysis is an example where a simpler model (naive Bayes) offers more explicability than more complicated models.  Aside from this, naive Bayes models are easy to train, the training process is parallelizable, and these models lend themselves well to online learning.  Given enough training data, naive Bayes models have performed well in NLP applications such as spam filtering.  \n",
    "\n",
    "For this problem, you are asked to determine the top 25 most positive polar words and the 25 most negative polar words.  For this analysis, you should:\n",
    "\n",
    "1.  **Filter** the collection of reviews you were using above to **only keep** the one-star and five-star reviews. Since these are the \"most polar\" reviews, it should give us the most polarizing words.   \n",
    "1.  Use the naive Bayes model, `MultinomialNB`.  \n",
    "1.  Use TF-IDF weighting.\n",
    "1.  Remove stop words.\n",
    "1.  As mentioned, generate a (Python) list with most positive (25 words) and most negative (25 words) polar words.  \n",
    "\n",
    "A naive Bayes model (after training) stores the log of the probabilities in an attribute of the model.  It is a `numpy` array of shape (number of classes, number of features).  You will need the mapping between feature indices to words to find the most polarizing words.  "
   ]
  },
  {
   "cell_type": "code",
   "execution_count": 100,
   "id": "bc42e346",
   "metadata": {
    "hidden": true
   },
   "outputs": [],
   "source": [
    "from sklearn.model_selection import train_test_split\n",
    "from sklearn.feature_extraction.text import TfidfVectorizer\n",
    "from sklearn.linear_model import Ridge\n",
    "from sklearn.pipeline import Pipeline\n",
    "from sklearn.base import TransformerMixin\n",
    "from sklearn.naive_bayes import MultinomialNB\n",
    "\n",
    "class DictListValueExtractor(TransformerMixin):\n",
    "    def __init__(self, key):\n",
    "        self.key = key\n",
    "\n",
    "    def fit(self, X, y=None):\n",
    "        return self\n",
    "\n",
    "    def transform(self, X):\n",
    "        extracted_values = []\n",
    "        for item in X:\n",
    "            if self.key in item:\n",
    "                extracted_values.append(item[self.key])\n",
    "        return extracted_values"
   ]
  },
  {
   "cell_type": "code",
   "execution_count": 118,
   "id": "e5174f0a",
   "metadata": {
    "hidden": true
   },
   "outputs": [
    {
     "data": {
      "text/html": [
       "<style>#sk-container-id-10 {color: black;background-color: white;}#sk-container-id-10 pre{padding: 0;}#sk-container-id-10 div.sk-toggleable {background-color: white;}#sk-container-id-10 label.sk-toggleable__label {cursor: pointer;display: block;width: 100%;margin-bottom: 0;padding: 0.3em;box-sizing: border-box;text-align: center;}#sk-container-id-10 label.sk-toggleable__label-arrow:before {content: \"▸\";float: left;margin-right: 0.25em;color: #696969;}#sk-container-id-10 label.sk-toggleable__label-arrow:hover:before {color: black;}#sk-container-id-10 div.sk-estimator:hover label.sk-toggleable__label-arrow:before {color: black;}#sk-container-id-10 div.sk-toggleable__content {max-height: 0;max-width: 0;overflow: hidden;text-align: left;background-color: #f0f8ff;}#sk-container-id-10 div.sk-toggleable__content pre {margin: 0.2em;color: black;border-radius: 0.25em;background-color: #f0f8ff;}#sk-container-id-10 input.sk-toggleable__control:checked~div.sk-toggleable__content {max-height: 200px;max-width: 100%;overflow: auto;}#sk-container-id-10 input.sk-toggleable__control:checked~label.sk-toggleable__label-arrow:before {content: \"▾\";}#sk-container-id-10 div.sk-estimator input.sk-toggleable__control:checked~label.sk-toggleable__label {background-color: #d4ebff;}#sk-container-id-10 div.sk-label input.sk-toggleable__control:checked~label.sk-toggleable__label {background-color: #d4ebff;}#sk-container-id-10 input.sk-hidden--visually {border: 0;clip: rect(1px 1px 1px 1px);clip: rect(1px, 1px, 1px, 1px);height: 1px;margin: -1px;overflow: hidden;padding: 0;position: absolute;width: 1px;}#sk-container-id-10 div.sk-estimator {font-family: monospace;background-color: #f0f8ff;border: 1px dotted black;border-radius: 0.25em;box-sizing: border-box;margin-bottom: 0.5em;}#sk-container-id-10 div.sk-estimator:hover {background-color: #d4ebff;}#sk-container-id-10 div.sk-parallel-item::after {content: \"\";width: 100%;border-bottom: 1px solid gray;flex-grow: 1;}#sk-container-id-10 div.sk-label:hover label.sk-toggleable__label {background-color: #d4ebff;}#sk-container-id-10 div.sk-serial::before {content: \"\";position: absolute;border-left: 1px solid gray;box-sizing: border-box;top: 0;bottom: 0;left: 50%;z-index: 0;}#sk-container-id-10 div.sk-serial {display: flex;flex-direction: column;align-items: center;background-color: white;padding-right: 0.2em;padding-left: 0.2em;position: relative;}#sk-container-id-10 div.sk-item {position: relative;z-index: 1;}#sk-container-id-10 div.sk-parallel {display: flex;align-items: stretch;justify-content: center;background-color: white;position: relative;}#sk-container-id-10 div.sk-item::before, #sk-container-id-10 div.sk-parallel-item::before {content: \"\";position: absolute;border-left: 1px solid gray;box-sizing: border-box;top: 0;bottom: 0;left: 50%;z-index: -1;}#sk-container-id-10 div.sk-parallel-item {display: flex;flex-direction: column;z-index: 1;position: relative;background-color: white;}#sk-container-id-10 div.sk-parallel-item:first-child::after {align-self: flex-end;width: 50%;}#sk-container-id-10 div.sk-parallel-item:last-child::after {align-self: flex-start;width: 50%;}#sk-container-id-10 div.sk-parallel-item:only-child::after {width: 0;}#sk-container-id-10 div.sk-dashed-wrapped {border: 1px dashed gray;margin: 0 0.4em 0.5em 0.4em;box-sizing: border-box;padding-bottom: 0.4em;background-color: white;}#sk-container-id-10 div.sk-label label {font-family: monospace;font-weight: bold;display: inline-block;line-height: 1.2em;}#sk-container-id-10 div.sk-label-container {text-align: center;}#sk-container-id-10 div.sk-container {/* jupyter's `normalize.less` sets `[hidden] { display: none; }` but bootstrap.min.css set `[hidden] { display: none !important; }` so we also need the `!important` here to be able to override the default hidden behavior on the sphinx rendered scikit-learn.org. See: https://github.com/scikit-learn/scikit-learn/issues/21755 */display: inline-block !important;position: relative;}#sk-container-id-10 div.sk-text-repr-fallback {display: none;}</style><div id=\"sk-container-id-10\" class=\"sk-top-container\"><div class=\"sk-text-repr-fallback\"><pre>Pipeline(steps=[(&#x27;extractor&#x27;,\n",
       "                 &lt;__main__.DictListValueExtractor object at 0x7fa64d218f10&gt;),\n",
       "                (&#x27;vectorizer&#x27;, TfidfVectorizer(stop_words=&#x27;english&#x27;)),\n",
       "                (&#x27;regressor&#x27;, MultinomialNB())])</pre><b>In a Jupyter environment, please rerun this cell to show the HTML representation or trust the notebook. <br />On GitHub, the HTML representation is unable to render, please try loading this page with nbviewer.org.</b></div><div class=\"sk-container\" hidden><div class=\"sk-item sk-dashed-wrapped\"><div class=\"sk-label-container\"><div class=\"sk-label sk-toggleable\"><input class=\"sk-toggleable__control sk-hidden--visually\" id=\"sk-estimator-id-37\" type=\"checkbox\" ><label for=\"sk-estimator-id-37\" class=\"sk-toggleable__label sk-toggleable__label-arrow\">Pipeline</label><div class=\"sk-toggleable__content\"><pre>Pipeline(steps=[(&#x27;extractor&#x27;,\n",
       "                 &lt;__main__.DictListValueExtractor object at 0x7fa64d218f10&gt;),\n",
       "                (&#x27;vectorizer&#x27;, TfidfVectorizer(stop_words=&#x27;english&#x27;)),\n",
       "                (&#x27;regressor&#x27;, MultinomialNB())])</pre></div></div></div><div class=\"sk-serial\"><div class=\"sk-item\"><div class=\"sk-estimator sk-toggleable\"><input class=\"sk-toggleable__control sk-hidden--visually\" id=\"sk-estimator-id-38\" type=\"checkbox\" ><label for=\"sk-estimator-id-38\" class=\"sk-toggleable__label sk-toggleable__label-arrow\">DictListValueExtractor</label><div class=\"sk-toggleable__content\"><pre>&lt;__main__.DictListValueExtractor object at 0x7fa64d218f10&gt;</pre></div></div></div><div class=\"sk-item\"><div class=\"sk-estimator sk-toggleable\"><input class=\"sk-toggleable__control sk-hidden--visually\" id=\"sk-estimator-id-39\" type=\"checkbox\" ><label for=\"sk-estimator-id-39\" class=\"sk-toggleable__label sk-toggleable__label-arrow\">TfidfVectorizer</label><div class=\"sk-toggleable__content\"><pre>TfidfVectorizer(stop_words=&#x27;english&#x27;)</pre></div></div></div><div class=\"sk-item\"><div class=\"sk-estimator sk-toggleable\"><input class=\"sk-toggleable__control sk-hidden--visually\" id=\"sk-estimator-id-40\" type=\"checkbox\" ><label for=\"sk-estimator-id-40\" class=\"sk-toggleable__label sk-toggleable__label-arrow\">MultinomialNB</label><div class=\"sk-toggleable__content\"><pre>MultinomialNB()</pre></div></div></div></div></div></div></div>"
      ],
      "text/plain": [
       "Pipeline(steps=[('extractor',\n",
       "                 <__main__.DictListValueExtractor object at 0x7fa64d218f10>),\n",
       "                ('vectorizer', TfidfVectorizer(stop_words='english')),\n",
       "                ('regressor', MultinomialNB())])"
      ]
     },
     "execution_count": 118,
     "metadata": {},
     "output_type": "execute_result"
    }
   ],
   "source": [
    "# Filter the dictionaries based on 'stars' before applying the pipeline, also filter stars vector so the length matches\n",
    "filtered_results = [item for item, star in zip(data, stars) if star in [1, 5]]\n",
    "\n",
    "filtered_stars = [row['stars'] for row in data if row['stars'] in [1, 5]]\n",
    "\n",
    "# Create the pipeline\n",
    "pipeline = Pipeline([\n",
    "    ('extractor', DictListValueExtractor(key='text')),  # Extract 'review' values from dictionaries\n",
    "    ('vectorizer', TfidfVectorizer(stop_words='english')),  \n",
    "    ('regressor', MultinomialNB())                      \n",
    "])\n",
    "\n",
    "# Fit the pipeline on the training data\n",
    "pipeline.fit(filtered_results, filtered_stars)"
   ]
  },
  {
   "cell_type": "code",
   "execution_count": 119,
   "id": "5308b4a5",
   "metadata": {
    "hidden": true
   },
   "outputs": [],
   "source": [
    "#Step 2: Access the MultinomialNB classifier from the pipeline using its name\n",
    "nb_classifier = pipeline.named_steps['regressor']\n",
    "log_prob = nb_classifier.feature_log_prob_"
   ]
  },
  {
   "cell_type": "code",
   "execution_count": 121,
   "id": "f2728e87",
   "metadata": {
    "hidden": true
   },
   "outputs": [],
   "source": [
    "# Step 3: Access the feature names from the TfidfVectorizer\n",
    "feature_names = pipeline.named_steps['vectorizer'].get_feature_names_out()"
   ]
  },
  {
   "cell_type": "code",
   "execution_count": 123,
   "id": "456c9a68",
   "metadata": {
    "hidden": true
   },
   "outputs": [],
   "source": [
    "# Step 5: Calculate the polarity scores for each word\n",
    "polarities = log_prob[1] - log_prob[0]"
   ]
  },
  {
   "cell_type": "code",
   "execution_count": 124,
   "id": "012cf49c",
   "metadata": {
    "hidden": true
   },
   "outputs": [],
   "source": [
    "# Step 6: Get the indices of the words with the highest and lowest polarity scores\n",
    "top_positive_words_indices = polarities.argsort()[::-1][:25]  # Words with highest positive polarity\n",
    "top_negative_words_indices = polarities.argsort()[:25]        # Words with lowest (most negative) polarity\n",
    "\n",
    "# Step 7: Retrieve the actual words from the feature names\n",
    "top_positive_words = [feature_names[idx] for idx in top_positive_words_indices]\n",
    "top_negative_words = [feature_names[idx] for idx in top_negative_words_indices]"
   ]
  },
  {
   "cell_type": "code",
   "execution_count": 125,
   "id": "403280c2",
   "metadata": {
    "hidden": true
   },
   "outputs": [],
   "source": [
    "merged_top_words = top_positive_words + top_negative_words"
   ]
  },
  {
   "cell_type": "code",
   "execution_count": 21,
   "id": "827b301c",
   "metadata": {
    "hidden": true,
    "slideshow": null
   },
   "outputs": [
    {
     "data": {
      "text/plain": [
       "True"
      ]
     },
     "execution_count": 21,
     "metadata": {},
     "output_type": "execute_result"
    }
   ],
   "source": [
    "# We're only keeping the one and five star reviews\n",
    "grader.check(len(filtered_results) == 116576)"
   ]
  },
  {
   "cell_type": "code",
   "execution_count": null,
   "id": "9eb6dc5a",
   "metadata": {
    "hidden": true,
    "slideshow": null
   },
   "outputs": [],
   "source": [
    "polar_words = ['perfection'] * 50"
   ]
  },
  {
   "cell_type": "code",
   "execution_count": 126,
   "id": "5f0bc31d",
   "metadata": {
    "hidden": true,
    "slideshow": null
   },
   "outputs": [
    {
     "name": "stdout",
     "output_type": "stream",
     "text": [
      "==================\n",
      "Your score: 1.0000\n",
      "==================\n"
     ]
    }
   ],
   "source": [
    "grader.score('nlp__word_polarity', merged_top_words)"
   ]
  },
  {
   "cell_type": "markdown",
   "id": "31442a52",
   "metadata": {
    "heading_collapsed": true,
    "slideshow": null
   },
   "source": [
    "## Question 4: food_bigrams"
   ]
  },
  {
   "cell_type": "markdown",
   "id": "88ddf408",
   "metadata": {
    "hidden": true,
    "slideshow": null
   },
   "source": [
    "Look over all reviews of restaurants.  You can determine which businesses are restaurants by looking in the `yelp_train_academic_dataset_business.json.gz` file from the ml project or downloaded below."
   ]
  },
  {
   "cell_type": "code",
   "execution_count": 6,
   "id": "71ee0c7b",
   "metadata": {
    "hidden": true,
    "slideshow": null
   },
   "outputs": [],
   "source": [
    "!aws s3 sync s3://dataincubator-course/mldata/ . --exclude '*' --include 'yelp_train_academic_dataset_business.json.gz'"
   ]
  },
  {
   "cell_type": "code",
   "execution_count": 7,
   "id": "ccb326cd",
   "metadata": {
    "hidden": true,
    "slideshow": null
   },
   "outputs": [],
   "source": [
    "with gzip.open('yelp_train_academic_dataset_business.json.gz') as f:\n",
    "    business_data = [json.loads(line) for line in f]"
   ]
  },
  {
   "cell_type": "markdown",
   "id": "dc87e9a4",
   "metadata": {
    "hidden": true,
    "slideshow": null
   },
   "source": [
    "Each row of this file corresponds to a single business.  The category key gives a list of categories for each; take all where \"Restaurants\" appears."
   ]
  },
  {
   "cell_type": "code",
   "execution_count": 8,
   "id": "1b983834",
   "metadata": {
    "hidden": true,
    "slideshow": null
   },
   "outputs": [],
   "source": [
    "restaurant_ids = [d for d in business_data if 'Restaurants' in d.get('categories', [])]"
   ]
  },
  {
   "cell_type": "code",
   "execution_count": 8,
   "id": "ae5b6422",
   "metadata": {
    "hidden": true,
    "slideshow": null
   },
   "outputs": [
    {
     "data": {
      "text/plain": [
       "True"
      ]
     },
     "execution_count": 8,
     "metadata": {},
     "output_type": "execute_result"
    }
   ],
   "source": [
    "# Look at the categories to check for spelling and capitalization\n",
    "grader.check(len(restaurant_ids) == 12876)"
   ]
  },
  {
   "cell_type": "markdown",
   "id": "638727f2",
   "metadata": {
    "hidden": true,
    "slideshow": null
   },
   "source": [
    "The \"business_id\" here is the same as in the review data.  Use this to extract the review text for all reviews of restaurants."
   ]
  },
  {
   "cell_type": "code",
   "execution_count": 9,
   "id": "4b79a558",
   "metadata": {
    "hidden": true,
    "slideshow": null
   },
   "outputs": [],
   "source": [
    "business_ids = [d.get('business_id') for d in restaurant_ids]\n",
    "restaurant_reviews = [d for d in data if d.get('business_id') in business_ids]"
   ]
  },
  {
   "cell_type": "code",
   "execution_count": 10,
   "id": "29f173ed",
   "metadata": {
    "hidden": true,
    "slideshow": null
   },
   "outputs": [
    {
     "data": {
      "text/plain": [
       "True"
      ]
     },
     "execution_count": 10,
     "metadata": {},
     "output_type": "execute_result"
    }
   ],
   "source": [
    "# Just reviews of restaurants\n",
    "# restaurant_ids is helpful here\n",
    "grader.check(len(restaurant_reviews) == 143361)"
   ]
  },
  {
   "cell_type": "code",
   "execution_count": 11,
   "id": "a3df1075",
   "metadata": {
    "hidden": true
   },
   "outputs": [
    {
     "data": {
      "text/plain": [
       "{'votes': {'funny': 6, 'useful': 0, 'cool': 0},\n",
       " 'user_id': 'ZYaumz29bl9qHpu-KVtMGA',\n",
       " 'review_id': 'ow1c4Lcl3ObWxDC2yurwjQ',\n",
       " 'stars': 4,\n",
       " 'date': '2009-05-04',\n",
       " 'text': \"If you like lot lizards, you'll love the Pine Cone!\",\n",
       " 'type': 'review',\n",
       " 'business_id': 'JwUE5GmEO-sH1FuwJgKBlQ'}"
      ]
     },
     "execution_count": 11,
     "metadata": {},
     "output_type": "execute_result"
    }
   ],
   "source": [
    "restaurant_reviews[0]"
   ]
  },
  {
   "cell_type": "markdown",
   "id": "0b6e145d",
   "metadata": {
    "hidden": true,
    "slideshow": null
   },
   "source": [
    "We want to find collocations --- that is, bigrams that are \"special\" and appear more often than you'd expect from chance. We can think of the corpus as defining an empirical distribution over all *n*-grams.  We can find word pairs that are unlikely to occur consecutively based on the underlying probability of their words. Mathematically, if $p(w)$ be the probability of a word $w$ and $p(w_1 w_2)$ is the probability of the bigram $w_1 w_2$, then we want to look at word pairs $w_1 w_2$ where the statistic\n",
    "\n",
    "  $$ \\frac{p(w_1 w_2)}{p(w_1) p(w_2)} $$\n",
    "\n",
    "is high.  Return the top 100 (mostly food) bigrams with this statistic with the 'right' prior factor (see below).\n",
    "\n",
    "Estimating the probabilities is simply a matter of counting, and there are number of approaches that will work.  One is to use one of the tokenizers to count up how many times each word and each bigram appears in each review, and then sum those up over all reviews.  You might want to know that the `CountVectorizer` has a `.get_feature_names_out()` method which gives the string associated with each column.  (Question for thought: Why doesn't the `HashingVectorizer` have a similar method?)\n",
    "\n",
    "*Questions:* This statistic is a ratio and problematic when the denominator is small.  We can fix this by applying Bayesian smoothing to $p(w)$ (i.e. mixing the empirical distribution with the uniform distribution over the vocabulary).\n",
    "\n",
    "1. How does changing this smoothing parameter affect the word pairs you get qualitatively?\n",
    "\n",
    "2. We can interpret the smoothing parameter as adding a constant number of occurrences of each word to our distribution.  Does this help you determine set a reasonable value for this 'prior factor'?\n",
    "\n",
    "3. For fun: also check out [Amazon's Statistically Improbable Phrases](http://en.wikipedia.org/wiki/Statistically_Improbable_Phrases).\n",
    "\n",
    "*Implementation note:*\n",
    "As you adjust the size of the Bayesian smoothing parameter, you will notice first nonsense phrases being removed and then legitimate bigrams being removed, leaving you with only generic bigrams.  The goal is to find a value of the smoothing parameter between these two transitions.\n",
    "\n",
    "The reference solution is not an aggressive filterer: it errors in favor of leaving apparently nonsensical words. On further consideration, many of these are actually somewhat meaningful. The smoothing parameter chosen in the reference solution is equivalent to giving each word 30 previous appearances prior to considering this data.  This was chosen by generating a list of bigrams for a range of smoothing parameters and seeing how many of the bigrams were shared between neighboring values.  When the shared fraction reached 95%, we judged the solution to have converged.\n",
    "\n",
    "There are a few reviews that include the same nonsense strings multiple times.  To keep these from showing up in our results, we set `min_df=10`, to ensure that a bigram occurs in at least 10 reviews before we consider it."
   ]
  },
  {
   "cell_type": "code",
   "execution_count": 11,
   "id": "b1696581",
   "metadata": {
    "hidden": true
   },
   "outputs": [],
   "source": [
    "from sklearn.base import TransformerMixin\n",
    "\n",
    "class DictListValueExtractor(TransformerMixin):\n",
    "    def __init__(self, key):\n",
    "        self.key = key\n",
    "\n",
    "    def fit(self, X, y=None):\n",
    "        return self\n",
    "\n",
    "    def transform(self, X):\n",
    "        extracted_values = []\n",
    "        for item in X:\n",
    "            if self.key in item:\n",
    "                extracted_values.append(item[self.key])\n",
    "        return extracted_values\n",
    "    \n",
    "# Create the transformer instance with the key you want to extract\n",
    "transformer = DictListValueExtractor(key='text')\n",
    "\n",
    "# Apply the transformation to the data\n",
    "result = transformer.transform(restaurant_reviews)"
   ]
  },
  {
   "cell_type": "code",
   "execution_count": 12,
   "id": "fedb34ca",
   "metadata": {
    "hidden": true
   },
   "outputs": [
    {
     "data": {
      "text/plain": [
       "\"If you like lot lizards, you'll love the Pine Cone!\""
      ]
     },
     "execution_count": 12,
     "metadata": {},
     "output_type": "execute_result"
    }
   ],
   "source": [
    "result[0]"
   ]
  },
  {
   "cell_type": "code",
   "execution_count": 74,
   "id": "ddb17439",
   "metadata": {
    "hidden": true
   },
   "outputs": [],
   "source": [
    "from sklearn.feature_extraction.text import CountVectorizer\n",
    "\n",
    "def calculate_bigram_statistic_with_smoothing(reviews):\n",
    "    # Step 1: Create a CountVectorizer instance for bigrams\n",
    "    vectorizer = CountVectorizer(min_df=10, ngram_range=(2, 2))\n",
    "\n",
    "    # Step 2: Fit the CountVectorizer with customer reviews\n",
    "    X = vectorizer.fit_transform(reviews)\n",
    "\n",
    "    # Step 3: Get the names of the features (bigrams) in the vocabulary\n",
    "    feature_names = vectorizer.get_feature_names_out()\n",
    "\n",
    "    # Step 4: Calculate the frequencies of bigram and individual words\n",
    "    bigram_frequencies = X.sum(axis=0).A1  # Get the sum of occurrences for each bigram\n",
    "\n",
    "    # Initialize dictionaries to store the frequencies of individual words\n",
    "    word1_frequencies = {}\n",
    "    word2_frequencies = {}\n",
    "\n",
    "    for feature_name, frequency in zip(feature_names, bigram_frequencies):\n",
    "        word1, word2 = feature_name.split(' ')\n",
    "        word1_frequencies[word1] = word1_frequencies.get(word1, 0) + frequency\n",
    "        word2_frequencies[word2] = word2_frequencies.get(word2, 0) + frequency\n",
    "\n",
    "    # Step 5: Calculate the statistic 𝑝(𝑤1𝑤2)/𝑝(𝑤1)𝑝(𝑤2) for each bigram with smoothing\n",
    "    alpha = 30  # Smoothing parameter (adjust as needed)\n",
    "    bigram_statistics_with_smoothing = {}\n",
    "\n",
    "    for feature_name, frequency in zip(feature_names, bigram_frequencies):\n",
    "        word1, word2 = feature_name.split(' ')\n",
    "        bigram_frequency_with_smoothing = frequency\n",
    "        word1_frequency_with_smoothing = word1_frequencies[word1] + alpha\n",
    "        word2_frequency_with_smoothing = word2_frequencies[word2] + alpha\n",
    "\n",
    "        statistic_with_smoothing = bigram_frequency_with_smoothing / (word1_frequency_with_smoothing * word2_frequency_with_smoothing)\n",
    "        bigram_statistics_with_smoothing[feature_name] = statistic_with_smoothing\n",
    "\n",
    "    # Step 6: Sort the bigrams by statistic with smoothing in descending order\n",
    "    sorted_bigrams_with_smoothing = sorted(bigram_statistics_with_smoothing.items(), key=lambda x: x[1], reverse=True)\n",
    "\n",
    "    return sorted_bigrams_with_smoothing[:100]  # Return the top 100 most significant bigrams with smoothing"
   ]
  },
  {
   "cell_type": "code",
   "execution_count": 72,
   "id": "887cec0b",
   "metadata": {
    "hidden": true,
    "scrolled": true
   },
   "outputs": [
    {
     "name": "stdout",
     "output_type": "stream",
     "text": [
      "['bradley ogden', 'cinema suites', 'identity crisis', 'va bene', 'lomo saltado', 'lechon kawali', 'scantily clad', 'chino bandido', 'kao tod', 'woody allen', 'cabo wabo', 'ropa vieja', 'artery clogging', 'adam richman', 'bi bim', 'emeril lagasse', 'gulab jamun', 'harry potter', 'knick knacks', 'vice versa', 'van buren', 'cien agaves', 'rula bula', 'ama ebi', 'cheeburger cheeburger', 'dean martin', 'feng shui', 'molecular gastronomy', 'si senor', 'womp womp', 'miller lite', 'rick moonen', 'itty bitty', 'lindo michoacan', 'malai kofta', 'mt everest', 'rogan josh', 'yada yada', 'casey moore', 'toby keith', 'fo sho', 'patatas bravas', 'pura vida', 'wal mart', 'cochinita pibil', 'valle luna', 'aloo gobi', 'dom demarco', 'haricot vert', 'krispy kreme', 'nanay gloria', 'tammie coe', 'tutti santi', 'woon sen', 'celiac disease', 'highway robbery', 'lloyd wright', 'nuoc mam', 'riff raff', 'yadda yadda', 'alain ducasse', 'dueling pianos', 'khai hoan', 'log cabin', 'nove italiano', 'shirley temple', 'har gow', 'peter piper', 'brain freeze', 'cedar plank', 'duct tape', 'goi cuon', 'himal chuli', 'porta alba', 'thirst quenching', 'wink wink', 'austin tx', 'baskin robbins', 'bim bap', 'frou frou', 'hoover dam', 'hu tieu', 'kierland commons', 'pin kaow', 'rad na', 'salo salo', 'taqueria guadalajara', 'val vista', 'kilt lifter', 'pina colada', 'bob marley', 'chicha morada', 'eek methinks', 'harley davidson', 'jamon iberico', 'reina pepiada', 'roka akor', 'woot woot', 'dac biet', 'johnny rockets']\n"
     ]
    }
   ],
   "source": [
    "top_bigrams = calculate_bigram_statistic_with_smoothing(result)\n",
    "\n",
    "first_items_list = [item[0] for item in top_bigrams]\n",
    "print(first_items_list)"
   ]
  },
  {
   "cell_type": "code",
   "execution_count": null,
   "id": "33b80cc3",
   "metadata": {
    "hidden": true,
    "slideshow": null
   },
   "outputs": [],
   "source": [
    "top100 = ['haricot vert'] * 100"
   ]
  },
  {
   "cell_type": "code",
   "execution_count": 73,
   "id": "b61ec7d9",
   "metadata": {
    "hidden": true,
    "slideshow": null
   },
   "outputs": [
    {
     "name": "stdout",
     "output_type": "stream",
     "text": [
      "==================\n",
      "Your score: 0.9100\n",
      "==================\n"
     ]
    }
   ],
   "source": [
    "grader.score('nlp__food_bigrams', first_items_list)"
   ]
  },
  {
   "cell_type": "markdown",
   "id": "3ef6fd99",
   "metadata": {
    "hidden": true,
    "slideshow": null
   },
   "source": [
    "*Copyright &copy; 2022 Pragmatic Institute. This content is licensed solely for personal use. Redistribution or publication of this material is strictly prohibited.*"
   ]
  }
 ],
 "metadata": {
  "kernelspec": {
   "display_name": "Python 3 (ipykernel)",
   "language": "python",
   "name": "python3"
  },
  "language_info": {
   "codemirror_mode": {
    "name": "ipython",
    "version": 3
   },
   "file_extension": ".py",
   "mimetype": "text/x-python",
   "name": "python",
   "nbconvert_exporter": "python",
   "pygments_lexer": "ipython3",
   "version": "3.9.13"
  },
  "nbclean": true
 },
 "nbformat": 4,
 "nbformat_minor": 5
}
