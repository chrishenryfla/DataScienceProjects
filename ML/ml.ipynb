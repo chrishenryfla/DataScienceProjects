{
 "cells": [
  {
   "cell_type": "code",
   "execution_count": 1,
   "id": "2c9930ba",
   "metadata": {
    "slideshow": null
   },
   "outputs": [],
   "source": [
    "import seaborn as sns\n",
    "sns.set()"
   ]
  },
  {
   "cell_type": "code",
   "execution_count": 1,
   "id": "3c410baf",
   "metadata": {
    "slideshow": null
   },
   "outputs": [],
   "source": [
    "from static_grader import grader"
   ]
  },
  {
   "cell_type": "markdown",
   "id": "8f949541",
   "metadata": {
    "slideshow": null
   },
   "source": [
    "# ML: Predicting Star Ratings\n"
   ]
  },
  {
   "cell_type": "markdown",
   "id": "07a6e8d0",
   "metadata": {
    "slideshow": null
   },
   "source": [
    "Our objective is to predict a new venue's popularity from information available when the venue opens.  We will do this by machine learning from a data set of venue popularities provided by Yelp.  The data set contains meta data about the venue (where it is located, the type of food served, etc.).  It also contains a star rating. Note that the venues are not limited to restaurants. This tutorial will walk you through one way to build a machine learning algorithm.\n"
   ]
  },
  {
   "cell_type": "markdown",
   "id": "625fd637",
   "metadata": {
    "slideshow": null
   },
   "source": [
    "For most questions, you are asked to submit your models `predict` method to the grader. The grader uses a test set to evaluate your model's performance against our reference solution, using the $R^2$ score. It **is** possible to receive a score greater than one, indicating that you've beaten our reference model. We compare our model's score on a test set to your score on the same test set. See how high you can go!"
   ]
  },
  {
   "cell_type": "markdown",
   "id": "a5fe8953",
   "metadata": {
    "slideshow": null
   },
   "source": [
    "## Download and parse the incoming data\n"
   ]
  },
  {
   "cell_type": "markdown",
   "id": "84329c18",
   "metadata": {
    "slideshow": null
   },
   "source": [
    "We start by downloading the data set from Amazon S3:"
   ]
  },
  {
   "cell_type": "code",
   "execution_count": 2,
   "id": "51c6044c",
   "metadata": {
    "slideshow": null
   },
   "outputs": [],
   "source": [
    "!aws s3 sync s3://dataincubator-course/mldata/ . --exclude '*' --include 'yelp_train_academic_dataset_business.json.gz'"
   ]
  },
  {
   "cell_type": "markdown",
   "id": "0c3c81b9",
   "metadata": {
    "slideshow": null
   },
   "source": [
    "The training data are a series of JSON objects, in a Gzipped file. Python supports Gzipped files natively: [`gzip.open`](https://docs.python.org/3/library/gzip.html) has the same interface as `open`, but handles `.gz` files automatically.\n",
    "\n",
    "The built-in `json` package has a `loads` function that converts a JSON string into a Python dictionary. We could call that once for each row of the file. [`ujson`](http://docs.micropython.org/en/latest/library/ujson.html) has the same interface as the built-in `json` package, but is *substantially* faster (at the cost of non-robust handling of malformed JSON). We will use that inside a list comprehension to get a list of dictionaries:"
   ]
  },
  {
   "cell_type": "code",
   "execution_count": 3,
   "id": "555fd10d",
   "metadata": {
    "slideshow": null
   },
   "outputs": [],
   "source": [
    "import ujson as json\n",
    "import gzip\n",
    "\n",
    "with gzip.open('yelp_train_academic_dataset_business.json.gz') as f:\n",
    "    data = [json.loads(line) for line in f]"
   ]
  },
  {
   "cell_type": "code",
   "execution_count": 5,
   "id": "84828b73",
   "metadata": {},
   "outputs": [
    {
     "data": {
      "text/plain": [
       "{'business_id': 'FiiNtpF1GW0aSzW7Af0TdA',\n",
       " 'full_address': '7810 S. Priest Drive Suite D\\nTempe, AZ 85284',\n",
       " 'hours': {'Monday': {'close': '23:00', 'open': '04:30'},\n",
       "  'Tuesday': {'close': '23:00', 'open': '04:30'},\n",
       "  'Friday': {'close': '22:00', 'open': '04:30'},\n",
       "  'Wednesday': {'close': '23:00', 'open': '04:30'},\n",
       "  'Thursday': {'close': '23:00', 'open': '04:30'},\n",
       "  'Sunday': {'close': '20:00', 'open': '07:00'},\n",
       "  'Saturday': {'close': '20:00', 'open': '07:00'}},\n",
       " 'open': True,\n",
       " 'categories': ['Active Life', 'Gyms', 'Trainers', 'Fitness & Instruction'],\n",
       " 'city': 'Tempe',\n",
       " 'review_count': 8,\n",
       " 'name': 'LA Fitness',\n",
       " 'neighborhoods': [],\n",
       " 'longitude': -111.9631388,\n",
       " 'state': 'AZ',\n",
       " 'stars': 2.5,\n",
       " 'latitude': 33.3453944,\n",
       " 'attributes': {'Good for Kids': True},\n",
       " 'type': 'business'}"
      ]
     },
     "execution_count": 5,
     "metadata": {},
     "output_type": "execute_result"
    }
   ],
   "source": [
    "data[3700]"
   ]
  },
  {
   "cell_type": "markdown",
   "id": "cda87f47",
   "metadata": {
    "slideshow": null
   },
   "source": [
    "In scikit-learn, the labels to be predicted, in this case, the stars, are always kept in a separate data structure than the features. Let's get in this habit now, by creating a separate list of the ratings."
   ]
  },
  {
   "cell_type": "code",
   "execution_count": 4,
   "id": "62a9e50d",
   "metadata": {
    "slideshow": null
   },
   "outputs": [],
   "source": [
    "star_ratings = [row['stars'] for row in data]"
   ]
  },
  {
   "cell_type": "markdown",
   "id": "569bc903",
   "metadata": {
    "slideshow": null
   },
   "source": [
    "A few things to consider:"
   ]
  },
  {
   "cell_type": "markdown",
   "id": "56ed8f49",
   "metadata": {
    "slideshow": null
   },
   "source": [
    "1. The test set used by the grader will be in the same form as `data`. For this miniproject, it will be a list of dictionaries. The models you will build will need to handle data of this type; we'll discuss this more further in the questions.\n",
    "1. You may find it useful to serialize your trained model using either [`dill`](https://pypi.python.org/pypi/dill) or [`joblib`](http://scikit-learn.org/stable/modules/model_persistence.html). That way, you can reload your model after restarting the Jupyter notebook without needing to retrain it.\n",
    "1. There are obvious mistakes in the data; there is no need to try to correct them."
   ]
  },
  {
   "cell_type": "markdown",
   "id": "804213b7",
   "metadata": {
    "slideshow": null
   },
   "source": [
    "# Questions\n"
   ]
  },
  {
   "cell_type": "markdown",
   "id": "9a96582f",
   "metadata": {
    "slideshow": null
   },
   "source": [
    "## Question 1: city_avg"
   ]
  },
  {
   "cell_type": "markdown",
   "id": "5ee951ca",
   "metadata": {
    "slideshow": null
   },
   "source": [
    "The venues belong to different cities.  You can imagine that the ratings in some cities are probably higher than others.  We wish to build an estimator to make a prediction based on this, but first we need to work out the average rating for each city.  For this problem, create a list of tuples (city name, star rating), one for each city in the data set. There are many ways to do this; please feel free to experiment on your own.  If you get stuck, the steps below attempt to guide you through the process.\n",
    "\n",
    "A simple approach is to go through all of the dictionaries in our array, calculating the sum of the star ratings and the number of venues for each city. At the end, we can just divide the stars by the count to get the average. We could create a separate sum and count variable for each city, but that will get tedious quickly. A better approach is to create a dictionary for each. The key will be the city name, and the value the running sum or running count.\n",
    "\n",
    "One slight annoyance of this approach is that we will have to test whether a key exists in the dictionary before adding to the running tally.  The `collections` module's `defaultdict` class works around this by providing default values for keys that haven't been used. Thus, if we do"
   ]
  },
  {
   "cell_type": "code",
   "execution_count": 7,
   "id": "e53e6650",
   "metadata": {
    "scrolled": true
   },
   "outputs": [],
   "source": [
    "city_ratings = [(d['city'], d['stars']) for d in data]\n",
    "\n",
    "#print(city_ratings)"
   ]
  },
  {
   "cell_type": "code",
   "execution_count": 8,
   "id": "841bfc06",
   "metadata": {},
   "outputs": [
    {
     "name": "stdout",
     "output_type": "stream",
     "text": [
      "167\n"
     ]
    }
   ],
   "source": [
    "from collections import defaultdict\n",
    "city_stars_sum = defaultdict(int)\n",
    "city_counts = defaultdict(int)\n",
    "\n",
    "for dictionary in data:\n",
    "    city = dictionary['city']\n",
    "    stars = dictionary['stars']\n",
    "    city_stars_sum[city] += stars\n",
    "    city_counts[city] += 1\n",
    "\n",
    "city_averages = {}\n",
    "\n",
    "for city, stars_sum in city_stars_sum.items():\n",
    "    count = city_counts[city]\n",
    "    average = stars_sum / count\n",
    "    city_averages[city] = average\n",
    "\n",
    "print(len(city_averages))"
   ]
  },
  {
   "cell_type": "markdown",
   "id": "bcedfb62",
   "metadata": {
    "slideshow": null
   },
   "source": [
    "we can increment any key of `star_sum` or `count` without first worrying whether the key exists. We need to go through the `data` and `star_ratings` list together, which we can do with the `zip` function."
   ]
  },
  {
   "cell_type": "markdown",
   "id": "5c77693a",
   "metadata": {
    "slideshow": null
   },
   "source": [
    "Now we can calculate the average ratings.  Again, a dictionary makes a good container."
   ]
  },
  {
   "cell_type": "markdown",
   "id": "ab4c5551",
   "metadata": {
    "slideshow": null
   },
   "source": [
    "There should be 167 different cities:"
   ]
  },
  {
   "cell_type": "code",
   "execution_count": 9,
   "id": "309195eb",
   "metadata": {
    "slideshow": null
   },
   "outputs": [
    {
     "data": {
      "text/plain": [
       "True"
      ]
     },
     "execution_count": 9,
     "metadata": {},
     "output_type": "execute_result"
    }
   ],
   "source": [
    "# Check to see that we have 167 entries in the dictionary.\n",
    "grader.check(len(city_averages) == 167)"
   ]
  },
  {
   "cell_type": "markdown",
   "id": "84928ee4",
   "metadata": {
    "slideshow": null
   },
   "source": [
    "We can get that list of tuples by converting the returned view object from the `items` method into a list."
   ]
  },
  {
   "cell_type": "code",
   "execution_count": 10,
   "id": "24525bd4",
   "metadata": {},
   "outputs": [],
   "source": [
    "avg_stars = city_averages"
   ]
  },
  {
   "cell_type": "code",
   "execution_count": 11,
   "id": "7161cc64",
   "metadata": {
    "slideshow": null
   },
   "outputs": [
    {
     "name": "stdout",
     "output_type": "stream",
     "text": [
      "==================\n",
      "Your score: 1.0000\n",
      "==================\n"
     ]
    }
   ],
   "source": [
    "grader.score('ml__city_avg', list(avg_stars.items()))"
   ]
  },
  {
   "cell_type": "markdown",
   "id": "76bf7fc2",
   "metadata": {
    "slideshow": null
   },
   "source": [
    "## Question 2: city_model"
   ]
  },
  {
   "cell_type": "markdown",
   "id": "c0472572",
   "metadata": {
    "slideshow": null
   },
   "source": [
    "Now, let's build a custom estimator that will make a prediction based solely on the city of a venue.  It is tempting to hard-code the answers from the previous section into this model, but we're going to resist and do things properly.\n",
    "\n",
    "This custom estimator will have a `fit` method.  It will receive `data` as its argument `X` and `star_ratings` as `y`, and should repeat the calculation of the previous problem there.  Then the `predict` method can look up the average rating for the city of each record it receives."
   ]
  },
  {
   "cell_type": "code",
   "execution_count": 46,
   "id": "d5e2d7e3",
   "metadata": {},
   "outputs": [],
   "source": [
    "from sklearn.base import BaseEstimator, RegressorMixin\n",
    "\n",
    "class CityRegressor(BaseEstimator, RegressorMixin):\n",
    "    def __init__(self):\n",
    "        self.city_ratings = {}\n",
    "\n",
    "    def fit(self, X, y): # Store the average rating per city in self.avg_stars\n",
    "        for row, rating in zip(X, y):\n",
    "            city = row['city']\n",
    "            if city not in self.city_ratings:\n",
    "                self.city_ratings[city] = []\n",
    "            self.city_ratings[city].append(rating)\n",
    "\n",
    "    def predict(self, X):\n",
    "        predictions = []\n",
    "        for row in X:\n",
    "            city = row['city']\n",
    "            if city in self.city_ratings:\n",
    "                ratings = self.city_ratings[city]\n",
    "                average_rating = sum(ratings) / len(ratings)\n",
    "                predictions.append(average_rating)\n",
    "            else:\n",
    "                # If city is not seen during training, return a default value or raise an exception\n",
    "                predictions.append(3.5)  # Default value\n",
    "        return predictions"
   ]
  },
  {
   "cell_type": "markdown",
   "id": "b4b2ef21",
   "metadata": {
    "slideshow": null
   },
   "source": [
    "Now we can create an instance of our regressor and train it."
   ]
  },
  {
   "cell_type": "code",
   "execution_count": 13,
   "id": "c4c4ab89",
   "metadata": {},
   "outputs": [
    {
     "data": {
      "text/plain": [
       "{'Phoenix': 3.6702903946388683,\n",
       " 'De Forest': 3.75,\n",
       " 'Mc Farland': 3.1,\n",
       " 'Middleton': 3.611111111111111,\n",
       " 'Madison': 3.6457337883959045,\n",
       " 'Sun Prairie': 3.455223880597015,\n",
       " 'Windsor': 3.5,\n",
       " 'Monona': 3.4727272727272727,\n",
       " 'Chandler': 3.667574931880109,\n",
       " 'Scottsdale': 3.8206757594544327,\n",
       " 'Tempe': 3.644621295279912,\n",
       " 'Florence': 3.6176470588235294,\n",
       " 'Peoria': 3.6388367729831144,\n",
       " 'Glendale': 3.607404021937843,\n",
       " 'Cave Creek': 3.9122137404580153,\n",
       " 'Paradise Valley': 3.6690140845070425,\n",
       " 'Mesa': 3.5901461829994585,\n",
       " 'Ahwatukee': 3.6875,\n",
       " 'Pheonix': 3.0,\n",
       " 'Anthem': 3.7818181818181817,\n",
       " 'Gilbert': 3.752396166134185,\n",
       " 'Gold Canyon': 3.5,\n",
       " 'Apache Junction': 3.6375,\n",
       " 'Goldfield': 3.5,\n",
       " 'Casa Grande': 3.5172413793103448,\n",
       " 'Coolidge': 3.4375,\n",
       " 'Higley': 3.5,\n",
       " 'Queen Creek': 3.6456043956043955,\n",
       " 'Sun Lakes': 3.2222222222222223,\n",
       " 'Goodyear': 3.5313653136531364,\n",
       " 'Fort Mcdowell': 4.0,\n",
       " 'Fountain Hills': 3.7904761904761903,\n",
       " 'Fountain Hls': 3.0,\n",
       " 'Maricopa': 3.52,\n",
       " 'chandler': 5.0,\n",
       " 'Buckeye': 3.408450704225352,\n",
       " 'Litchfield Park': 3.7,\n",
       " 'Tonopah': 3.75,\n",
       " 'Surprise': 3.5758426966292136,\n",
       " 'Wickenburg': 3.6555555555555554,\n",
       " 'Sedona': 3.5,\n",
       " 'Henderson': 3.6879310344827587,\n",
       " 'Las Vegas': 3.651368537461985,\n",
       " 'North Las Vegas': 3.4460043196544277,\n",
       " 'N Las Vegas': 3.5625,\n",
       " 'N. Las Vegas': 3.25,\n",
       " 'C Las Vegas': 3.0,\n",
       " 'Sunrise': 3.0,\n",
       " 'Las Vegas ': 3.6,\n",
       " 'Cottage Grove': 3.2222222222222223,\n",
       " 'Dane': 4.25,\n",
       " 'Fitchburg': 3.4634146341463414,\n",
       " 'Stoughton': 3.75,\n",
       " 'Verona': 3.8548387096774195,\n",
       " 'Waunakee': 3.3333333333333335,\n",
       " 'Trempealeau': 4.0,\n",
       " 'New River': 3.5833333333333335,\n",
       " 'Avondale': 3.53862660944206,\n",
       " 'Rio Verde': 4.0,\n",
       " 'Guadalupe': 4.0,\n",
       " 'El Mirage': 3.7,\n",
       " 'Sun City': 3.55,\n",
       " 'Tolleson': 3.2291666666666665,\n",
       " 'Carefree': 3.888888888888889,\n",
       " 'Gila Bend': 3.375,\n",
       " 'Laveen': 3.3392857142857144,\n",
       " 'Youngtown': 3.857142857142857,\n",
       " 'Sun City West': 3.625,\n",
       " 'Boulder City': 4.136363636363637,\n",
       " 'Nellis Air Force Base': 3.0,\n",
       " 'Nellis AFB': 4.222222222222222,\n",
       " 'Green Valley': 4.0,\n",
       " 'North Scottsdale': 4.0,\n",
       " 'Litchfield Park ': 4.5,\n",
       " 'Nellis Afb': 3.25,\n",
       " 'Summerlin': 4.0,\n",
       " 'San Tan Valley': 3.870967741935484,\n",
       " 'Tortilla Flat': 4.166666666666667,\n",
       " 'Mesa ': 3.0,\n",
       " 'Fort McDowell': 3.357142857142857,\n",
       " 'Morristown': 3.5,\n",
       " 'Waddell': 3.8333333333333335,\n",
       " 'W Henderson': 3.5,\n",
       " 'Las Vegas, NV 89147': 2.5,\n",
       " 'Las Vegas East': 4.5,\n",
       " 'DeForest': 4.1,\n",
       " 'Paradise': 3.46875,\n",
       " 'Stanfield': 3.5,\n",
       " 'Atlanta': 3.5,\n",
       " 'Newberry Springs': 3.5,\n",
       " 'St Clements': 4.5,\n",
       " 'Waterloo': 3.6054421768707483,\n",
       " 'Kitchener': 3.6982758620689653,\n",
       " 'Cambridge': 4.2,\n",
       " 'Edinburgh': 3.7963391136801543,\n",
       " 'Musselburgh': 3.55,\n",
       " 'South Queensferry': 3.9,\n",
       " 'Roslin': 4.5,\n",
       " 'Dalkeith': 4.333333333333333,\n",
       " 'Loanhead': 3.8,\n",
       " 'Lasswade': 3.3333333333333335,\n",
       " 'Penicuik': 4.0,\n",
       " 'Bonnyrigg': 3.75,\n",
       " 'Ratho': 3.0,\n",
       " 'St Jacobs': 3.5,\n",
       " 'Arcadia': 5.0,\n",
       " 'Tonto Basin': 3.8333333333333335,\n",
       " 'Queensferry': 3.8333333333333335,\n",
       " 'Spring Valley': 3.5,\n",
       " 'Enterprise': 3.2222222222222223,\n",
       " 'McFarland': 4.4,\n",
       " 'Rochester': 5.0,\n",
       " 'North Las Vegas ': 3.5,\n",
       " 'N E Las Vegas': 5.0,\n",
       " 'N W Las Vegas': 3.5,\n",
       " 'Heidelberg': 2.5,\n",
       " 'Central Henderson': 3.5,\n",
       " 'Saguaro Lake': 3.0,\n",
       " 'Cramond': 4.25,\n",
       " 'Leith': 4.0,\n",
       " 'W Spring Valley': 3.0,\n",
       " 'North Queensferry': 3.5,\n",
       " 'Inverkeithing': 3.0,\n",
       " 'Portobello': 3.75,\n",
       " 'Water of Leith': 4.5,\n",
       " 'Centennial Hills': 3.0,\n",
       " 'Woolwich': 4.25,\n",
       " 'Victoria Park': 4.5,\n",
       " 'Juniper Green': 3.8333333333333335,\n",
       " 'W Summerlin': 3.5,\n",
       " 'Lake Las Vegas': 4.5,\n",
       " 'Henderson ': 4.0,\n",
       " 'Straiton': 2.5,\n",
       " 'Deforest': 5.0,\n",
       " 'Summerlin South': 3.25,\n",
       " 'Sun City Anthem': 3.0,\n",
       " 'Clark County': 3.0,\n",
       " 'Phoenix ': 1.0,\n",
       " 'Glendale Az': 4.0,\n",
       " 'Mcfarland': 3.5,\n",
       " 'Newbridge': 4.5,\n",
       " 'Sunrise Manor': 3.0,\n",
       " 'Midlothian': 4.5,\n",
       " 'Henderson and Las vegas': 4.0,\n",
       " 'NELLIS AFB': 4.5,\n",
       " 'Surprise Crossing': 4.5,\n",
       " 'South Las Vegas': 4.5,\n",
       " 'Black Canyon City': 3.0,\n",
       " 'Fort Kinnaird': 4.5,\n",
       " 'Chandler-Gilbert': 5.0,\n",
       " 'Phoenix Sky Harbor Center': 3.5,\n",
       " 'Eagan': 5.0,\n",
       " 'Stockbridge': 4.5,\n",
       " 'New York': 5.0,\n",
       " 'City of Edinburgh': 3.0,\n",
       " 'South Gyle': 2.5,\n",
       " 'Central City Village': 3.125,\n",
       " 'New Town': 3.6666666666666665,\n",
       " 'Scotland': 3.5,\n",
       " 'London': 3.0,\n",
       " 'Whitney': 4.5,\n",
       " 'St. Jacobs': 4.5,\n",
       " 'Old Town': 4.0,\n",
       " 'Newington': 3.0,\n",
       " 'Scottsdale, Phoenix, Chandler, Gilbert': 5.0,\n",
       " 'Henderson (Stephanie)': 4.0,\n",
       " 'Henderson (Green  Valley)': 4.0}"
      ]
     },
     "execution_count": 13,
     "metadata": {},
     "output_type": "execute_result"
    }
   ],
   "source": [
    "city_averages"
   ]
  },
  {
   "cell_type": "code",
   "execution_count": 47,
   "id": "39e38f7f",
   "metadata": {
    "slideshow": null
   },
   "outputs": [],
   "source": [
    "city_model = CityRegressor()\n",
    "#city_model.fit(data, star_ratings)"
   ]
  },
  {
   "cell_type": "markdown",
   "id": "704029ac",
   "metadata": {
    "slideshow": null
   },
   "source": [
    "And let's see if it works."
   ]
  },
  {
   "cell_type": "code",
   "execution_count": 15,
   "id": "a6a2776e",
   "metadata": {
    "slideshow": null
   },
   "outputs": [
    {
     "data": {
      "text/plain": [
       "[3.6702903946388683, 3.75, 3.75, 3.75, 3.75]"
      ]
     },
     "execution_count": 15,
     "metadata": {},
     "output_type": "execute_result"
    }
   ],
   "source": [
    "city_model.predict(data[:5])"
   ]
  },
  {
   "cell_type": "markdown",
   "id": "6a2b8633",
   "metadata": {
    "slideshow": null
   },
   "source": [
    "There is a problem, however.  What happens if we're asked to estimate the rating of a venue in a city that's not in our training set?"
   ]
  },
  {
   "cell_type": "code",
   "execution_count": 16,
   "id": "147890b2",
   "metadata": {
    "slideshow": null
   },
   "outputs": [
    {
     "data": {
      "text/plain": [
       "[3.6702903946388683, 3.5, 3.6457337883959045]"
      ]
     },
     "execution_count": 16,
     "metadata": {},
     "output_type": "execute_result"
    }
   ],
   "source": [
    "city_model.predict([{'city': 'Phoenix'}, {'city': 'Timbuktu'}, {'city': 'Madison'}])"
   ]
  },
  {
   "cell_type": "markdown",
   "id": "bfc1b09b",
   "metadata": {
    "slideshow": null
   },
   "source": [
    "Your model should always return a number, even if the city was not in the training data. Make sure it does before submitting your model's predict method to the grader."
   ]
  },
  {
   "cell_type": "code",
   "execution_count": 17,
   "id": "d3026997",
   "metadata": {
    "slideshow": null
   },
   "outputs": [
    {
     "name": "stdout",
     "output_type": "stream",
     "text": [
      "==================\n",
      "Your score: 1.0000\n",
      "==================\n"
     ]
    }
   ],
   "source": [
    "grader.score('ml__city_model', city_model.predict)"
   ]
  },
  {
   "cell_type": "markdown",
   "id": "e8ad666f",
   "metadata": {
    "slideshow": null
   },
   "source": [
    "## Question 3: lat_long_model"
   ]
  },
  {
   "cell_type": "markdown",
   "id": "e886d047",
   "metadata": {
    "slideshow": null
   },
   "source": [
    "You can imagine that a city-based model might not be sufficiently fine-grained. For example, we know that some neighborhoods are trendier than others.  Use the latitude and longitude of a venue as features that help you understand neighborhood dynamics.\n",
    "\n",
    "Since we need to select the appropriate columns from our dictionaries to build our latitude-longitude model, we will have to use scikit-learn's [`ColumnTransformer`](https://scikit-learn.org/stable/modules/generated/sklearn.compose.ColumnTransformer.html). However, the `ColumnTransformer` works with either NumPy arrays or pandas data frames. While we can convert our training data into a data frame easily, the test set the grader uses is a list of dictionaries. Thus, our first estimator in our workflow should be a transformer that converts a list of dictionaries into a pandas data frame."
   ]
  },
  {
   "cell_type": "code",
   "execution_count": 82,
   "id": "bac4a211",
   "metadata": {
    "slideshow": null
   },
   "outputs": [],
   "source": [
    "import pandas as pd\n",
    "from sklearn.base import TransformerMixin\n",
    "from sklearn.base import BaseEstimator\n",
    "\n",
    "#this tells us how to make an object\n",
    "class ToDataFrame(BaseEstimator, TransformerMixin):\n",
    "    def fit(self, X, y=None):\n",
    "        # This transformer doesn't need to learn anything about the data,\n",
    "        # so it can just return self without any further processing\n",
    "        return self\n",
    "    \n",
    "    def transform(self, X):\n",
    "        #here we use X as a variable that represents a list of dictionaries\n",
    "        Z = pd.DataFrame(X) \n",
    "        return Z\n",
    "        # Return a pandas data frame from X"
   ]
  },
  {
   "cell_type": "code",
   "execution_count": 83,
   "id": "9c7ad9e2",
   "metadata": {},
   "outputs": [],
   "source": [
    "X = pd.DataFrame(data)"
   ]
  },
  {
   "cell_type": "markdown",
   "id": "edbe5dcf",
   "metadata": {
    "slideshow": null
   },
   "source": [
    "Let's test out the transformer."
   ]
  },
  {
   "cell_type": "code",
   "execution_count": 84,
   "id": "0eac9412",
   "metadata": {
    "slideshow": null
   },
   "outputs": [
    {
     "data": {
      "text/plain": [
       "True"
      ]
     },
     "execution_count": 84,
     "metadata": {},
     "output_type": "execute_result"
    }
   ],
   "source": [
    "#making a instance(to_data_frame) of the class(ToDataFrame())\n",
    "to_data_frame = ToDataFrame()\n",
    "X_t = to_data_frame.fit_transform(data[:5])\n",
    "\n",
    "# Check that our transformer properly transform the input data into a data frame\n",
    "grader.check((X_t == pd.DataFrame(data[:5])).all(axis=None))"
   ]
  },
  {
   "cell_type": "markdown",
   "id": "60b7367d",
   "metadata": {
    "slideshow": null
   },
   "source": [
    "Now we are ready to use `ColumnTransformer` and test it out."
   ]
  },
  {
   "cell_type": "code",
   "execution_count": 89,
   "id": "263367c4",
   "metadata": {
    "slideshow": null
   },
   "outputs": [
    {
     "data": {
      "text/plain": [
       "True"
      ]
     },
     "execution_count": 89,
     "metadata": {},
     "output_type": "execute_result"
    }
   ],
   "source": [
    "import numpy as np\n",
    "from sklearn.compose import ColumnTransformer\n",
    "\n",
    "selected_columns = ['latitude', 'longitude']\n",
    "ct = ColumnTransformer(\n",
    "    transformers=[(\"latlon\", 'passthrough', selected_columns)])\n",
    "\n",
    "expected = np.array([data[0]['latitude'], data[0]['longitude']])\n",
    "\n",
    "# Check that our selector returns just two columns, the latitude and longitude\n",
    "grader.check((ct.fit_transform(X)[0] == expected).all())"
   ]
  },
  {
   "cell_type": "markdown",
   "id": "721d1b9e",
   "metadata": {
    "slideshow": null
   },
   "source": [
    "Now, let's feed the output of the transformer in to a `KNeighborsRegressor`. As a sanity check, we'll test it with the first 5 rows."
   ]
  },
  {
   "cell_type": "code",
   "execution_count": 90,
   "id": "3c57396e",
   "metadata": {
    "slideshow": null
   },
   "outputs": [
    {
     "data": {
      "text/plain": [
       "array([4. , 4.2, 4. , 3.8, 4.2])"
      ]
     },
     "execution_count": 90,
     "metadata": {},
     "output_type": "execute_result"
    }
   ],
   "source": [
    "from sklearn.neighbors import KNeighborsRegressor\n",
    "\n",
    "# Training the model\n",
    "data_transform = to_data_frame.transform(data)\n",
    "data_transform = selector.fit_transform(data_transform)\n",
    "knn = KNeighborsRegressor(n_neighbors=5)\n",
    "knn.fit(data_transform, star_ratings)\n",
    "\n",
    "# Making predictions\n",
    "test_data = data[:5]\n",
    "test_data_transform = to_data_frame.transform(test_data)\n",
    "test_data_transform = selector.transform(test_data_transform)\n",
    "knn.predict(test_data_transform)"
   ]
  },
  {
   "cell_type": "markdown",
   "id": "48da59ed",
   "metadata": {
    "slideshow": null
   },
   "source": [
    "We are not ready to submit to the grader; there are two things we still need to do:\n",
    "1. Wrap all the steps necessary to go from our data (list of dictionaries) to predicted ratings\n",
    "1. Determine the optimal value for our predictor's hyperparameter\n",
    "\n",
    "For the first point, we will use a pipeline, ensuring that our model applies all the required transformations given the form of the input data. Remember that a pipeline is made with a list of `(step_name, estimator)` tuples."
   ]
  },
  {
   "cell_type": "code",
   "execution_count": 91,
   "id": "e1473bbb",
   "metadata": {},
   "outputs": [],
   "source": [
    "#make pipeline with the two custom predictors, pass the instance, not the class\n",
    "#pipeline takes on the function of the item\n",
    "from sklearn.pipeline import Pipeline\n",
    "\n",
    "pipe = Pipeline([\n",
    "        (\"df_trans\", to_data_frame),\n",
    "        (\"col_trans\", ct),\n",
    "        (\"knn\", knn)\n",
    "])"
   ]
  },
  {
   "cell_type": "markdown",
   "id": "0f255ec7",
   "metadata": {
    "slideshow": null
   },
   "source": [
    "Now let's fit and predict."
   ]
  },
  {
   "cell_type": "code",
   "execution_count": 92,
   "id": "cb6d4a3a",
   "metadata": {
    "slideshow": null
   },
   "outputs": [
    {
     "data": {
      "text/plain": [
       "array([4. , 4.2, 4. , 3.8, 4.2])"
      ]
     },
     "execution_count": 92,
     "metadata": {},
     "output_type": "execute_result"
    }
   ],
   "source": [
    "pipe.fit(data, star_ratings)\n",
    "pipe.predict(data[:5])"
   ]
  },
  {
   "cell_type": "markdown",
   "id": "97cf4c5b",
   "metadata": {
    "slideshow": null
   },
   "source": [
    "Let's now focus on the second point. The `KNeighborsRegressor` takes the `n_neighbors` hyperparameter, which tells it how many nearest neighbors to average together when making a prediction. There is no reason to believe that 5 is the optimum value. We will need to determine a better value for this hyperparameter. A common approach is to use a hyperparameter searching tool such as [`GridSearchCV`](http://scikit-learn.org/stable/modules/generated/sklearn.model_selection.GridSearchCV.html#sklearn.model_selection.GridSearchCV). You may need to refer back to the notebooks about the ways to interface searching tools and pipelines."
   ]
  },
  {
   "cell_type": "markdown",
   "id": "459c801b",
   "metadata": {
    "slideshow": null
   },
   "source": [
    "You should consider whether the data needs to be shuffled as it might not have been randomized. For example, the data could be ordered by a certain feature or by the labels. If you perform a train/test split with [`train_test_split`](http://scikit-learn.org/stable/modules/generated/sklearn.model_selection.train_test_split.html#sklearn.model_selection.train_test_split), the data is shuffled by default. However, when using `GridSearchCV`, the folds are not shuffled when you use the default K-folds cross-validation.\n",
    "\n",
    "The code below will plot a rolling mean of the star ratings. Do you need to shuffle the data?"
   ]
  },
  {
   "cell_type": "code",
   "execution_count": 26,
   "id": "28302475",
   "metadata": {
    "slideshow": null
   },
   "outputs": [],
   "source": [
    "from pandas import Series\n",
    "import matplotlib.pyplot as plt\n",
    "\n",
    "#plt.plot(Series.rolling(Series(star_ratings), window=1000).mean());"
   ]
  },
  {
   "cell_type": "markdown",
   "id": "d36bbf86",
   "metadata": {
    "slideshow": null
   },
   "source": [
    "Once you've found a good value of `n_neighbors`, submit the model to the grader. Note, \"good\" is a relative measure here. The reference solution has an $R^2$ score of only 0.02. There is just rather little signal available for modeling."
   ]
  },
  {
   "cell_type": "code",
   "execution_count": 24,
   "id": "7a21f0b4",
   "metadata": {
    "slideshow": null
   },
   "outputs": [],
   "source": [
    "#will allow you to shuffle feature matrix and star_ratings label vec\n",
    "from sklearn.utils import shuffle\n",
    "\n",
    "#shuffle data to better predict\n",
    "shuff_data,shuff_ratings = shuffle(data, star_ratings)\n",
    "\n",
    "#check this again with shuffled labels\n",
    "#plt.plot(Series.rolling(Series(shuff_ratings), window=1000).mean());"
   ]
  },
  {
   "cell_type": "code",
   "execution_count": 28,
   "id": "1802424e",
   "metadata": {},
   "outputs": [],
   "source": [
    "#pd.DataFrame(shuff_data)"
   ]
  },
  {
   "cell_type": "code",
   "execution_count": 93,
   "id": "2f28c45b",
   "metadata": {},
   "outputs": [
    {
     "data": {
      "text/html": [
       "<style>#sk-container-id-12 {color: black;background-color: white;}#sk-container-id-12 pre{padding: 0;}#sk-container-id-12 div.sk-toggleable {background-color: white;}#sk-container-id-12 label.sk-toggleable__label {cursor: pointer;display: block;width: 100%;margin-bottom: 0;padding: 0.3em;box-sizing: border-box;text-align: center;}#sk-container-id-12 label.sk-toggleable__label-arrow:before {content: \"▸\";float: left;margin-right: 0.25em;color: #696969;}#sk-container-id-12 label.sk-toggleable__label-arrow:hover:before {color: black;}#sk-container-id-12 div.sk-estimator:hover label.sk-toggleable__label-arrow:before {color: black;}#sk-container-id-12 div.sk-toggleable__content {max-height: 0;max-width: 0;overflow: hidden;text-align: left;background-color: #f0f8ff;}#sk-container-id-12 div.sk-toggleable__content pre {margin: 0.2em;color: black;border-radius: 0.25em;background-color: #f0f8ff;}#sk-container-id-12 input.sk-toggleable__control:checked~div.sk-toggleable__content {max-height: 200px;max-width: 100%;overflow: auto;}#sk-container-id-12 input.sk-toggleable__control:checked~label.sk-toggleable__label-arrow:before {content: \"▾\";}#sk-container-id-12 div.sk-estimator input.sk-toggleable__control:checked~label.sk-toggleable__label {background-color: #d4ebff;}#sk-container-id-12 div.sk-label input.sk-toggleable__control:checked~label.sk-toggleable__label {background-color: #d4ebff;}#sk-container-id-12 input.sk-hidden--visually {border: 0;clip: rect(1px 1px 1px 1px);clip: rect(1px, 1px, 1px, 1px);height: 1px;margin: -1px;overflow: hidden;padding: 0;position: absolute;width: 1px;}#sk-container-id-12 div.sk-estimator {font-family: monospace;background-color: #f0f8ff;border: 1px dotted black;border-radius: 0.25em;box-sizing: border-box;margin-bottom: 0.5em;}#sk-container-id-12 div.sk-estimator:hover {background-color: #d4ebff;}#sk-container-id-12 div.sk-parallel-item::after {content: \"\";width: 100%;border-bottom: 1px solid gray;flex-grow: 1;}#sk-container-id-12 div.sk-label:hover label.sk-toggleable__label {background-color: #d4ebff;}#sk-container-id-12 div.sk-serial::before {content: \"\";position: absolute;border-left: 1px solid gray;box-sizing: border-box;top: 0;bottom: 0;left: 50%;z-index: 0;}#sk-container-id-12 div.sk-serial {display: flex;flex-direction: column;align-items: center;background-color: white;padding-right: 0.2em;padding-left: 0.2em;position: relative;}#sk-container-id-12 div.sk-item {position: relative;z-index: 1;}#sk-container-id-12 div.sk-parallel {display: flex;align-items: stretch;justify-content: center;background-color: white;position: relative;}#sk-container-id-12 div.sk-item::before, #sk-container-id-12 div.sk-parallel-item::before {content: \"\";position: absolute;border-left: 1px solid gray;box-sizing: border-box;top: 0;bottom: 0;left: 50%;z-index: -1;}#sk-container-id-12 div.sk-parallel-item {display: flex;flex-direction: column;z-index: 1;position: relative;background-color: white;}#sk-container-id-12 div.sk-parallel-item:first-child::after {align-self: flex-end;width: 50%;}#sk-container-id-12 div.sk-parallel-item:last-child::after {align-self: flex-start;width: 50%;}#sk-container-id-12 div.sk-parallel-item:only-child::after {width: 0;}#sk-container-id-12 div.sk-dashed-wrapped {border: 1px dashed gray;margin: 0 0.4em 0.5em 0.4em;box-sizing: border-box;padding-bottom: 0.4em;background-color: white;}#sk-container-id-12 div.sk-label label {font-family: monospace;font-weight: bold;display: inline-block;line-height: 1.2em;}#sk-container-id-12 div.sk-label-container {text-align: center;}#sk-container-id-12 div.sk-container {/* jupyter's `normalize.less` sets `[hidden] { display: none; }` but bootstrap.min.css set `[hidden] { display: none !important; }` so we also need the `!important` here to be able to override the default hidden behavior on the sphinx rendered scikit-learn.org. See: https://github.com/scikit-learn/scikit-learn/issues/21755 */display: inline-block !important;position: relative;}#sk-container-id-12 div.sk-text-repr-fallback {display: none;}</style><div id=\"sk-container-id-12\" class=\"sk-top-container\"><div class=\"sk-text-repr-fallback\"><pre>GridSearchCV(estimator=Pipeline(steps=[(&#x27;df_trans&#x27;, ToDataFrame()),\n",
       "                                       (&#x27;col_trans&#x27;,\n",
       "                                        ColumnTransformer(transformers=[(&#x27;latlon&#x27;,\n",
       "                                                                         &#x27;passthrough&#x27;,\n",
       "                                                                         [&#x27;latitude&#x27;,\n",
       "                                                                          &#x27;longitude&#x27;])])),\n",
       "                                       (&#x27;Kregressor&#x27;, KNeighborsRegressor())]),\n",
       "             param_grid={&#x27;n_neighbors&#x27;: [1, 2, 3, 4]})</pre><b>In a Jupyter environment, please rerun this cell to show the HTML representation or trust the notebook. <br />On GitHub, the HTML representation is unable to render, please try loading this page with nbviewer.org.</b></div><div class=\"sk-container\" hidden><div class=\"sk-item sk-dashed-wrapped\"><div class=\"sk-label-container\"><div class=\"sk-label sk-toggleable\"><input class=\"sk-toggleable__control sk-hidden--visually\" id=\"sk-estimator-id-143\" type=\"checkbox\" ><label for=\"sk-estimator-id-143\" class=\"sk-toggleable__label sk-toggleable__label-arrow\">GridSearchCV</label><div class=\"sk-toggleable__content\"><pre>GridSearchCV(estimator=Pipeline(steps=[(&#x27;df_trans&#x27;, ToDataFrame()),\n",
       "                                       (&#x27;col_trans&#x27;,\n",
       "                                        ColumnTransformer(transformers=[(&#x27;latlon&#x27;,\n",
       "                                                                         &#x27;passthrough&#x27;,\n",
       "                                                                         [&#x27;latitude&#x27;,\n",
       "                                                                          &#x27;longitude&#x27;])])),\n",
       "                                       (&#x27;Kregressor&#x27;, KNeighborsRegressor())]),\n",
       "             param_grid={&#x27;n_neighbors&#x27;: [1, 2, 3, 4]})</pre></div></div></div><div class=\"sk-parallel\"><div class=\"sk-parallel-item\"><div class=\"sk-item\"><div class=\"sk-label-container\"><div class=\"sk-label sk-toggleable\"><input class=\"sk-toggleable__control sk-hidden--visually\" id=\"sk-estimator-id-144\" type=\"checkbox\" ><label for=\"sk-estimator-id-144\" class=\"sk-toggleable__label sk-toggleable__label-arrow\">estimator: Pipeline</label><div class=\"sk-toggleable__content\"><pre>Pipeline(steps=[(&#x27;df_trans&#x27;, ToDataFrame()),\n",
       "                (&#x27;col_trans&#x27;,\n",
       "                 ColumnTransformer(transformers=[(&#x27;latlon&#x27;, &#x27;passthrough&#x27;,\n",
       "                                                  [&#x27;latitude&#x27;, &#x27;longitude&#x27;])])),\n",
       "                (&#x27;Kregressor&#x27;, KNeighborsRegressor())])</pre></div></div></div><div class=\"sk-serial\"><div class=\"sk-item\"><div class=\"sk-serial\"><div class=\"sk-item\"><div class=\"sk-estimator sk-toggleable\"><input class=\"sk-toggleable__control sk-hidden--visually\" id=\"sk-estimator-id-145\" type=\"checkbox\" ><label for=\"sk-estimator-id-145\" class=\"sk-toggleable__label sk-toggleable__label-arrow\">ToDataFrame</label><div class=\"sk-toggleable__content\"><pre>ToDataFrame()</pre></div></div></div><div class=\"sk-item sk-dashed-wrapped\"><div class=\"sk-label-container\"><div class=\"sk-label sk-toggleable\"><input class=\"sk-toggleable__control sk-hidden--visually\" id=\"sk-estimator-id-146\" type=\"checkbox\" ><label for=\"sk-estimator-id-146\" class=\"sk-toggleable__label sk-toggleable__label-arrow\">col_trans: ColumnTransformer</label><div class=\"sk-toggleable__content\"><pre>ColumnTransformer(transformers=[(&#x27;latlon&#x27;, &#x27;passthrough&#x27;,\n",
       "                                 [&#x27;latitude&#x27;, &#x27;longitude&#x27;])])</pre></div></div></div><div class=\"sk-parallel\"><div class=\"sk-parallel-item\"><div class=\"sk-item\"><div class=\"sk-label-container\"><div class=\"sk-label sk-toggleable\"><input class=\"sk-toggleable__control sk-hidden--visually\" id=\"sk-estimator-id-147\" type=\"checkbox\" ><label for=\"sk-estimator-id-147\" class=\"sk-toggleable__label sk-toggleable__label-arrow\">latlon</label><div class=\"sk-toggleable__content\"><pre>[&#x27;latitude&#x27;, &#x27;longitude&#x27;]</pre></div></div></div><div class=\"sk-serial\"><div class=\"sk-item\"><div class=\"sk-estimator sk-toggleable\"><input class=\"sk-toggleable__control sk-hidden--visually\" id=\"sk-estimator-id-148\" type=\"checkbox\" ><label for=\"sk-estimator-id-148\" class=\"sk-toggleable__label sk-toggleable__label-arrow\">passthrough</label><div class=\"sk-toggleable__content\"><pre>passthrough</pre></div></div></div></div></div></div></div></div><div class=\"sk-item\"><div class=\"sk-estimator sk-toggleable\"><input class=\"sk-toggleable__control sk-hidden--visually\" id=\"sk-estimator-id-149\" type=\"checkbox\" ><label for=\"sk-estimator-id-149\" class=\"sk-toggleable__label sk-toggleable__label-arrow\">KNeighborsRegressor</label><div class=\"sk-toggleable__content\"><pre>KNeighborsRegressor()</pre></div></div></div></div></div></div></div></div></div></div></div></div>"
      ],
      "text/plain": [
       "GridSearchCV(estimator=Pipeline(steps=[('df_trans', ToDataFrame()),\n",
       "                                       ('col_trans',\n",
       "                                        ColumnTransformer(transformers=[('latlon',\n",
       "                                                                         'passthrough',\n",
       "                                                                         ['latitude',\n",
       "                                                                          'longitude'])])),\n",
       "                                       ('Kregressor', KNeighborsRegressor())]),\n",
       "             param_grid={'n_neighbors': [1, 2, 3, 4]})"
      ]
     },
     "execution_count": 93,
     "metadata": {},
     "output_type": "execute_result"
    }
   ],
   "source": [
    "#implement GridSearchCV using shuffled data\n",
    "from sklearn.linear_model import Ridge\n",
    "from sklearn.model_selection import GridSearchCV, RandomizedSearchCV, train_test_split\n",
    "from sklearn.pipeline import Pipeline\n",
    "from sklearn.preprocessing import StandardScaler\n",
    "from sklearn.neighbors import KNeighborsRegressor\n",
    "\n",
    "# Get data and perform train/test split\n",
    "X_train, X_test, y_train, y_test = train_test_split(shuff_data,shuff_ratings)\n",
    "\n",
    "knn_pipe = Pipeline([\n",
    "        (\"df_trans\", to_data_frame),\n",
    "        (\"col_trans\", ct),\n",
    "        (\"Kregressor\", KNeighborsRegressor())\n",
    "])\n",
    "#knn_pipe.fit(X_train, y_train)\n",
    "\n",
    "k_range = list(range(1, 5))\n",
    "param_grid = dict(n_neighbors=k_range)\n",
    "#k_range 116 steve used!\n",
    "GridSearchCV(knn_pipe, param_grid)"
   ]
  },
  {
   "cell_type": "code",
   "execution_count": 96,
   "id": "9aabc9a0",
   "metadata": {},
   "outputs": [
    {
     "name": "stdout",
     "output_type": "stream",
     "text": [
      "Fitting 3 folds for each of 99 candidates, totalling 297 fits\n"
     ]
    },
    {
     "data": {
      "text/html": [
       "<style>#sk-container-id-13 {color: black;background-color: white;}#sk-container-id-13 pre{padding: 0;}#sk-container-id-13 div.sk-toggleable {background-color: white;}#sk-container-id-13 label.sk-toggleable__label {cursor: pointer;display: block;width: 100%;margin-bottom: 0;padding: 0.3em;box-sizing: border-box;text-align: center;}#sk-container-id-13 label.sk-toggleable__label-arrow:before {content: \"▸\";float: left;margin-right: 0.25em;color: #696969;}#sk-container-id-13 label.sk-toggleable__label-arrow:hover:before {color: black;}#sk-container-id-13 div.sk-estimator:hover label.sk-toggleable__label-arrow:before {color: black;}#sk-container-id-13 div.sk-toggleable__content {max-height: 0;max-width: 0;overflow: hidden;text-align: left;background-color: #f0f8ff;}#sk-container-id-13 div.sk-toggleable__content pre {margin: 0.2em;color: black;border-radius: 0.25em;background-color: #f0f8ff;}#sk-container-id-13 input.sk-toggleable__control:checked~div.sk-toggleable__content {max-height: 200px;max-width: 100%;overflow: auto;}#sk-container-id-13 input.sk-toggleable__control:checked~label.sk-toggleable__label-arrow:before {content: \"▾\";}#sk-container-id-13 div.sk-estimator input.sk-toggleable__control:checked~label.sk-toggleable__label {background-color: #d4ebff;}#sk-container-id-13 div.sk-label input.sk-toggleable__control:checked~label.sk-toggleable__label {background-color: #d4ebff;}#sk-container-id-13 input.sk-hidden--visually {border: 0;clip: rect(1px 1px 1px 1px);clip: rect(1px, 1px, 1px, 1px);height: 1px;margin: -1px;overflow: hidden;padding: 0;position: absolute;width: 1px;}#sk-container-id-13 div.sk-estimator {font-family: monospace;background-color: #f0f8ff;border: 1px dotted black;border-radius: 0.25em;box-sizing: border-box;margin-bottom: 0.5em;}#sk-container-id-13 div.sk-estimator:hover {background-color: #d4ebff;}#sk-container-id-13 div.sk-parallel-item::after {content: \"\";width: 100%;border-bottom: 1px solid gray;flex-grow: 1;}#sk-container-id-13 div.sk-label:hover label.sk-toggleable__label {background-color: #d4ebff;}#sk-container-id-13 div.sk-serial::before {content: \"\";position: absolute;border-left: 1px solid gray;box-sizing: border-box;top: 0;bottom: 0;left: 50%;z-index: 0;}#sk-container-id-13 div.sk-serial {display: flex;flex-direction: column;align-items: center;background-color: white;padding-right: 0.2em;padding-left: 0.2em;position: relative;}#sk-container-id-13 div.sk-item {position: relative;z-index: 1;}#sk-container-id-13 div.sk-parallel {display: flex;align-items: stretch;justify-content: center;background-color: white;position: relative;}#sk-container-id-13 div.sk-item::before, #sk-container-id-13 div.sk-parallel-item::before {content: \"\";position: absolute;border-left: 1px solid gray;box-sizing: border-box;top: 0;bottom: 0;left: 50%;z-index: -1;}#sk-container-id-13 div.sk-parallel-item {display: flex;flex-direction: column;z-index: 1;position: relative;background-color: white;}#sk-container-id-13 div.sk-parallel-item:first-child::after {align-self: flex-end;width: 50%;}#sk-container-id-13 div.sk-parallel-item:last-child::after {align-self: flex-start;width: 50%;}#sk-container-id-13 div.sk-parallel-item:only-child::after {width: 0;}#sk-container-id-13 div.sk-dashed-wrapped {border: 1px dashed gray;margin: 0 0.4em 0.5em 0.4em;box-sizing: border-box;padding-bottom: 0.4em;background-color: white;}#sk-container-id-13 div.sk-label label {font-family: monospace;font-weight: bold;display: inline-block;line-height: 1.2em;}#sk-container-id-13 div.sk-label-container {text-align: center;}#sk-container-id-13 div.sk-container {/* jupyter's `normalize.less` sets `[hidden] { display: none; }` but bootstrap.min.css set `[hidden] { display: none !important; }` so we also need the `!important` here to be able to override the default hidden behavior on the sphinx rendered scikit-learn.org. See: https://github.com/scikit-learn/scikit-learn/issues/21755 */display: inline-block !important;position: relative;}#sk-container-id-13 div.sk-text-repr-fallback {display: none;}</style><div id=\"sk-container-id-13\" class=\"sk-top-container\"><div class=\"sk-text-repr-fallback\"><pre>GridSearchCV(cv=3,\n",
       "             estimator=Pipeline(steps=[(&#x27;df_trans&#x27;, ToDataFrame()),\n",
       "                                       (&#x27;col_trans&#x27;,\n",
       "                                        ColumnTransformer(transformers=[(&#x27;latlon&#x27;,\n",
       "                                                                         &#x27;passthrough&#x27;,\n",
       "                                                                         [&#x27;latitude&#x27;,\n",
       "                                                                          &#x27;longitude&#x27;])])),\n",
       "                                       (&#x27;Kregressor&#x27;, KNeighborsRegressor())]),\n",
       "             n_jobs=2,\n",
       "             param_grid={&#x27;Kregressor__n_neighbors&#x27;: [1, 2, 3, 4, 5, 6, 7, 8, 9,\n",
       "                                                     10, 11, 12, 13, 14, 15, 16,\n",
       "                                                     17, 18, 19, 20, 21, 22, 23,\n",
       "                                                     24, 25, 26, 27, 28, 29, 30, ...]},\n",
       "             verbose=1)</pre><b>In a Jupyter environment, please rerun this cell to show the HTML representation or trust the notebook. <br />On GitHub, the HTML representation is unable to render, please try loading this page with nbviewer.org.</b></div><div class=\"sk-container\" hidden><div class=\"sk-item sk-dashed-wrapped\"><div class=\"sk-label-container\"><div class=\"sk-label sk-toggleable\"><input class=\"sk-toggleable__control sk-hidden--visually\" id=\"sk-estimator-id-150\" type=\"checkbox\" ><label for=\"sk-estimator-id-150\" class=\"sk-toggleable__label sk-toggleable__label-arrow\">GridSearchCV</label><div class=\"sk-toggleable__content\"><pre>GridSearchCV(cv=3,\n",
       "             estimator=Pipeline(steps=[(&#x27;df_trans&#x27;, ToDataFrame()),\n",
       "                                       (&#x27;col_trans&#x27;,\n",
       "                                        ColumnTransformer(transformers=[(&#x27;latlon&#x27;,\n",
       "                                                                         &#x27;passthrough&#x27;,\n",
       "                                                                         [&#x27;latitude&#x27;,\n",
       "                                                                          &#x27;longitude&#x27;])])),\n",
       "                                       (&#x27;Kregressor&#x27;, KNeighborsRegressor())]),\n",
       "             n_jobs=2,\n",
       "             param_grid={&#x27;Kregressor__n_neighbors&#x27;: [1, 2, 3, 4, 5, 6, 7, 8, 9,\n",
       "                                                     10, 11, 12, 13, 14, 15, 16,\n",
       "                                                     17, 18, 19, 20, 21, 22, 23,\n",
       "                                                     24, 25, 26, 27, 28, 29, 30, ...]},\n",
       "             verbose=1)</pre></div></div></div><div class=\"sk-parallel\"><div class=\"sk-parallel-item\"><div class=\"sk-item\"><div class=\"sk-label-container\"><div class=\"sk-label sk-toggleable\"><input class=\"sk-toggleable__control sk-hidden--visually\" id=\"sk-estimator-id-151\" type=\"checkbox\" ><label for=\"sk-estimator-id-151\" class=\"sk-toggleable__label sk-toggleable__label-arrow\">estimator: Pipeline</label><div class=\"sk-toggleable__content\"><pre>Pipeline(steps=[(&#x27;df_trans&#x27;, ToDataFrame()),\n",
       "                (&#x27;col_trans&#x27;,\n",
       "                 ColumnTransformer(transformers=[(&#x27;latlon&#x27;, &#x27;passthrough&#x27;,\n",
       "                                                  [&#x27;latitude&#x27;, &#x27;longitude&#x27;])])),\n",
       "                (&#x27;Kregressor&#x27;, KNeighborsRegressor())])</pre></div></div></div><div class=\"sk-serial\"><div class=\"sk-item\"><div class=\"sk-serial\"><div class=\"sk-item\"><div class=\"sk-estimator sk-toggleable\"><input class=\"sk-toggleable__control sk-hidden--visually\" id=\"sk-estimator-id-152\" type=\"checkbox\" ><label for=\"sk-estimator-id-152\" class=\"sk-toggleable__label sk-toggleable__label-arrow\">ToDataFrame</label><div class=\"sk-toggleable__content\"><pre>ToDataFrame()</pre></div></div></div><div class=\"sk-item sk-dashed-wrapped\"><div class=\"sk-label-container\"><div class=\"sk-label sk-toggleable\"><input class=\"sk-toggleable__control sk-hidden--visually\" id=\"sk-estimator-id-153\" type=\"checkbox\" ><label for=\"sk-estimator-id-153\" class=\"sk-toggleable__label sk-toggleable__label-arrow\">col_trans: ColumnTransformer</label><div class=\"sk-toggleable__content\"><pre>ColumnTransformer(transformers=[(&#x27;latlon&#x27;, &#x27;passthrough&#x27;,\n",
       "                                 [&#x27;latitude&#x27;, &#x27;longitude&#x27;])])</pre></div></div></div><div class=\"sk-parallel\"><div class=\"sk-parallel-item\"><div class=\"sk-item\"><div class=\"sk-label-container\"><div class=\"sk-label sk-toggleable\"><input class=\"sk-toggleable__control sk-hidden--visually\" id=\"sk-estimator-id-154\" type=\"checkbox\" ><label for=\"sk-estimator-id-154\" class=\"sk-toggleable__label sk-toggleable__label-arrow\">latlon</label><div class=\"sk-toggleable__content\"><pre>[&#x27;latitude&#x27;, &#x27;longitude&#x27;]</pre></div></div></div><div class=\"sk-serial\"><div class=\"sk-item\"><div class=\"sk-estimator sk-toggleable\"><input class=\"sk-toggleable__control sk-hidden--visually\" id=\"sk-estimator-id-155\" type=\"checkbox\" ><label for=\"sk-estimator-id-155\" class=\"sk-toggleable__label sk-toggleable__label-arrow\">passthrough</label><div class=\"sk-toggleable__content\"><pre>passthrough</pre></div></div></div></div></div></div></div></div><div class=\"sk-item\"><div class=\"sk-estimator sk-toggleable\"><input class=\"sk-toggleable__control sk-hidden--visually\" id=\"sk-estimator-id-156\" type=\"checkbox\" ><label for=\"sk-estimator-id-156\" class=\"sk-toggleable__label sk-toggleable__label-arrow\">KNeighborsRegressor</label><div class=\"sk-toggleable__content\"><pre>KNeighborsRegressor()</pre></div></div></div></div></div></div></div></div></div></div></div></div>"
      ],
      "text/plain": [
       "GridSearchCV(cv=3,\n",
       "             estimator=Pipeline(steps=[('df_trans', ToDataFrame()),\n",
       "                                       ('col_trans',\n",
       "                                        ColumnTransformer(transformers=[('latlon',\n",
       "                                                                         'passthrough',\n",
       "                                                                         ['latitude',\n",
       "                                                                          'longitude'])])),\n",
       "                                       ('Kregressor', KNeighborsRegressor())]),\n",
       "             n_jobs=2,\n",
       "             param_grid={'Kregressor__n_neighbors': [1, 2, 3, 4, 5, 6, 7, 8, 9,\n",
       "                                                     10, 11, 12, 13, 14, 15, 16,\n",
       "                                                     17, 18, 19, 20, 21, 22, 23,\n",
       "                                                     24, 25, 26, 27, 28, 29, 30, ...]},\n",
       "             verbose=1)"
      ]
     },
     "execution_count": 96,
     "metadata": {},
     "output_type": "execute_result"
    }
   ],
   "source": [
    "# Perform hyperparameter tuning on pipeline estimator\n",
    "k_range = list(range(1, 100))\n",
    "param_grid = dict(Kregressor__n_neighbors=k_range)\n",
    "\n",
    "gs_est = GridSearchCV(knn_pipe, param_grid, cv=3, n_jobs=2, verbose=1)\n",
    "gs_est.fit(X_train, y_train)\n",
    "#print(gs_est.score(X_test, y_test))"
   ]
  },
  {
   "cell_type": "code",
   "execution_count": 97,
   "id": "9a1f17d7",
   "metadata": {},
   "outputs": [
    {
     "data": {
      "text/plain": [
       "{'Kregressor__n_neighbors': 90}"
      ]
     },
     "execution_count": 97,
     "metadata": {},
     "output_type": "execute_result"
    }
   ],
   "source": [
    "gs_est.best_params_"
   ]
  },
  {
   "cell_type": "code",
   "execution_count": 98,
   "id": "4ad1f6ce",
   "metadata": {
    "scrolled": true,
    "slideshow": null
   },
   "outputs": [
    {
     "name": "stdout",
     "output_type": "stream",
     "text": [
      "==================\n",
      "Your score: 1.0000\n",
      "==================\n"
     ]
    }
   ],
   "source": [
    "grader.score('ml__lat_long_model', gs_est.predict)  # Edit to appropriate name"
   ]
  },
  {
   "cell_type": "code",
   "execution_count": 33,
   "id": "ee8d3084",
   "metadata": {},
   "outputs": [],
   "source": [
    "#TypeError: float() argument must be a string or a real number, not 'dict'"
   ]
  },
  {
   "cell_type": "markdown",
   "id": "a4d1ce3a",
   "metadata": {
    "slideshow": null
   },
   "source": [
    "## Question 4: category_model"
   ]
  },
  {
   "cell_type": "markdown",
   "id": "a0d0534c",
   "metadata": {
    "slideshow": null
   },
   "source": [
    "While location is important, we could also try seeing how predictive the\n",
    "venue's category is. Build an estimator that considers only the `'categories'` field of the data.\n",
    "\n",
    "The categories come as a list of strings, but the scikit-learn's predictors all need numeric input. We ultimately want to create a column in our feature matrix to represent every category. For a given row, only the columns that represent the categories it contains will be filled with a one, otherwise, it will be filled with a zero. The described method is similar to **one-hot encoding**, however, an observation/row can contain more than one \"hot\", non-zero, column.\n",
    "\n",
    "To achieve our encoding plan, we need to use scikit-learn's provides [`DictVectorizer`](http://scikit-learn.org/stable/modules/generated/sklearn.feature_extraction.DictVectorizer.html#sklearn.feature_extraction.DictVectorizer). This transformer takes a 1-D array of dictionaries and creates a column in the output matrix for each key in the dictionary and fills it with the value associated with it. Missing keys are filled with zeros. However, we need to build a transformer that takes an array of strings and returns an array of dictionaries with keys given by those strings and values of one. For example, it should transform `X_in` into `X_out`."
   ]
  },
  {
   "cell_type": "code",
   "execution_count": 8,
   "id": "e4abd227",
   "metadata": {
    "scrolled": false,
    "slideshow": null
   },
   "outputs": [
    {
     "name": "stdout",
     "output_type": "stream",
     "text": [
      "0       [a]\n",
      "1    [b, c]\n",
      "dtype: object\n",
      "0            {'a': 1}\n",
      "1    {'b': 1, 'c': 1}\n",
      "dtype: object\n"
     ]
    }
   ],
   "source": [
    "import pandas as pd\n",
    "X_in = pd.Series([['a'], ['b', 'c']])\n",
    "X_out = pd.Series([{'a': 1}, {'b': 1, 'c': 1}])\n",
    "\n",
    "print(X_in)\n",
    "print(X_out)"
   ]
  },
  {
   "cell_type": "code",
   "execution_count": 13,
   "id": "615d13f5",
   "metadata": {},
   "outputs": [],
   "source": [
    "#the goal of this function is to take in a list of lists and return a list of dictionaries\n",
    "#expecting an array will output a list of dictionaries where each keys value is 1\n",
    "def makedict(X):\n",
    "    listtester = []\n",
    "    for i in range(len(X)):\n",
    "        counts = pd.value_counts(X[i]).to_dict()\n",
    "        #print(counts)\n",
    "\n",
    "        listtester.append(counts)\n",
    "    return listtester\n"
   ]
  },
  {
   "cell_type": "code",
   "execution_count": 36,
   "id": "36bf0381",
   "metadata": {},
   "outputs": [
    {
     "data": {
      "text/plain": [
       "[{'a': 1}, {'b': 1, 'c': 1}]"
      ]
     },
     "execution_count": 36,
     "metadata": {},
     "output_type": "execute_result"
    }
   ],
   "source": [
    "makedict(X_in)"
   ]
  },
  {
   "cell_type": "code",
   "execution_count": 60,
   "id": "8f1bd70c",
   "metadata": {
    "slideshow": null
   },
   "outputs": [],
   "source": [
    "import pandas as pd\n",
    "from sklearn.base import TransformerMixin\n",
    "from sklearn.base import BaseEstimator\n",
    "from sklearn.feature_extraction import DictVectorizer\n",
    "\n",
    "class DictEncoder(BaseEstimator, TransformerMixin):\n",
    "    \n",
    "    def fit(self, X, y=None):\n",
    "        return self\n",
    "    \n",
    "    def transform(self, X):\n",
    "        # X will be a pandas series. Return a pandas series of dictionaries\n",
    "        v = DictVectorizer(sparse=False)\n",
    "        d = makedict(X) #if you want to run with X_in\n",
    "        #d = X #if you want to run with X_out which is already a dictionary\n",
    "        #vect_out = v.fit_transform(d)\n",
    "        #return vect_out\n",
    "        return d"
   ]
  },
  {
   "cell_type": "code",
   "execution_count": 61,
   "id": "fe56c97a",
   "metadata": {},
   "outputs": [
    {
     "data": {
      "text/plain": [
       "[{'a': 1}, {'b': 1, 'c': 1}]"
      ]
     },
     "execution_count": 61,
     "metadata": {},
     "output_type": "execute_result"
    }
   ],
   "source": [
    "to_dict_en = DictEncoder()\n",
    "dict_test = to_dict_en.fit_transform(X_in)\n",
    "\n",
    "dict_test"
   ]
  },
  {
   "cell_type": "markdown",
   "id": "968648da",
   "metadata": {
    "slideshow": null
   },
   "source": [
    "Now let's test out that our `DictEncoder` works out as expected."
   ]
  },
  {
   "cell_type": "code",
   "execution_count": 72,
   "id": "3e9fd732",
   "metadata": {
    "scrolled": true,
    "slideshow": null
   },
   "outputs": [
    {
     "data": {
      "text/plain": [
       "True"
      ]
     },
     "execution_count": 72,
     "metadata": {},
     "output_type": "execute_result"
    }
   ],
   "source": [
    "# Check that DictEncoder transforms a series of list of strings into the expected series of dictionaries\n",
    "grader.check((DictEncoder().fit_transform(X_in) == X_out).all())"
   ]
  },
  {
   "cell_type": "markdown",
   "id": "f4ef1d72",
   "metadata": {
    "slideshow": null
   },
   "source": [
    "Now, create a pipeline object of the two step transformation for the categories data. Afterwards, create a `ColumnTransformer` object that will use the aforementioned pipeline object to transform the `'categories'` field."
   ]
  },
  {
   "cell_type": "code",
   "execution_count": 73,
   "id": "1dd1f292",
   "metadata": {},
   "outputs": [],
   "source": [
    "#Run ridge rigression over grid\n",
    "import numpy as np\n",
    "import pandas as pd\n",
    "from sklearn.linear_model import Ridge\n",
    "from sklearn.model_selection import GridSearchCV, RandomizedSearchCV, train_test_split\n",
    "from sklearn.pipeline import Pipeline\n",
    "from sklearn.preprocessing import StandardScaler\n",
    "from sklearn.compose import ColumnTransformer\n",
    "from sklearn.feature_extraction import DictVectorizer\n",
    "\n",
    "\n",
    "selected_columns = ['categories']\n",
    "ct = ColumnTransformer(\n",
    "    transformers=[(\"catcol\", 'passthrough', selected_columns)])\n",
    "\n",
    "class DictEncoder_pipe(BaseEstimator, TransformerMixin):\n",
    "    def fit(self, X, y=None):\n",
    "        return self\n",
    "    \n",
    "    def transform(self, X):\n",
    "        # X will be a pandas series. Return a pandas series of dictionaries\n",
    "        X = [item for sublist in X for item in sublist]\n",
    "        #print(X)\n",
    "        d = makedict(X)   \n",
    "        #vect_out = v.fit_transform(d)\n",
    "        return d\n",
    "\n",
    "to_dict_en = DictEncoder_pipe()\n",
    "        \n",
    "CategoriesPipeline_fit_model = Pipeline([\n",
    "    ('df_trans', to_data_frame),#first step is to transform dictionaries into dataframe\n",
    "    ('col_trans', ct), #column transformer for 'categories'\n",
    "    ('dict_trans', to_dict_en),#two steps are in the encoder\n",
    "    ('vectorize', DictVectorizer(sparse=False)),\n",
    "    ('scaler', StandardScaler()), #train model\n",
    "    ('regressor', Ridge()), #choose Ridge()\n",
    "])\n",
    "\n",
    "#used cross validation to get this value\n",
    "CategoriesPipeline_fit_model.set_params(regressor__alpha=0.91)\n",
    "\n",
    "CategoriesPipeline_fit_model.fit(data, star_ratings)"
   ]
  },
  {
   "cell_type": "markdown",
   "id": "028580f9",
   "metadata": {
    "slideshow": null
   },
   "source": [
    "Finally, create a pipeline object that will\n",
    "1. Convert our list of dictionaries into a data frame\n",
    "1. Select the `'categories'` column and encode the data\n",
    "1. Train a regularized linear model such as `Ridge`\n",
    "\n",
    "There will be a large number of features, one for each category, so there is a significant danger of overfitting. Use cross validation to choose the best regularization parameter."
   ]
  },
  {
   "cell_type": "code",
   "execution_count": 75,
   "id": "111f5ba2",
   "metadata": {
    "slideshow": null
   },
   "outputs": [
    {
     "name": "stdout",
     "output_type": "stream",
     "text": [
      "==================\n",
      "Your score: 0.9366\n",
      "==================\n"
     ]
    }
   ],
   "source": [
    "grader.score('ml__category_model', CategoriesPipeline_fit_model.predict)  # Edit to appropriate name"
   ]
  },
  {
   "cell_type": "markdown",
   "id": "941cbcdd",
   "metadata": {
    "slideshow": null
   },
   "source": [
    "**Extension:** Some categories (e.g., Restaurants) are not very specific. Others (Japanese sushi) are much more so.  One way to deal with this is with an measure call term frequency-inverse document frequency (tf-idf). Add in a [`TfidfTransformer`](https://scikit-learn.org/stable/modules/generated/sklearn.feature_extraction.text.TfidfVectorizer.html) between the `DictVectorizer` and the linear model, and see if that improves performance."
   ]
  },
  {
   "cell_type": "markdown",
   "id": "76c8b7e8",
   "metadata": {
    "slideshow": null
   },
   "source": [
    "## Question 5: attribute_model"
   ]
  },
  {
   "cell_type": "markdown",
   "id": "b4ac2b5d",
   "metadata": {
    "slideshow": null
   },
   "source": [
    "There is even more information in the attributes for each venue.  Let's build an estimator based on these.\n",
    "\n",
    "Venues attributes may be nested:\n",
    "```python\n",
    "{\n",
    "  'Attire': 'casual',\n",
    "  'Accepts Credit Cards': True,\n",
    "  'Ambiance': {'casual': False, 'classy': False},\n",
    "  'Price Range': 3\n",
    "}\n",
    "```\n",
    "We wish to encode them in the same manner as our categories data using the `DictVectorizer`. Before we do so, we need to flatten the dictionary to a single level:\n",
    "```python\n",
    "{\n",
    "  'Attire_casual' : 1,\n",
    "  'Accepts Credit Cards': 1,\n",
    "  'Ambiance_casual': 0,\n",
    "  'Ambiance_classy': 0,\n",
    "  'Price Range_3': 1\n",
    "}\n",
    "```\n",
    "Build a custom transformer that flattens the dictionary for the `'attributes'` field. "
   ]
  },
  {
   "cell_type": "code",
   "execution_count": 17,
   "id": "13eaa17e",
   "metadata": {
    "slideshow": null
   },
   "outputs": [],
   "source": [
    "import pandas as pd\n",
    "from sklearn.base import TransformerMixin\n",
    "from sklearn.base import BaseEstimator\n",
    "from sklearn.feature_extraction import DictVectorizer\n",
    "import numpy as np\n",
    "from sklearn.base import BaseEstimator, RegressorMixin\n",
    "from sklearn.linear_model import LinearRegression\n",
    "from sklearn.tree import DecisionTreeRegressor\n",
    "from sklearn.model_selection import train_test_split\n",
    "from sklearn.metrics import mean_squared_error\n",
    "from sklearn.model_selection import GridSearchCV, RandomizedSearchCV, train_test_split\n",
    "from sklearn.pipeline import Pipeline\n",
    "from sklearn.preprocessing import StandardScaler\n",
    "from sklearn.compose import ColumnTransformer\n",
    "from sklearn.ensemble import RandomForestRegressor\n",
    "\n",
    "class AttributeTransformer_exampleVersion(BaseEstimator, TransformerMixin):\n",
    "    def flatten_dict(self, d, prefix=''):\n",
    "        result = {}\n",
    "        for key, value in d.items():\n",
    "            if isinstance(value, dict):\n",
    "                result.update(self.flatten_dict(value, f'{key}_'))\n",
    "            elif isinstance(value, bool):\n",
    "                result[f'{prefix}{key}'] = int(value)\n",
    "            elif isinstance(value, str) or isinstance(value, int):\n",
    "                result[f'{prefix}{key}_{value}'] = 1\n",
    "            else:\n",
    "                result[f'{prefix}{key}'] = value\n",
    "        return result\n",
    "\n",
    "    def fit(self, X, y=None):\n",
    "        return self\n",
    "\n",
    "    def transform(self, X, y=None):\n",
    "        flattened_dicts = X.apply(self.flatten_dict)\n",
    "        output_df = pd.DataFrame(flattened_dicts.tolist())\n",
    "        output_df.fillna(0, inplace=True)\n",
    "        self.feature_names = output_df.columns.tolist()\n",
    "        return output_df"
   ]
  },
  {
   "cell_type": "markdown",
   "id": "af23180a",
   "metadata": {
    "slideshow": null
   },
   "source": [
    "We can check that we're getting the right number of columns _after_ vectorization to allow for different ways of constructing this. "
   ]
  },
  {
   "cell_type": "code",
   "execution_count": 47,
   "id": "06c1f899",
   "metadata": {
    "slideshow": null
   },
   "outputs": [
    {
     "name": "stdout",
     "output_type": "stream",
     "text": [
      "Feature names: ['Wi-Fi_free', 'Price Range_2', 'Parking_garage', 'Parking_street', 'Wi-Fi_no', 'Price Range_3', 'Accepts Credit Cards', 'Take-out', 'Wi-Fi_paid', 'Parking_valet']\n",
      "   Wi-Fi_free  Price Range_2  Parking_garage  Parking_street  Wi-Fi_no  \\\n",
      "0         1.0            1.0             0.0             1.0       0.0   \n",
      "1         0.0            0.0             0.0             0.0       1.0   \n",
      "2         0.0            0.0             1.0             0.0       0.0   \n",
      "\n",
      "   Price Range_3  Accepts Credit Cards  Take-out  Wi-Fi_paid  Parking_valet  \n",
      "0            0.0                   0.0       0.0         0.0            0.0  \n",
      "1            1.0                   1.0       0.0         0.0            0.0  \n",
      "2            0.0                   0.0       1.0         1.0            1.0  \n"
     ]
    },
    {
     "data": {
      "text/plain": [
       "True"
      ]
     },
     "execution_count": 47,
     "metadata": {},
     "output_type": "execute_result"
    }
   ],
   "source": [
    "attribute_example = pd.Series([\n",
    "    {\n",
    "        'Wi-Fi': 'free',\n",
    "        'Price Range': 2,\n",
    "        'Parking': {\n",
    "            'garage': False,\n",
    "            'street': True\n",
    "        }\n",
    "    },\n",
    "    {\n",
    "        'Wi-Fi': 'no',\n",
    "        'Price Range': 3,\n",
    "        'Accepts Credit Cards': True,\n",
    "        'Take-out': False\n",
    "    },\n",
    "    {\n",
    "        'Wi-Fi': 'paid',\n",
    "        'Parking': {\n",
    "            'garage': True,\n",
    "            'valet': True\n",
    "        },\n",
    "        'Take-out': True\n",
    "    }\n",
    "])\n",
    "\n",
    "n_columns = 10\n",
    "\n",
    "test_att_transformer = AttributeTransformer_exampleVersion()\n",
    "output_df = test_att_transformer.fit_transform(attribute_example)\n",
    "print(\"Feature names:\", test_att_transformer.feature_names)\n",
    "print(output_df)\n",
    "\n",
    "# If this check fails, look at your output column names. \n",
    "# Are 'Wi-Fi' and 'Price Range' being treated correctly?\n",
    "grader.check(len(test_att_transformer.feature_names) == n_columns)"
   ]
  },
  {
   "cell_type": "markdown",
   "id": "42b7699e",
   "metadata": {
    "slideshow": null
   },
   "source": [
    "Similar to what was done before, create a model that properly encodes the attribute data and learns to predict the ratings.\n",
    "\n",
    "You may find it difficult to find a single regressor that does well enough. A common solution is to use a linear model to fit the linear part of some data, and use a non-linear model to fit the residual that the linear model can't fit. Build a custom predictor that takes as an argument two other predictors. It should use the first to fit the raw data and the second to fit the residuals of the first."
   ]
  },
  {
   "cell_type": "code",
   "execution_count": 18,
   "id": "92454c12",
   "metadata": {},
   "outputs": [],
   "source": [
    "from sklearn.compose import ColumnTransformer\n",
    "\n",
    "\n",
    "selected_columns_att = ['attributes']\n",
    "ct_att = ColumnTransformer(\n",
    "    transformers=[(\"catcol\", 'passthrough', selected_columns_att)])\n",
    "\n",
    "class ArrayToList(BaseEstimator, TransformerMixin):\n",
    "    def fit(self, X, y=None):\n",
    "        # This transformer doesn't need to learn anything about the data,\n",
    "        # so it can just return self without any further processing\n",
    "        return self\n",
    "    \n",
    "    def transform(self, X):\n",
    "        #here we use X as a variable that represents a list of dictionaries\n",
    "        Z = pd.Series(X.tolist()) \n",
    "        return Z\n",
    "        # Return a pandas data frame from X\n",
    "\n",
    "array_to_list = ArrayToList()\n",
    "\n",
    "\n",
    "#This transformer will use list comprehension to iterate through each dictionary in the list\n",
    "#import pandas as pd\n",
    "#from sklearn.base import BaseEstimator, TransformerMixin\n",
    "\n",
    "class AttributeTransformer(BaseEstimator, TransformerMixin):\n",
    "    def flatten_dict(self, d, prefix=''):\n",
    "        if not isinstance(d, dict):\n",
    "            return {}\n",
    "\n",
    "        result = {}\n",
    "        for key, value in d.items():\n",
    "            if isinstance(value, dict):\n",
    "                result.update(self.flatten_dict(value, f'{key}_'))\n",
    "            elif isinstance(value, bool):\n",
    "                result[f'{prefix}{key}'] = int(value)\n",
    "            elif isinstance(value, str) or isinstance(value, int):\n",
    "                result[f'{prefix}{key}_{value}'] = 1\n",
    "            else:\n",
    "                result[f'{prefix}{key}'] = value\n",
    "        return result\n",
    "\n",
    "    def fit(self, X, y=None):\n",
    "        return self\n",
    "\n",
    "    def transform(self, X, y=None):\n",
    "        flattened_dicts = [self.flatten_dict(inner_dict[0]) for inner_dict in X]\n",
    "        #output_df = pd.DataFrame(flattened_dicts)\n",
    "        #output_df.fillna(0, inplace=True)\n",
    "        #self.feature_names = output_df.columns.tolist()\n",
    "        return flattened_dicts  \n",
    "\n",
    "att_transformer = AttributeTransformer()"
   ]
  },
  {
   "cell_type": "code",
   "execution_count": null,
   "id": "e4060e26",
   "metadata": {
    "scrolled": true
   },
   "outputs": [],
   "source": [
    "#If you want to run this model without a pipeline\n",
    "\n",
    "#Before test_train_split on the two shuffled data objects, you need to vectorize each and flatten the attributes\n",
    "#This will ensure the output object has the number of features is the same in each _train and _test object\n",
    "#shuff_data_frame = to_data_frame.fit_transform(shuff_data[:5])\n",
    "#attributes_col_shuff_data_frame = ct_att.fit_transform(shuff_data_frame) #this is a array of dictionaries but our attribute transformer expects a list\n",
    "#series_of_dicts = pd.Series(attributes_col_shuff_data_frame.tolist()) #turn the array into a list aka pd series but instead gives us a list of lists\n",
    "#attributes_col_shuff_data_frame_transform = att_transformer.fit_transform(series_of_dicts)\n",
    "#print(\"Feature names:\", att_transformer.feature_names) #gives you column names\n",
    "#print(attributes_col_shuff_data_frame_transform[0]) #lets you see transformed data"
   ]
  },
  {
   "cell_type": "code",
   "execution_count": 70,
   "id": "41d13c79",
   "metadata": {
    "slideshow": null
   },
   "outputs": [
    {
     "data": {
      "text/html": [
       "<style>#sk-container-id-10 {color: black;background-color: white;}#sk-container-id-10 pre{padding: 0;}#sk-container-id-10 div.sk-toggleable {background-color: white;}#sk-container-id-10 label.sk-toggleable__label {cursor: pointer;display: block;width: 100%;margin-bottom: 0;padding: 0.3em;box-sizing: border-box;text-align: center;}#sk-container-id-10 label.sk-toggleable__label-arrow:before {content: \"▸\";float: left;margin-right: 0.25em;color: #696969;}#sk-container-id-10 label.sk-toggleable__label-arrow:hover:before {color: black;}#sk-container-id-10 div.sk-estimator:hover label.sk-toggleable__label-arrow:before {color: black;}#sk-container-id-10 div.sk-toggleable__content {max-height: 0;max-width: 0;overflow: hidden;text-align: left;background-color: #f0f8ff;}#sk-container-id-10 div.sk-toggleable__content pre {margin: 0.2em;color: black;border-radius: 0.25em;background-color: #f0f8ff;}#sk-container-id-10 input.sk-toggleable__control:checked~div.sk-toggleable__content {max-height: 200px;max-width: 100%;overflow: auto;}#sk-container-id-10 input.sk-toggleable__control:checked~label.sk-toggleable__label-arrow:before {content: \"▾\";}#sk-container-id-10 div.sk-estimator input.sk-toggleable__control:checked~label.sk-toggleable__label {background-color: #d4ebff;}#sk-container-id-10 div.sk-label input.sk-toggleable__control:checked~label.sk-toggleable__label {background-color: #d4ebff;}#sk-container-id-10 input.sk-hidden--visually {border: 0;clip: rect(1px 1px 1px 1px);clip: rect(1px, 1px, 1px, 1px);height: 1px;margin: -1px;overflow: hidden;padding: 0;position: absolute;width: 1px;}#sk-container-id-10 div.sk-estimator {font-family: monospace;background-color: #f0f8ff;border: 1px dotted black;border-radius: 0.25em;box-sizing: border-box;margin-bottom: 0.5em;}#sk-container-id-10 div.sk-estimator:hover {background-color: #d4ebff;}#sk-container-id-10 div.sk-parallel-item::after {content: \"\";width: 100%;border-bottom: 1px solid gray;flex-grow: 1;}#sk-container-id-10 div.sk-label:hover label.sk-toggleable__label {background-color: #d4ebff;}#sk-container-id-10 div.sk-serial::before {content: \"\";position: absolute;border-left: 1px solid gray;box-sizing: border-box;top: 0;bottom: 0;left: 50%;z-index: 0;}#sk-container-id-10 div.sk-serial {display: flex;flex-direction: column;align-items: center;background-color: white;padding-right: 0.2em;padding-left: 0.2em;position: relative;}#sk-container-id-10 div.sk-item {position: relative;z-index: 1;}#sk-container-id-10 div.sk-parallel {display: flex;align-items: stretch;justify-content: center;background-color: white;position: relative;}#sk-container-id-10 div.sk-item::before, #sk-container-id-10 div.sk-parallel-item::before {content: \"\";position: absolute;border-left: 1px solid gray;box-sizing: border-box;top: 0;bottom: 0;left: 50%;z-index: -1;}#sk-container-id-10 div.sk-parallel-item {display: flex;flex-direction: column;z-index: 1;position: relative;background-color: white;}#sk-container-id-10 div.sk-parallel-item:first-child::after {align-self: flex-end;width: 50%;}#sk-container-id-10 div.sk-parallel-item:last-child::after {align-self: flex-start;width: 50%;}#sk-container-id-10 div.sk-parallel-item:only-child::after {width: 0;}#sk-container-id-10 div.sk-dashed-wrapped {border: 1px dashed gray;margin: 0 0.4em 0.5em 0.4em;box-sizing: border-box;padding-bottom: 0.4em;background-color: white;}#sk-container-id-10 div.sk-label label {font-family: monospace;font-weight: bold;display: inline-block;line-height: 1.2em;}#sk-container-id-10 div.sk-label-container {text-align: center;}#sk-container-id-10 div.sk-container {/* jupyter's `normalize.less` sets `[hidden] { display: none; }` but bootstrap.min.css set `[hidden] { display: none !important; }` so we also need the `!important` here to be able to override the default hidden behavior on the sphinx rendered scikit-learn.org. See: https://github.com/scikit-learn/scikit-learn/issues/21755 */display: inline-block !important;position: relative;}#sk-container-id-10 div.sk-text-repr-fallback {display: none;}</style><div id=\"sk-container-id-10\" class=\"sk-top-container\"><div class=\"sk-text-repr-fallback\"><pre>Pipeline(steps=[(&#x27;df_trans&#x27;, ToDataFrame()),\n",
       "                (&#x27;col_trans&#x27;,\n",
       "                 ColumnTransformer(transformers=[(&#x27;catcol&#x27;, &#x27;passthrough&#x27;,\n",
       "                                                  [&#x27;attributes&#x27;])])),\n",
       "                (&#x27;array_trans&#x27;, ArrayToList()),\n",
       "                (&#x27;att_trans&#x27;, AttributeTransformer()),\n",
       "                (&#x27;vectorize&#x27;, DictVectorizer(sparse=False)),\n",
       "                (&#x27;cust_pre&#x27;,\n",
       "                 CustomPredictor(first_predictor=GridSearchCV(cv=5,\n",
       "                                                              estimator=Ridge(),\n",
       "                                                              n_jobs=-1,\n",
       "                                                              param_grid={&#x27;alpha&#x27;: range(1, 100)}),\n",
       "                                 second_predictor=RandomForestRegressor(min_samples_leaf=5,\n",
       "                                                                        random_state=42)))])</pre><b>In a Jupyter environment, please rerun this cell to show the HTML representation or trust the notebook. <br />On GitHub, the HTML representation is unable to render, please try loading this page with nbviewer.org.</b></div><div class=\"sk-container\" hidden><div class=\"sk-item sk-dashed-wrapped\"><div class=\"sk-label-container\"><div class=\"sk-label sk-toggleable\"><input class=\"sk-toggleable__control sk-hidden--visually\" id=\"sk-estimator-id-120\" type=\"checkbox\" ><label for=\"sk-estimator-id-120\" class=\"sk-toggleable__label sk-toggleable__label-arrow\">Pipeline</label><div class=\"sk-toggleable__content\"><pre>Pipeline(steps=[(&#x27;df_trans&#x27;, ToDataFrame()),\n",
       "                (&#x27;col_trans&#x27;,\n",
       "                 ColumnTransformer(transformers=[(&#x27;catcol&#x27;, &#x27;passthrough&#x27;,\n",
       "                                                  [&#x27;attributes&#x27;])])),\n",
       "                (&#x27;array_trans&#x27;, ArrayToList()),\n",
       "                (&#x27;att_trans&#x27;, AttributeTransformer()),\n",
       "                (&#x27;vectorize&#x27;, DictVectorizer(sparse=False)),\n",
       "                (&#x27;cust_pre&#x27;,\n",
       "                 CustomPredictor(first_predictor=GridSearchCV(cv=5,\n",
       "                                                              estimator=Ridge(),\n",
       "                                                              n_jobs=-1,\n",
       "                                                              param_grid={&#x27;alpha&#x27;: range(1, 100)}),\n",
       "                                 second_predictor=RandomForestRegressor(min_samples_leaf=5,\n",
       "                                                                        random_state=42)))])</pre></div></div></div><div class=\"sk-serial\"><div class=\"sk-item\"><div class=\"sk-estimator sk-toggleable\"><input class=\"sk-toggleable__control sk-hidden--visually\" id=\"sk-estimator-id-121\" type=\"checkbox\" ><label for=\"sk-estimator-id-121\" class=\"sk-toggleable__label sk-toggleable__label-arrow\">ToDataFrame</label><div class=\"sk-toggleable__content\"><pre>ToDataFrame()</pre></div></div></div><div class=\"sk-item sk-dashed-wrapped\"><div class=\"sk-label-container\"><div class=\"sk-label sk-toggleable\"><input class=\"sk-toggleable__control sk-hidden--visually\" id=\"sk-estimator-id-122\" type=\"checkbox\" ><label for=\"sk-estimator-id-122\" class=\"sk-toggleable__label sk-toggleable__label-arrow\">col_trans: ColumnTransformer</label><div class=\"sk-toggleable__content\"><pre>ColumnTransformer(transformers=[(&#x27;catcol&#x27;, &#x27;passthrough&#x27;, [&#x27;attributes&#x27;])])</pre></div></div></div><div class=\"sk-parallel\"><div class=\"sk-parallel-item\"><div class=\"sk-item\"><div class=\"sk-label-container\"><div class=\"sk-label sk-toggleable\"><input class=\"sk-toggleable__control sk-hidden--visually\" id=\"sk-estimator-id-123\" type=\"checkbox\" ><label for=\"sk-estimator-id-123\" class=\"sk-toggleable__label sk-toggleable__label-arrow\">catcol</label><div class=\"sk-toggleable__content\"><pre>[&#x27;attributes&#x27;]</pre></div></div></div><div class=\"sk-serial\"><div class=\"sk-item\"><div class=\"sk-estimator sk-toggleable\"><input class=\"sk-toggleable__control sk-hidden--visually\" id=\"sk-estimator-id-124\" type=\"checkbox\" ><label for=\"sk-estimator-id-124\" class=\"sk-toggleable__label sk-toggleable__label-arrow\">passthrough</label><div class=\"sk-toggleable__content\"><pre>passthrough</pre></div></div></div></div></div></div></div></div><div class=\"sk-item\"><div class=\"sk-estimator sk-toggleable\"><input class=\"sk-toggleable__control sk-hidden--visually\" id=\"sk-estimator-id-125\" type=\"checkbox\" ><label for=\"sk-estimator-id-125\" class=\"sk-toggleable__label sk-toggleable__label-arrow\">ArrayToList</label><div class=\"sk-toggleable__content\"><pre>ArrayToList()</pre></div></div></div><div class=\"sk-item\"><div class=\"sk-estimator sk-toggleable\"><input class=\"sk-toggleable__control sk-hidden--visually\" id=\"sk-estimator-id-126\" type=\"checkbox\" ><label for=\"sk-estimator-id-126\" class=\"sk-toggleable__label sk-toggleable__label-arrow\">AttributeTransformer</label><div class=\"sk-toggleable__content\"><pre>AttributeTransformer()</pre></div></div></div><div class=\"sk-item\"><div class=\"sk-estimator sk-toggleable\"><input class=\"sk-toggleable__control sk-hidden--visually\" id=\"sk-estimator-id-127\" type=\"checkbox\" ><label for=\"sk-estimator-id-127\" class=\"sk-toggleable__label sk-toggleable__label-arrow\">DictVectorizer</label><div class=\"sk-toggleable__content\"><pre>DictVectorizer(sparse=False)</pre></div></div></div><div class=\"sk-item sk-dashed-wrapped\"><div class=\"sk-label-container\"><div class=\"sk-label sk-toggleable\"><input class=\"sk-toggleable__control sk-hidden--visually\" id=\"sk-estimator-id-128\" type=\"checkbox\" ><label for=\"sk-estimator-id-128\" class=\"sk-toggleable__label sk-toggleable__label-arrow\">cust_pre: CustomPredictor</label><div class=\"sk-toggleable__content\"><pre>CustomPredictor(first_predictor=GridSearchCV(cv=5, estimator=Ridge(), n_jobs=-1,\n",
       "                                             param_grid={&#x27;alpha&#x27;: range(1, 100)}),\n",
       "                second_predictor=RandomForestRegressor(min_samples_leaf=5,\n",
       "                                                       random_state=42))</pre></div></div></div><div class=\"sk-parallel\"><div class=\"sk-parallel-item\"><div class=\"sk-item\"><div class=\"sk-label-container\"><div class=\"sk-label sk-toggleable\"><input class=\"sk-toggleable__control sk-hidden--visually\" id=\"sk-estimator-id-129\" type=\"checkbox\" ><label for=\"sk-estimator-id-129\" class=\"sk-toggleable__label sk-toggleable__label-arrow\">first_predictor: GridSearchCV</label><div class=\"sk-toggleable__content\"><pre>GridSearchCV(cv=5, estimator=Ridge(), n_jobs=-1,\n",
       "             param_grid={&#x27;alpha&#x27;: range(1, 100)})</pre></div></div></div><div class=\"sk-serial\"><div class=\"sk-item sk-dashed-wrapped\"><div class=\"sk-parallel\"><div class=\"sk-parallel-item\"><div class=\"sk-item\"><div class=\"sk-label-container\"><div class=\"sk-label sk-toggleable\"><input class=\"sk-toggleable__control sk-hidden--visually\" id=\"sk-estimator-id-130\" type=\"checkbox\" ><label for=\"sk-estimator-id-130\" class=\"sk-toggleable__label sk-toggleable__label-arrow\">estimator: Ridge</label><div class=\"sk-toggleable__content\"><pre>Ridge()</pre></div></div></div><div class=\"sk-serial\"><div class=\"sk-item\"><div class=\"sk-estimator sk-toggleable\"><input class=\"sk-toggleable__control sk-hidden--visually\" id=\"sk-estimator-id-131\" type=\"checkbox\" ><label for=\"sk-estimator-id-131\" class=\"sk-toggleable__label sk-toggleable__label-arrow\">Ridge</label><div class=\"sk-toggleable__content\"><pre>Ridge()</pre></div></div></div></div></div></div></div></div></div></div></div><div class=\"sk-parallel-item\"><div class=\"sk-item\"><div class=\"sk-label-container\"><div class=\"sk-label sk-toggleable\"><input class=\"sk-toggleable__control sk-hidden--visually\" id=\"sk-estimator-id-132\" type=\"checkbox\" ><label for=\"sk-estimator-id-132\" class=\"sk-toggleable__label sk-toggleable__label-arrow\">second_predictor: RandomForestRegressor</label><div class=\"sk-toggleable__content\"><pre>RandomForestRegressor(min_samples_leaf=5, random_state=42)</pre></div></div></div><div class=\"sk-serial\"><div class=\"sk-item\"><div class=\"sk-estimator sk-toggleable\"><input class=\"sk-toggleable__control sk-hidden--visually\" id=\"sk-estimator-id-133\" type=\"checkbox\" ><label for=\"sk-estimator-id-133\" class=\"sk-toggleable__label sk-toggleable__label-arrow\">RandomForestRegressor</label><div class=\"sk-toggleable__content\"><pre>RandomForestRegressor(min_samples_leaf=5, random_state=42)</pre></div></div></div></div></div></div></div></div></div></div></div></div>"
      ],
      "text/plain": [
       "Pipeline(steps=[('df_trans', ToDataFrame()),\n",
       "                ('col_trans',\n",
       "                 ColumnTransformer(transformers=[('catcol', 'passthrough',\n",
       "                                                  ['attributes'])])),\n",
       "                ('array_trans', ArrayToList()),\n",
       "                ('att_trans', AttributeTransformer()),\n",
       "                ('vectorize', DictVectorizer(sparse=False)),\n",
       "                ('cust_pre',\n",
       "                 CustomPredictor(first_predictor=GridSearchCV(cv=5,\n",
       "                                                              estimator=Ridge(),\n",
       "                                                              n_jobs=-1,\n",
       "                                                              param_grid={'alpha': range(1, 100)}),\n",
       "                                 second_predictor=RandomForestRegressor(min_samples_leaf=5,\n",
       "                                                                        random_state=42)))])"
      ]
     },
     "execution_count": 70,
     "metadata": {},
     "output_type": "execute_result"
    }
   ],
   "source": [
    "# Create the attribute model and custom predictor\n",
    "class CustomPredictor(BaseEstimator, RegressorMixin):\n",
    "\n",
    "    def __init__(self, first_predictor, second_predictor):\n",
    "        self.first_predictor = first_predictor\n",
    "        self.second_predictor = second_predictor\n",
    "\n",
    "    def fit(self, X, y):\n",
    "        self.first_predictor.fit(X, y)\n",
    "        residuals = y - self.first_predictor.predict(X)\n",
    "        self.second_predictor.fit(X, residuals)\n",
    "        return self\n",
    "\n",
    "    def predict(self, X):\n",
    "        return self.first_predictor.predict(X) + self.second_predictor.predict(X)\n",
    "\n",
    "# Create the custom predictor with a linear model and a non-linear model\n",
    "linear_model = Ridge()\n",
    "# Create the GridSearchCV object with ridge_model, param_grid, and cross-validation options\n",
    "param_grid = {'alpha': range(1,100)}\n",
    "new_linear_model = GridSearchCV(linear_model, param_grid, cv=5, n_jobs=-1)\n",
    "\n",
    "non_linear_model = RandomForestRegressor(min_samples_leaf=5, random_state=42) #RandomForest from sklear and do parameter tuning\n",
    "custom_predictor = CustomPredictor(new_linear_model, non_linear_model)\n",
    "\n",
    "\n",
    "\n",
    "#Data transformation and model implementation pipeline    \n",
    "att_pipe = Pipeline([\n",
    "        (\"df_trans\", to_data_frame),\n",
    "        (\"col_trans\", ct_att),\n",
    "        (\"array_trans\", array_to_list),\n",
    "        (\"att_trans\", att_transformer),\n",
    "        ('vectorize', DictVectorizer(sparse=False)),\n",
    "        (\"cust_pre\", custom_predictor)\n",
    "])\n",
    "\n",
    "\n",
    "# Fit the custom predictor on the training data\n",
    "att_pipe.fit(data,star_ratings)"
   ]
  },
  {
   "cell_type": "code",
   "execution_count": 71,
   "id": "6e1d6a18",
   "metadata": {
    "scrolled": true,
    "slideshow": null
   },
   "outputs": [
    {
     "name": "stdout",
     "output_type": "stream",
     "text": [
      "==================\n",
      "Your score: 0.9750\n",
      "==================\n"
     ]
    }
   ],
   "source": [
    "grader.score('ml__attribute_model', att_pipe.predict)  # Edit to appropriate name"
   ]
  },
  {
   "cell_type": "markdown",
   "id": "9fdfe89a",
   "metadata": {
    "slideshow": null
   },
   "source": [
    "## Question 6: full_model"
   ]
  },
  {
   "cell_type": "markdown",
   "id": "d096cad9",
   "metadata": {
    "slideshow": null
   },
   "source": [
    "So far we have only built models based on individual features.  Now we will build an ensemble regressor that averages together the estimates of the four previous regressors.\n",
    "\n",
    "In order to use the existing models as input to a predictor, we will have to turn them into transformers; a predictor can only be in the final step of a pipeline. Build a custom `ModelTransformer` class that takes a predictor as an argument. When `fit` is called, the predictor should be fit. When `transform` is called, the predictor's `predict` method should be called, and its results returned as the transformation.\n",
    "\n",
    "Note that the output of the `transform` method should be a 2-D array with a single column in order for it to work well with the scikit-learn pipeline. If you're using NumPy arrays, you can use `.reshape(-1, 1)` to create a column vector. If you are just using Python lists, you will want a list of lists of single elements."
   ]
  },
  {
   "cell_type": "code",
   "execution_count": 44,
   "id": "d31eba1c",
   "metadata": {
    "slideshow": null
   },
   "outputs": [],
   "source": [
    "#import everything\n",
    "import numpy as np\n",
    "import pandas as pd\n",
    "from sklearn.linear_model import Ridge\n",
    "from sklearn.model_selection import GridSearchCV, RandomizedSearchCV, train_test_split\n",
    "from sklearn.pipeline import Pipeline\n",
    "from sklearn.preprocessing import StandardScaler\n",
    "from sklearn.compose import ColumnTransformer\n",
    "from sklearn.feature_extraction import DictVectorizer\n",
    "\n",
    "class ModelTransformer(BaseEstimator, TransformerMixin):\n",
    "    def __init__(self, predictor):\n",
    "        self.predictor = predictor\n",
    "\n",
    "    def fit(self, X, y):\n",
    "        self.predictor.fit(X, y) #fits the predictor to the input data\n",
    "        return self\n",
    "\n",
    "    def transform(self, X):\n",
    "        predictions = self.predictor.predict(X) #method calls the predictor's predict method\n",
    "        return np.array(predictions).reshape(-1, 1) #return 2-D array with a single column\n",
    "        print(predictions)"
   ]
  },
  {
   "cell_type": "markdown",
   "id": "b700227c",
   "metadata": {
    "slideshow": null
   },
   "source": [
    "Let's now test it out on our `city_model`."
   ]
  },
  {
   "cell_type": "code",
   "execution_count": 48,
   "id": "af6c6936",
   "metadata": {
    "slideshow": null
   },
   "outputs": [
    {
     "data": {
      "text/plain": [
       "True"
      ]
     },
     "execution_count": 48,
     "metadata": {},
     "output_type": "execute_result"
    }
   ],
   "source": [
    "#city model\n",
    "city_trans = ModelTransformer(city_model)\n",
    "city_trans.fit(data, star_ratings)\n",
    "X_t = city_trans.transform(data[:5])\n",
    "\n",
    "\n",
    "# Check that the transformation output is a 2-D array with one column\n",
    "grader.check(np.array(X_t).shape[-1] == 1)"
   ]
  },
  {
   "cell_type": "code",
   "execution_count": 49,
   "id": "4223e251",
   "metadata": {
    "slideshow": null
   },
   "outputs": [
    {
     "data": {
      "text/plain": [
       "True"
      ]
     },
     "execution_count": 49,
     "metadata": {},
     "output_type": "execute_result"
    }
   ],
   "source": [
    "y_pred = np.array(city_model.predict(data[:5]))\n",
    "\n",
    "# Check that the transformation output is the same as the model's predictions\n",
    "grader.check((y_pred.reshape(-1, 1) == X_t).all())"
   ]
  },
  {
   "cell_type": "markdown",
   "id": "1e2e3b36",
   "metadata": {
    "slideshow": null
   },
   "source": [
    "Create an instance of `ModelTransformer` for each of the previous four models. Combine these together in a single feature matrix with a\n",
    "[`FeatureUnion`](http://scikit-learn.org/stable/modules/generated/sklearn.pipeline.FeatureUnion.html#sklearn.pipeline.FeatureUnion)."
   ]
  },
  {
   "cell_type": "code",
   "execution_count": 50,
   "id": "8c27e7a8",
   "metadata": {},
   "outputs": [],
   "source": [
    "#Modify pipelines to accept \"raw data or shuff_data\" as input\n",
    "\n",
    "####Modified attributes pipeline\n",
    "selected_columns_att = ['attributes']\n",
    "ct_att = ColumnTransformer(\n",
    "    transformers=[(\"catcol\", 'passthrough', selected_columns_att)])\n",
    "\n",
    "\n",
    "class ToDataFrame(BaseEstimator, TransformerMixin):\n",
    "    def fit(self, X, y=None):\n",
    "        # This transformer doesn't need to learn anything about the data,\n",
    "        # so it can just return self without any further processing\n",
    "        return self\n",
    "    \n",
    "    def transform(self, X):\n",
    "        #here we use X as a variable that represents a list of dictionaries\n",
    "        Z = pd.DataFrame(X) \n",
    "        return Z\n",
    "        # Return a pandas data frame from X\n",
    "\n",
    "to_data_frame = ToDataFrame()\n",
    "\n",
    "class ArrayToList(BaseEstimator, TransformerMixin):\n",
    "    def fit(self, X, y=None):\n",
    "        # This transformer doesn't need to learn anything about the data,\n",
    "        # so it can just return self without any further processing\n",
    "        return self\n",
    "    \n",
    "    def transform(self, X):\n",
    "        #here we use X as a variable that represents a list of dictionaries\n",
    "        Z = pd.Series(X.tolist()) \n",
    "        return Z\n",
    "        # Return a pandas data frame from X\n",
    "\n",
    "array_to_list = ArrayToList()\n",
    "\n",
    "class AttributeTransformer(BaseEstimator, TransformerMixin):\n",
    "    def flatten_dict(self, d, prefix=''):\n",
    "        if not isinstance(d, dict):\n",
    "            return {}\n",
    "\n",
    "        result = {}\n",
    "        for key, value in d.items():\n",
    "            if isinstance(value, dict):\n",
    "                result.update(self.flatten_dict(value, f'{key}_'))\n",
    "            elif isinstance(value, bool):\n",
    "                result[f'{prefix}{key}'] = int(value)\n",
    "            elif isinstance(value, str) or isinstance(value, int):\n",
    "                result[f'{prefix}{key}_{value}'] = 1\n",
    "            else:\n",
    "                result[f'{prefix}{key}'] = value\n",
    "        return result\n",
    "\n",
    "    def fit(self, X, y=None):\n",
    "        return self\n",
    "\n",
    "    def transform(self, X, y=None):\n",
    "        flattened_dicts = [self.flatten_dict(inner_dict[0]) for inner_dict in X]\n",
    "        #output_df = pd.DataFrame(flattened_dicts)\n",
    "        #output_df.fillna(0, inplace=True)\n",
    "        #self.feature_names = output_df.columns.tolist()\n",
    "        return flattened_dicts\n",
    "    \n",
    "att_transformer = AttributeTransformer()\n",
    "\n",
    "#Custom predictor (combines linear and nonlinear model) to be called in attributes pipeline\n",
    "class CustomPredictor(BaseEstimator, RegressorMixin):\n",
    "\n",
    "    def __init__(self, first_predictor, second_predictor):\n",
    "        self.first_predictor = first_predictor\n",
    "        self.second_predictor = second_predictor\n",
    "\n",
    "    def fit(self, X, y):\n",
    "        self.first_predictor.fit(X, y)\n",
    "        residuals = y - self.first_predictor.predict(X)\n",
    "        self.second_predictor.fit(X, residuals)\n",
    "        return self\n",
    "\n",
    "    def predict(self, X):\n",
    "        return self.first_predictor.predict(X) + self.second_predictor.predict(X)\n",
    "\n",
    "# Create the custom predictor with a linear model and a non-linear model\n",
    "linear_model = Ridge()\n",
    "# Create the GridSearchCV object with ridge_model, param_grid, and cross-validation options\n",
    "param_grid = {'alpha': range(1,100)}\n",
    "new_linear_model = GridSearchCV(linear_model, param_grid, cv=5, n_jobs=-1)\n",
    "\n",
    "non_linear_model = RandomForestRegressor(min_samples_leaf=5, random_state=42) #RandomForest from sklear and do parameter tuning\n",
    "custom_predictor = CustomPredictor(new_linear_model, non_linear_model)\n",
    "\n",
    "\n",
    "\n",
    "att_pipe = Pipeline([\n",
    "        (\"df_trans\", to_data_frame),\n",
    "        (\"col_trans\", ct_att),\n",
    "        (\"array_trans\", array_to_list),\n",
    "        (\"att_trans\", att_transformer),\n",
    "        ('vectorize', DictVectorizer(sparse=False)),\n",
    "        (\"cust_pre\", custom_predictor)\n",
    "])\n",
    "\n",
    "\n",
    "####Modified categories pipeline\n",
    "selected_columns_cat = ['categories']\n",
    "ct_cat = ColumnTransformer(\n",
    "    transformers=[(\"catcol\", 'passthrough', selected_columns_cat)])\n",
    "\n",
    "def makedict(X):\n",
    "    listtester = []\n",
    "    for i in range(len(X)):\n",
    "        counts = pd.value_counts(X[i]).to_dict()\n",
    "        #print(counts)\n",
    "\n",
    "        listtester.append(counts)\n",
    "    return listtester\n",
    "\n",
    "class DictEncoder_pipe(BaseEstimator, TransformerMixin):\n",
    "    def fit(self, X, y=None):\n",
    "        return self\n",
    "    \n",
    "    def transform(self, X):\n",
    "        # X will be a pandas series. Return a pandas series of dictionaries\n",
    "        X = [item for sublist in X for item in sublist]\n",
    "        #print(X)\n",
    "        d = makedict(X)   \n",
    "        #vect_out = v.fit_transform(d)\n",
    "        return d\n",
    "\n",
    "to_dict_en = DictEncoder_pipe()\n",
    "        \n",
    "CategoriesPipeline_fit_model = Pipeline([\n",
    "    ('df_trans', to_data_frame),#first step is to transform dictionaries into dataframe\n",
    "    ('col_trans', ct), #column transformer for 'categories'\n",
    "    ('dict_trans', to_dict_en),#two steps are in the encoder\n",
    "    ('vectorize', DictVectorizer(sparse=False)),\n",
    "    ('scaler', StandardScaler()), #train model\n",
    "    ('regressor', Ridge()), #choose Ridge()\n",
    "])\n",
    "\n",
    "#CategoriesPipeline_fit_model.fit(shuff_data[:5],shuff_ratings[:5]) #test to make sure pipeline runs"
   ]
  },
  {
   "cell_type": "code",
   "execution_count": 81,
   "id": "126bed66",
   "metadata": {},
   "outputs": [],
   "source": [
    "city_model.fit(shuff_data[:5],shuff_ratings[:5]) #test to make sure pipeline runs"
   ]
  },
  {
   "cell_type": "code",
   "execution_count": 99,
   "id": "792a5520",
   "metadata": {},
   "outputs": [],
   "source": [
    "#Run model transformer to create predictors from 4 models\n",
    "\n",
    "#city model\n",
    "city_trans = ModelTransformer(city_model)\n",
    "\n",
    "#knn model\n",
    "knn_o = gs_est #feed in optimal number that was found previously with .best_params_\n",
    "knn_trans = ModelTransformer(knn_o)\n",
    "\n",
    "#categories ridge regressor\n",
    "ridge_model = CategoriesPipeline_fit_model\n",
    "ridge_trans = ModelTransformer(ridge_model)\n",
    "\n",
    "#custom predictor for attributes\n",
    "lin_nonlin_model = att_pipe\n",
    "lin_nonlin_trans = ModelTransformer(att_pipe)\n"
   ]
  },
  {
   "cell_type": "code",
   "execution_count": 100,
   "id": "3ca71b54",
   "metadata": {
    "slideshow": null
   },
   "outputs": [],
   "source": [
    "from sklearn.pipeline import FeatureUnion\n",
    "\n",
    "# Create a FeatureUnion that combines the ModelTransformer objects\n",
    "union = FeatureUnion([\n",
    "    (\"ridge\", ridge_trans), \n",
    "    (\"knn\", knn_trans),\n",
    "    (\"city\", city_trans), \n",
    "    (\"lin_nonlin\", lin_nonlin_trans)\n",
    "])"
   ]
  },
  {
   "cell_type": "markdown",
   "id": "bbf7e159",
   "metadata": {
    "slideshow": null
   },
   "source": [
    "Our `FeatureUnion` object should return a feature matrix with four columns."
   ]
  },
  {
   "cell_type": "code",
   "execution_count": null,
   "id": "1b7bfd6b",
   "metadata": {},
   "outputs": [],
   "source": [
    "# Fit the FeatureUnion to the training data\n",
    "union.fit(data[:5], star_ratings[:5])\n",
    "X_t = union.transform(data[:5])\n",
    "\n",
    "# Transformed data should have 5 rows and 4 columns\n",
    "grader.check(X_t.shape == (5, 4))"
   ]
  },
  {
   "cell_type": "markdown",
   "id": "739d2451",
   "metadata": {
    "slideshow": null
   },
   "source": [
    "Finally, use a pipeline to combine the feature union with a linear regression (or another model) to weight the predictions."
   ]
  },
  {
   "cell_type": "code",
   "execution_count": 102,
   "id": "1aded099",
   "metadata": {},
   "outputs": [
    {
     "name": "stdout",
     "output_type": "stream",
     "text": [
      "Fitting 3 folds for each of 99 candidates, totalling 297 fits\n"
     ]
    },
    {
     "data": {
      "text/html": [
       "<style>#sk-container-id-14 {color: black;background-color: white;}#sk-container-id-14 pre{padding: 0;}#sk-container-id-14 div.sk-toggleable {background-color: white;}#sk-container-id-14 label.sk-toggleable__label {cursor: pointer;display: block;width: 100%;margin-bottom: 0;padding: 0.3em;box-sizing: border-box;text-align: center;}#sk-container-id-14 label.sk-toggleable__label-arrow:before {content: \"▸\";float: left;margin-right: 0.25em;color: #696969;}#sk-container-id-14 label.sk-toggleable__label-arrow:hover:before {color: black;}#sk-container-id-14 div.sk-estimator:hover label.sk-toggleable__label-arrow:before {color: black;}#sk-container-id-14 div.sk-toggleable__content {max-height: 0;max-width: 0;overflow: hidden;text-align: left;background-color: #f0f8ff;}#sk-container-id-14 div.sk-toggleable__content pre {margin: 0.2em;color: black;border-radius: 0.25em;background-color: #f0f8ff;}#sk-container-id-14 input.sk-toggleable__control:checked~div.sk-toggleable__content {max-height: 200px;max-width: 100%;overflow: auto;}#sk-container-id-14 input.sk-toggleable__control:checked~label.sk-toggleable__label-arrow:before {content: \"▾\";}#sk-container-id-14 div.sk-estimator input.sk-toggleable__control:checked~label.sk-toggleable__label {background-color: #d4ebff;}#sk-container-id-14 div.sk-label input.sk-toggleable__control:checked~label.sk-toggleable__label {background-color: #d4ebff;}#sk-container-id-14 input.sk-hidden--visually {border: 0;clip: rect(1px 1px 1px 1px);clip: rect(1px, 1px, 1px, 1px);height: 1px;margin: -1px;overflow: hidden;padding: 0;position: absolute;width: 1px;}#sk-container-id-14 div.sk-estimator {font-family: monospace;background-color: #f0f8ff;border: 1px dotted black;border-radius: 0.25em;box-sizing: border-box;margin-bottom: 0.5em;}#sk-container-id-14 div.sk-estimator:hover {background-color: #d4ebff;}#sk-container-id-14 div.sk-parallel-item::after {content: \"\";width: 100%;border-bottom: 1px solid gray;flex-grow: 1;}#sk-container-id-14 div.sk-label:hover label.sk-toggleable__label {background-color: #d4ebff;}#sk-container-id-14 div.sk-serial::before {content: \"\";position: absolute;border-left: 1px solid gray;box-sizing: border-box;top: 0;bottom: 0;left: 50%;z-index: 0;}#sk-container-id-14 div.sk-serial {display: flex;flex-direction: column;align-items: center;background-color: white;padding-right: 0.2em;padding-left: 0.2em;position: relative;}#sk-container-id-14 div.sk-item {position: relative;z-index: 1;}#sk-container-id-14 div.sk-parallel {display: flex;align-items: stretch;justify-content: center;background-color: white;position: relative;}#sk-container-id-14 div.sk-item::before, #sk-container-id-14 div.sk-parallel-item::before {content: \"\";position: absolute;border-left: 1px solid gray;box-sizing: border-box;top: 0;bottom: 0;left: 50%;z-index: -1;}#sk-container-id-14 div.sk-parallel-item {display: flex;flex-direction: column;z-index: 1;position: relative;background-color: white;}#sk-container-id-14 div.sk-parallel-item:first-child::after {align-self: flex-end;width: 50%;}#sk-container-id-14 div.sk-parallel-item:last-child::after {align-self: flex-start;width: 50%;}#sk-container-id-14 div.sk-parallel-item:only-child::after {width: 0;}#sk-container-id-14 div.sk-dashed-wrapped {border: 1px dashed gray;margin: 0 0.4em 0.5em 0.4em;box-sizing: border-box;padding-bottom: 0.4em;background-color: white;}#sk-container-id-14 div.sk-label label {font-family: monospace;font-weight: bold;display: inline-block;line-height: 1.2em;}#sk-container-id-14 div.sk-label-container {text-align: center;}#sk-container-id-14 div.sk-container {/* jupyter's `normalize.less` sets `[hidden] { display: none; }` but bootstrap.min.css set `[hidden] { display: none !important; }` so we also need the `!important` here to be able to override the default hidden behavior on the sphinx rendered scikit-learn.org. See: https://github.com/scikit-learn/scikit-learn/issues/21755 */display: inline-block !important;position: relative;}#sk-container-id-14 div.sk-text-repr-fallback {display: none;}</style><div id=\"sk-container-id-14\" class=\"sk-top-container\"><div class=\"sk-text-repr-fallback\"><pre>Pipeline(steps=[(&#x27;union&#x27;,\n",
       "                 FeatureUnion(transformer_list=[(&#x27;ridge&#x27;,\n",
       "                                                 ModelTransformer(predictor=Pipeline(steps=[(&#x27;df_trans&#x27;,\n",
       "                                                                                             ToDataFrame()),\n",
       "                                                                                            (&#x27;col_trans&#x27;,\n",
       "                                                                                             ColumnTransformer(transformers=[(&#x27;catcol&#x27;,\n",
       "                                                                                                                              &#x27;passthrough&#x27;,\n",
       "                                                                                                                              [&#x27;categories&#x27;])])),\n",
       "                                                                                            (&#x27;dict_trans&#x27;,\n",
       "                                                                                             DictEncoder_pipe()),\n",
       "                                                                                            (&#x27;vectorize&#x27;,\n",
       "                                                                                             DictVectorizer(sparse=False)),\n",
       "                                                                                            (&#x27;scaler&#x27;,\n",
       "                                                                                             StandardScaler()),\n",
       "                                                                                            (&#x27;regressor&#x27;,\n",
       "                                                                                             Ridge(alp...\n",
       "                                                                                            (&#x27;array_trans&#x27;,\n",
       "                                                                                             ArrayToList()),\n",
       "                                                                                            (&#x27;att_trans&#x27;,\n",
       "                                                                                             AttributeTransformer()),\n",
       "                                                                                            (&#x27;vectorize&#x27;,\n",
       "                                                                                             DictVectorizer(sparse=False)),\n",
       "                                                                                            (&#x27;cust_pre&#x27;,\n",
       "                                                                                             CustomPredictor(first_predictor=GridSearchCV(cv=5,\n",
       "                                                                                                                                          estimator=Ridge(),\n",
       "                                                                                                                                          n_jobs=-1,\n",
       "                                                                                                                                          param_grid={&#x27;alpha&#x27;: range(1, 100)}),\n",
       "                                                                                                             second_predictor=RandomForestRegressor(min_samples_leaf=5,\n",
       "                                                                                                                                                    random_state=42)))])))])),\n",
       "                (&#x27;regressor&#x27;, LinearRegression())])</pre><b>In a Jupyter environment, please rerun this cell to show the HTML representation or trust the notebook. <br />On GitHub, the HTML representation is unable to render, please try loading this page with nbviewer.org.</b></div><div class=\"sk-container\" hidden><div class=\"sk-item sk-dashed-wrapped\"><div class=\"sk-label-container\"><div class=\"sk-label sk-toggleable\"><input class=\"sk-toggleable__control sk-hidden--visually\" id=\"sk-estimator-id-157\" type=\"checkbox\" ><label for=\"sk-estimator-id-157\" class=\"sk-toggleable__label sk-toggleable__label-arrow\">Pipeline</label><div class=\"sk-toggleable__content\"><pre>Pipeline(steps=[(&#x27;union&#x27;,\n",
       "                 FeatureUnion(transformer_list=[(&#x27;ridge&#x27;,\n",
       "                                                 ModelTransformer(predictor=Pipeline(steps=[(&#x27;df_trans&#x27;,\n",
       "                                                                                             ToDataFrame()),\n",
       "                                                                                            (&#x27;col_trans&#x27;,\n",
       "                                                                                             ColumnTransformer(transformers=[(&#x27;catcol&#x27;,\n",
       "                                                                                                                              &#x27;passthrough&#x27;,\n",
       "                                                                                                                              [&#x27;categories&#x27;])])),\n",
       "                                                                                            (&#x27;dict_trans&#x27;,\n",
       "                                                                                             DictEncoder_pipe()),\n",
       "                                                                                            (&#x27;vectorize&#x27;,\n",
       "                                                                                             DictVectorizer(sparse=False)),\n",
       "                                                                                            (&#x27;scaler&#x27;,\n",
       "                                                                                             StandardScaler()),\n",
       "                                                                                            (&#x27;regressor&#x27;,\n",
       "                                                                                             Ridge(alp...\n",
       "                                                                                            (&#x27;array_trans&#x27;,\n",
       "                                                                                             ArrayToList()),\n",
       "                                                                                            (&#x27;att_trans&#x27;,\n",
       "                                                                                             AttributeTransformer()),\n",
       "                                                                                            (&#x27;vectorize&#x27;,\n",
       "                                                                                             DictVectorizer(sparse=False)),\n",
       "                                                                                            (&#x27;cust_pre&#x27;,\n",
       "                                                                                             CustomPredictor(first_predictor=GridSearchCV(cv=5,\n",
       "                                                                                                                                          estimator=Ridge(),\n",
       "                                                                                                                                          n_jobs=-1,\n",
       "                                                                                                                                          param_grid={&#x27;alpha&#x27;: range(1, 100)}),\n",
       "                                                                                                             second_predictor=RandomForestRegressor(min_samples_leaf=5,\n",
       "                                                                                                                                                    random_state=42)))])))])),\n",
       "                (&#x27;regressor&#x27;, LinearRegression())])</pre></div></div></div><div class=\"sk-serial\"><div class=\"sk-item sk-dashed-wrapped\"><div class=\"sk-label-container\"><div class=\"sk-label sk-toggleable\"><input class=\"sk-toggleable__control sk-hidden--visually\" id=\"sk-estimator-id-158\" type=\"checkbox\" ><label for=\"sk-estimator-id-158\" class=\"sk-toggleable__label sk-toggleable__label-arrow\">union: FeatureUnion</label><div class=\"sk-toggleable__content\"><pre>FeatureUnion(transformer_list=[(&#x27;ridge&#x27;,\n",
       "                                ModelTransformer(predictor=Pipeline(steps=[(&#x27;df_trans&#x27;,\n",
       "                                                                            ToDataFrame()),\n",
       "                                                                           (&#x27;col_trans&#x27;,\n",
       "                                                                            ColumnTransformer(transformers=[(&#x27;catcol&#x27;,\n",
       "                                                                                                             &#x27;passthrough&#x27;,\n",
       "                                                                                                             [&#x27;categories&#x27;])])),\n",
       "                                                                           (&#x27;dict_trans&#x27;,\n",
       "                                                                            DictEncoder_pipe()),\n",
       "                                                                           (&#x27;vectorize&#x27;,\n",
       "                                                                            DictVectorizer(sparse=False)),\n",
       "                                                                           (&#x27;scaler&#x27;,\n",
       "                                                                            StandardScaler()),\n",
       "                                                                           (&#x27;regressor&#x27;,\n",
       "                                                                            Ridge(alpha=0.91))]))),\n",
       "                               (&#x27;knn&#x27;,\n",
       "                                Mode...\n",
       "                                                                                                             &#x27;passthrough&#x27;,\n",
       "                                                                                                             [&#x27;attributes&#x27;])])),\n",
       "                                                                           (&#x27;array_trans&#x27;,\n",
       "                                                                            ArrayToList()),\n",
       "                                                                           (&#x27;att_trans&#x27;,\n",
       "                                                                            AttributeTransformer()),\n",
       "                                                                           (&#x27;vectorize&#x27;,\n",
       "                                                                            DictVectorizer(sparse=False)),\n",
       "                                                                           (&#x27;cust_pre&#x27;,\n",
       "                                                                            CustomPredictor(first_predictor=GridSearchCV(cv=5,\n",
       "                                                                                                                         estimator=Ridge(),\n",
       "                                                                                                                         n_jobs=-1,\n",
       "                                                                                                                         param_grid={&#x27;alpha&#x27;: range(1, 100)}),\n",
       "                                                                                            second_predictor=RandomForestRegressor(min_samples_leaf=5,\n",
       "                                                                                                                                   random_state=42)))])))])</pre></div></div></div><div class=\"sk-parallel\"><div class=\"sk-parallel-item\"><div class=\"sk-item\"><div class=\"sk-label-container\"><div class=\"sk-label sk-toggleable\"><label>ridge</label></div></div><div class=\"sk-serial\"><div class=\"sk-item sk-dashed-wrapped\"><div class=\"sk-parallel\"><div class=\"sk-parallel-item\"><div class=\"sk-item\"><div class=\"sk-label-container\"><div class=\"sk-label sk-toggleable\"><input class=\"sk-toggleable__control sk-hidden--visually\" id=\"sk-estimator-id-159\" type=\"checkbox\" ><label for=\"sk-estimator-id-159\" class=\"sk-toggleable__label sk-toggleable__label-arrow\">predictor: Pipeline</label><div class=\"sk-toggleable__content\"><pre>Pipeline(steps=[(&#x27;df_trans&#x27;, ToDataFrame()),\n",
       "                (&#x27;col_trans&#x27;,\n",
       "                 ColumnTransformer(transformers=[(&#x27;catcol&#x27;, &#x27;passthrough&#x27;,\n",
       "                                                  [&#x27;categories&#x27;])])),\n",
       "                (&#x27;dict_trans&#x27;, DictEncoder_pipe()),\n",
       "                (&#x27;vectorize&#x27;, DictVectorizer(sparse=False)),\n",
       "                (&#x27;scaler&#x27;, StandardScaler()),\n",
       "                (&#x27;regressor&#x27;, Ridge(alpha=0.91))])</pre></div></div></div><div class=\"sk-serial\"><div class=\"sk-item\"><div class=\"sk-serial\"><div class=\"sk-item\"><div class=\"sk-estimator sk-toggleable\"><input class=\"sk-toggleable__control sk-hidden--visually\" id=\"sk-estimator-id-160\" type=\"checkbox\" ><label for=\"sk-estimator-id-160\" class=\"sk-toggleable__label sk-toggleable__label-arrow\">ToDataFrame</label><div class=\"sk-toggleable__content\"><pre>ToDataFrame()</pre></div></div></div><div class=\"sk-item sk-dashed-wrapped\"><div class=\"sk-label-container\"><div class=\"sk-label sk-toggleable\"><input class=\"sk-toggleable__control sk-hidden--visually\" id=\"sk-estimator-id-161\" type=\"checkbox\" ><label for=\"sk-estimator-id-161\" class=\"sk-toggleable__label sk-toggleable__label-arrow\">col_trans: ColumnTransformer</label><div class=\"sk-toggleable__content\"><pre>ColumnTransformer(transformers=[(&#x27;catcol&#x27;, &#x27;passthrough&#x27;, [&#x27;categories&#x27;])])</pre></div></div></div><div class=\"sk-parallel\"><div class=\"sk-parallel-item\"><div class=\"sk-item\"><div class=\"sk-label-container\"><div class=\"sk-label sk-toggleable\"><input class=\"sk-toggleable__control sk-hidden--visually\" id=\"sk-estimator-id-162\" type=\"checkbox\" ><label for=\"sk-estimator-id-162\" class=\"sk-toggleable__label sk-toggleable__label-arrow\">catcol</label><div class=\"sk-toggleable__content\"><pre>[&#x27;categories&#x27;]</pre></div></div></div><div class=\"sk-serial\"><div class=\"sk-item\"><div class=\"sk-estimator sk-toggleable\"><input class=\"sk-toggleable__control sk-hidden--visually\" id=\"sk-estimator-id-163\" type=\"checkbox\" ><label for=\"sk-estimator-id-163\" class=\"sk-toggleable__label sk-toggleable__label-arrow\">passthrough</label><div class=\"sk-toggleable__content\"><pre>passthrough</pre></div></div></div></div></div></div></div></div><div class=\"sk-item\"><div class=\"sk-estimator sk-toggleable\"><input class=\"sk-toggleable__control sk-hidden--visually\" id=\"sk-estimator-id-164\" type=\"checkbox\" ><label for=\"sk-estimator-id-164\" class=\"sk-toggleable__label sk-toggleable__label-arrow\">DictEncoder_pipe</label><div class=\"sk-toggleable__content\"><pre>DictEncoder_pipe()</pre></div></div></div><div class=\"sk-item\"><div class=\"sk-estimator sk-toggleable\"><input class=\"sk-toggleable__control sk-hidden--visually\" id=\"sk-estimator-id-165\" type=\"checkbox\" ><label for=\"sk-estimator-id-165\" class=\"sk-toggleable__label sk-toggleable__label-arrow\">DictVectorizer</label><div class=\"sk-toggleable__content\"><pre>DictVectorizer(sparse=False)</pre></div></div></div><div class=\"sk-item\"><div class=\"sk-estimator sk-toggleable\"><input class=\"sk-toggleable__control sk-hidden--visually\" id=\"sk-estimator-id-166\" type=\"checkbox\" ><label for=\"sk-estimator-id-166\" class=\"sk-toggleable__label sk-toggleable__label-arrow\">StandardScaler</label><div class=\"sk-toggleable__content\"><pre>StandardScaler()</pre></div></div></div><div class=\"sk-item\"><div class=\"sk-estimator sk-toggleable\"><input class=\"sk-toggleable__control sk-hidden--visually\" id=\"sk-estimator-id-167\" type=\"checkbox\" ><label for=\"sk-estimator-id-167\" class=\"sk-toggleable__label sk-toggleable__label-arrow\">Ridge</label><div class=\"sk-toggleable__content\"><pre>Ridge(alpha=0.91)</pre></div></div></div></div></div></div></div></div></div></div></div></div></div><div class=\"sk-parallel-item\"><div class=\"sk-item\"><div class=\"sk-label-container\"><div class=\"sk-label sk-toggleable\"><label>knn</label></div></div><div class=\"sk-serial\"><div class=\"sk-item sk-dashed-wrapped\"><div class=\"sk-parallel\"><div class=\"sk-parallel-item\"><div class=\"sk-item\"><div class=\"sk-label-container\"><div class=\"sk-label sk-toggleable\"><input class=\"sk-toggleable__control sk-hidden--visually\" id=\"sk-estimator-id-168\" type=\"checkbox\" ><label for=\"sk-estimator-id-168\" class=\"sk-toggleable__label sk-toggleable__label-arrow\">predictor: GridSearchCV</label><div class=\"sk-toggleable__content\"><pre>GridSearchCV(cv=3,\n",
       "             estimator=Pipeline(steps=[(&#x27;df_trans&#x27;, ToDataFrame()),\n",
       "                                       (&#x27;col_trans&#x27;,\n",
       "                                        ColumnTransformer(transformers=[(&#x27;latlon&#x27;,\n",
       "                                                                         &#x27;passthrough&#x27;,\n",
       "                                                                         [&#x27;latitude&#x27;,\n",
       "                                                                          &#x27;longitude&#x27;])])),\n",
       "                                       (&#x27;Kregressor&#x27;, KNeighborsRegressor())]),\n",
       "             n_jobs=2,\n",
       "             param_grid={&#x27;Kregressor__n_neighbors&#x27;: [1, 2, 3, 4, 5, 6, 7, 8, 9,\n",
       "                                                     10, 11, 12, 13, 14, 15, 16,\n",
       "                                                     17, 18, 19, 20, 21, 22, 23,\n",
       "                                                     24, 25, 26, 27, 28, 29, 30, ...]},\n",
       "             verbose=1)</pre></div></div></div><div class=\"sk-serial\"><div class=\"sk-item sk-dashed-wrapped\"><div class=\"sk-parallel\"><div class=\"sk-parallel-item\"><div class=\"sk-item\"><div class=\"sk-label-container\"><div class=\"sk-label sk-toggleable\"><input class=\"sk-toggleable__control sk-hidden--visually\" id=\"sk-estimator-id-169\" type=\"checkbox\" ><label for=\"sk-estimator-id-169\" class=\"sk-toggleable__label sk-toggleable__label-arrow\">estimator: Pipeline</label><div class=\"sk-toggleable__content\"><pre>Pipeline(steps=[(&#x27;df_trans&#x27;, ToDataFrame()),\n",
       "                (&#x27;col_trans&#x27;,\n",
       "                 ColumnTransformer(transformers=[(&#x27;latlon&#x27;, &#x27;passthrough&#x27;,\n",
       "                                                  [&#x27;latitude&#x27;, &#x27;longitude&#x27;])])),\n",
       "                (&#x27;Kregressor&#x27;, KNeighborsRegressor())])</pre></div></div></div><div class=\"sk-serial\"><div class=\"sk-item\"><div class=\"sk-serial\"><div class=\"sk-item\"><div class=\"sk-estimator sk-toggleable\"><input class=\"sk-toggleable__control sk-hidden--visually\" id=\"sk-estimator-id-170\" type=\"checkbox\" ><label for=\"sk-estimator-id-170\" class=\"sk-toggleable__label sk-toggleable__label-arrow\">ToDataFrame</label><div class=\"sk-toggleable__content\"><pre>ToDataFrame()</pre></div></div></div><div class=\"sk-item sk-dashed-wrapped\"><div class=\"sk-label-container\"><div class=\"sk-label sk-toggleable\"><input class=\"sk-toggleable__control sk-hidden--visually\" id=\"sk-estimator-id-171\" type=\"checkbox\" ><label for=\"sk-estimator-id-171\" class=\"sk-toggleable__label sk-toggleable__label-arrow\">col_trans: ColumnTransformer</label><div class=\"sk-toggleable__content\"><pre>ColumnTransformer(transformers=[(&#x27;latlon&#x27;, &#x27;passthrough&#x27;,\n",
       "                                 [&#x27;latitude&#x27;, &#x27;longitude&#x27;])])</pre></div></div></div><div class=\"sk-parallel\"><div class=\"sk-parallel-item\"><div class=\"sk-item\"><div class=\"sk-label-container\"><div class=\"sk-label sk-toggleable\"><input class=\"sk-toggleable__control sk-hidden--visually\" id=\"sk-estimator-id-172\" type=\"checkbox\" ><label for=\"sk-estimator-id-172\" class=\"sk-toggleable__label sk-toggleable__label-arrow\">latlon</label><div class=\"sk-toggleable__content\"><pre>[&#x27;latitude&#x27;, &#x27;longitude&#x27;]</pre></div></div></div><div class=\"sk-serial\"><div class=\"sk-item\"><div class=\"sk-estimator sk-toggleable\"><input class=\"sk-toggleable__control sk-hidden--visually\" id=\"sk-estimator-id-173\" type=\"checkbox\" ><label for=\"sk-estimator-id-173\" class=\"sk-toggleable__label sk-toggleable__label-arrow\">passthrough</label><div class=\"sk-toggleable__content\"><pre>passthrough</pre></div></div></div></div></div></div></div></div><div class=\"sk-item\"><div class=\"sk-estimator sk-toggleable\"><input class=\"sk-toggleable__control sk-hidden--visually\" id=\"sk-estimator-id-174\" type=\"checkbox\" ><label for=\"sk-estimator-id-174\" class=\"sk-toggleable__label sk-toggleable__label-arrow\">KNeighborsRegressor</label><div class=\"sk-toggleable__content\"><pre>KNeighborsRegressor()</pre></div></div></div></div></div></div></div></div></div></div></div></div></div></div></div></div></div></div><div class=\"sk-parallel-item\"><div class=\"sk-item\"><div class=\"sk-label-container\"><div class=\"sk-label sk-toggleable\"><label>city</label></div></div><div class=\"sk-serial\"><div class=\"sk-item sk-dashed-wrapped\"><div class=\"sk-parallel\"><div class=\"sk-parallel-item\"><div class=\"sk-item\"><div class=\"sk-label-container\"><div class=\"sk-label sk-toggleable\"><input class=\"sk-toggleable__control sk-hidden--visually\" id=\"sk-estimator-id-175\" type=\"checkbox\" ><label for=\"sk-estimator-id-175\" class=\"sk-toggleable__label sk-toggleable__label-arrow\">predictor: CityRegressor</label><div class=\"sk-toggleable__content\"><pre>CityRegressor()</pre></div></div></div><div class=\"sk-serial\"><div class=\"sk-item\"><div class=\"sk-estimator sk-toggleable\"><input class=\"sk-toggleable__control sk-hidden--visually\" id=\"sk-estimator-id-176\" type=\"checkbox\" ><label for=\"sk-estimator-id-176\" class=\"sk-toggleable__label sk-toggleable__label-arrow\">CityRegressor</label><div class=\"sk-toggleable__content\"><pre>CityRegressor()</pre></div></div></div></div></div></div></div></div></div></div></div><div class=\"sk-parallel-item\"><div class=\"sk-item\"><div class=\"sk-label-container\"><div class=\"sk-label sk-toggleable\"><label>lin_nonlin</label></div></div><div class=\"sk-serial\"><div class=\"sk-item sk-dashed-wrapped\"><div class=\"sk-parallel\"><div class=\"sk-parallel-item\"><div class=\"sk-item\"><div class=\"sk-label-container\"><div class=\"sk-label sk-toggleable\"><input class=\"sk-toggleable__control sk-hidden--visually\" id=\"sk-estimator-id-177\" type=\"checkbox\" ><label for=\"sk-estimator-id-177\" class=\"sk-toggleable__label sk-toggleable__label-arrow\">predictor: Pipeline</label><div class=\"sk-toggleable__content\"><pre>Pipeline(steps=[(&#x27;df_trans&#x27;, ToDataFrame()),\n",
       "                (&#x27;col_trans&#x27;,\n",
       "                 ColumnTransformer(transformers=[(&#x27;catcol&#x27;, &#x27;passthrough&#x27;,\n",
       "                                                  [&#x27;attributes&#x27;])])),\n",
       "                (&#x27;array_trans&#x27;, ArrayToList()),\n",
       "                (&#x27;att_trans&#x27;, AttributeTransformer()),\n",
       "                (&#x27;vectorize&#x27;, DictVectorizer(sparse=False)),\n",
       "                (&#x27;cust_pre&#x27;,\n",
       "                 CustomPredictor(first_predictor=GridSearchCV(cv=5,\n",
       "                                                              estimator=Ridge(),\n",
       "                                                              n_jobs=-1,\n",
       "                                                              param_grid={&#x27;alpha&#x27;: range(1, 100)}),\n",
       "                                 second_predictor=RandomForestRegressor(min_samples_leaf=5,\n",
       "                                                                        random_state=42)))])</pre></div></div></div><div class=\"sk-serial\"><div class=\"sk-item\"><div class=\"sk-serial\"><div class=\"sk-item\"><div class=\"sk-estimator sk-toggleable\"><input class=\"sk-toggleable__control sk-hidden--visually\" id=\"sk-estimator-id-178\" type=\"checkbox\" ><label for=\"sk-estimator-id-178\" class=\"sk-toggleable__label sk-toggleable__label-arrow\">ToDataFrame</label><div class=\"sk-toggleable__content\"><pre>ToDataFrame()</pre></div></div></div><div class=\"sk-item sk-dashed-wrapped\"><div class=\"sk-label-container\"><div class=\"sk-label sk-toggleable\"><input class=\"sk-toggleable__control sk-hidden--visually\" id=\"sk-estimator-id-179\" type=\"checkbox\" ><label for=\"sk-estimator-id-179\" class=\"sk-toggleable__label sk-toggleable__label-arrow\">col_trans: ColumnTransformer</label><div class=\"sk-toggleable__content\"><pre>ColumnTransformer(transformers=[(&#x27;catcol&#x27;, &#x27;passthrough&#x27;, [&#x27;attributes&#x27;])])</pre></div></div></div><div class=\"sk-parallel\"><div class=\"sk-parallel-item\"><div class=\"sk-item\"><div class=\"sk-label-container\"><div class=\"sk-label sk-toggleable\"><input class=\"sk-toggleable__control sk-hidden--visually\" id=\"sk-estimator-id-180\" type=\"checkbox\" ><label for=\"sk-estimator-id-180\" class=\"sk-toggleable__label sk-toggleable__label-arrow\">catcol</label><div class=\"sk-toggleable__content\"><pre>[&#x27;attributes&#x27;]</pre></div></div></div><div class=\"sk-serial\"><div class=\"sk-item\"><div class=\"sk-estimator sk-toggleable\"><input class=\"sk-toggleable__control sk-hidden--visually\" id=\"sk-estimator-id-181\" type=\"checkbox\" ><label for=\"sk-estimator-id-181\" class=\"sk-toggleable__label sk-toggleable__label-arrow\">passthrough</label><div class=\"sk-toggleable__content\"><pre>passthrough</pre></div></div></div></div></div></div></div></div><div class=\"sk-item\"><div class=\"sk-estimator sk-toggleable\"><input class=\"sk-toggleable__control sk-hidden--visually\" id=\"sk-estimator-id-182\" type=\"checkbox\" ><label for=\"sk-estimator-id-182\" class=\"sk-toggleable__label sk-toggleable__label-arrow\">ArrayToList</label><div class=\"sk-toggleable__content\"><pre>ArrayToList()</pre></div></div></div><div class=\"sk-item\"><div class=\"sk-estimator sk-toggleable\"><input class=\"sk-toggleable__control sk-hidden--visually\" id=\"sk-estimator-id-183\" type=\"checkbox\" ><label for=\"sk-estimator-id-183\" class=\"sk-toggleable__label sk-toggleable__label-arrow\">AttributeTransformer</label><div class=\"sk-toggleable__content\"><pre>AttributeTransformer()</pre></div></div></div><div class=\"sk-item\"><div class=\"sk-estimator sk-toggleable\"><input class=\"sk-toggleable__control sk-hidden--visually\" id=\"sk-estimator-id-184\" type=\"checkbox\" ><label for=\"sk-estimator-id-184\" class=\"sk-toggleable__label sk-toggleable__label-arrow\">DictVectorizer</label><div class=\"sk-toggleable__content\"><pre>DictVectorizer(sparse=False)</pre></div></div></div><div class=\"sk-item sk-dashed-wrapped\"><div class=\"sk-label-container\"><div class=\"sk-label sk-toggleable\"><input class=\"sk-toggleable__control sk-hidden--visually\" id=\"sk-estimator-id-185\" type=\"checkbox\" ><label for=\"sk-estimator-id-185\" class=\"sk-toggleable__label sk-toggleable__label-arrow\">cust_pre: CustomPredictor</label><div class=\"sk-toggleable__content\"><pre>CustomPredictor(first_predictor=GridSearchCV(cv=5, estimator=Ridge(), n_jobs=-1,\n",
       "                                             param_grid={&#x27;alpha&#x27;: range(1, 100)}),\n",
       "                second_predictor=RandomForestRegressor(min_samples_leaf=5,\n",
       "                                                       random_state=42))</pre></div></div></div><div class=\"sk-parallel\"><div class=\"sk-parallel-item\"><div class=\"sk-item\"><div class=\"sk-label-container\"><div class=\"sk-label sk-toggleable\"><input class=\"sk-toggleable__control sk-hidden--visually\" id=\"sk-estimator-id-186\" type=\"checkbox\" ><label for=\"sk-estimator-id-186\" class=\"sk-toggleable__label sk-toggleable__label-arrow\">first_predictor: GridSearchCV</label><div class=\"sk-toggleable__content\"><pre>GridSearchCV(cv=5, estimator=Ridge(), n_jobs=-1,\n",
       "             param_grid={&#x27;alpha&#x27;: range(1, 100)})</pre></div></div></div><div class=\"sk-serial\"><div class=\"sk-item sk-dashed-wrapped\"><div class=\"sk-parallel\"><div class=\"sk-parallel-item\"><div class=\"sk-item\"><div class=\"sk-label-container\"><div class=\"sk-label sk-toggleable\"><input class=\"sk-toggleable__control sk-hidden--visually\" id=\"sk-estimator-id-187\" type=\"checkbox\" ><label for=\"sk-estimator-id-187\" class=\"sk-toggleable__label sk-toggleable__label-arrow\">estimator: Ridge</label><div class=\"sk-toggleable__content\"><pre>Ridge()</pre></div></div></div><div class=\"sk-serial\"><div class=\"sk-item\"><div class=\"sk-estimator sk-toggleable\"><input class=\"sk-toggleable__control sk-hidden--visually\" id=\"sk-estimator-id-188\" type=\"checkbox\" ><label for=\"sk-estimator-id-188\" class=\"sk-toggleable__label sk-toggleable__label-arrow\">Ridge</label><div class=\"sk-toggleable__content\"><pre>Ridge()</pre></div></div></div></div></div></div></div></div></div></div></div><div class=\"sk-parallel-item\"><div class=\"sk-item\"><div class=\"sk-label-container\"><div class=\"sk-label sk-toggleable\"><input class=\"sk-toggleable__control sk-hidden--visually\" id=\"sk-estimator-id-189\" type=\"checkbox\" ><label for=\"sk-estimator-id-189\" class=\"sk-toggleable__label sk-toggleable__label-arrow\">second_predictor: RandomForestRegressor</label><div class=\"sk-toggleable__content\"><pre>RandomForestRegressor(min_samples_leaf=5, random_state=42)</pre></div></div></div><div class=\"sk-serial\"><div class=\"sk-item\"><div class=\"sk-estimator sk-toggleable\"><input class=\"sk-toggleable__control sk-hidden--visually\" id=\"sk-estimator-id-190\" type=\"checkbox\" ><label for=\"sk-estimator-id-190\" class=\"sk-toggleable__label sk-toggleable__label-arrow\">RandomForestRegressor</label><div class=\"sk-toggleable__content\"><pre>RandomForestRegressor(min_samples_leaf=5, random_state=42)</pre></div></div></div></div></div></div></div></div></div></div></div></div></div></div></div></div></div></div></div></div><div class=\"sk-item\"><div class=\"sk-estimator sk-toggleable\"><input class=\"sk-toggleable__control sk-hidden--visually\" id=\"sk-estimator-id-191\" type=\"checkbox\" ><label for=\"sk-estimator-id-191\" class=\"sk-toggleable__label sk-toggleable__label-arrow\">LinearRegression</label><div class=\"sk-toggleable__content\"><pre>LinearRegression()</pre></div></div></div></div></div></div></div>"
      ],
      "text/plain": [
       "Pipeline(steps=[('union',\n",
       "                 FeatureUnion(transformer_list=[('ridge',\n",
       "                                                 ModelTransformer(predictor=Pipeline(steps=[('df_trans',\n",
       "                                                                                             ToDataFrame()),\n",
       "                                                                                            ('col_trans',\n",
       "                                                                                             ColumnTransformer(transformers=[('catcol',\n",
       "                                                                                                                              'passthrough',\n",
       "                                                                                                                              ['categories'])])),\n",
       "                                                                                            ('dict_trans',\n",
       "                                                                                             DictEncoder_pipe()),\n",
       "                                                                                            ('vectorize',\n",
       "                                                                                             DictVectorizer(sparse=False)),\n",
       "                                                                                            ('scaler',\n",
       "                                                                                             StandardScaler()),\n",
       "                                                                                            ('regressor',\n",
       "                                                                                             Ridge(alp...\n",
       "                                                                                            ('array_trans',\n",
       "                                                                                             ArrayToList()),\n",
       "                                                                                            ('att_trans',\n",
       "                                                                                             AttributeTransformer()),\n",
       "                                                                                            ('vectorize',\n",
       "                                                                                             DictVectorizer(sparse=False)),\n",
       "                                                                                            ('cust_pre',\n",
       "                                                                                             CustomPredictor(first_predictor=GridSearchCV(cv=5,\n",
       "                                                                                                                                          estimator=Ridge(),\n",
       "                                                                                                                                          n_jobs=-1,\n",
       "                                                                                                                                          param_grid={'alpha': range(1, 100)}),\n",
       "                                                                                                             second_predictor=RandomForestRegressor(min_samples_leaf=5,\n",
       "                                                                                                                                                    random_state=42)))])))])),\n",
       "                ('regressor', LinearRegression())])"
      ]
     },
     "execution_count": 102,
     "metadata": {},
     "output_type": "execute_result"
    }
   ],
   "source": [
    "\n",
    "# Create the pipeline with the FeatureUnion and a linear regression model\n",
    "pipeline = Pipeline([\n",
    "    (\"union\", union),\n",
    "    (\"regressor\", LinearRegression())\n",
    "])\n",
    "\n",
    "# Fit and predict using the pipeline\n",
    "# Assuming you have already split your data into X_train, X_test, y_train, and y_test\n",
    "\n",
    "#X_train, X_test, y_train, y_test = train_test_split(shuff_data,shuff_ratings, test_size=0.2, random_state=150)\n",
    "\n",
    "pipeline.fit(data, star_ratings)\n",
    "#y_pred = pipeline.predict(shuff_data)"
   ]
  },
  {
   "cell_type": "code",
   "execution_count": 103,
   "id": "9cc9f1ee",
   "metadata": {
    "slideshow": null
   },
   "outputs": [
    {
     "name": "stdout",
     "output_type": "stream",
     "text": [
      "==================\n",
      "Your score: 0.9665\n",
      "==================\n"
     ]
    }
   ],
   "source": [
    "grader.score('ml__full_model', pipeline.predict)  # Edit to appropriate name"
   ]
  },
  {
   "cell_type": "markdown",
   "id": "93fe2451",
   "metadata": {
    "slideshow": null
   },
   "source": [
    "**Extension:** Try a non-linear model such as [`RandomForestRegressor`](http://scikit-learn.org/stable/modules/generated/sklearn.ensemble.RandomForestRegressor.html#sklearn.ensemble.RandomForestRegressor) to blend the predictions of the four models. Are you able to get better results? If so, what do you think it's learning how to do?"
   ]
  },
  {
   "cell_type": "markdown",
   "id": "3ef6fd99",
   "metadata": {
    "slideshow": null
   },
   "source": [
    "*Copyright &copy; 2023 Pragmatic Institute. This content is licensed solely for personal use. Redistribution or publication of this material is strictly prohibited.*"
   ]
  }
 ],
 "metadata": {
  "kernelspec": {
   "display_name": "Python 3 (ipykernel)",
   "language": "python",
   "name": "python3"
  },
  "language_info": {
   "codemirror_mode": {
    "name": "ipython",
    "version": 3
   },
   "file_extension": ".py",
   "mimetype": "text/x-python",
   "name": "python",
   "nbconvert_exporter": "python",
   "pygments_lexer": "ipython3",
   "version": "3.9.13"
  },
  "nbclean": true
 },
 "nbformat": 4,
 "nbformat_minor": 5
}
