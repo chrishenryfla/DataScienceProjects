{
 "cells": [
  {
   "cell_type": "code",
   "execution_count": 1,
   "id": "a7a8e286",
   "metadata": {
    "slideshow": null
   },
   "outputs": [],
   "source": [
    "import seaborn as sns\n",
    "sns.set()"
   ]
  },
  {
   "cell_type": "code",
   "execution_count": 2,
   "id": "a408a58c",
   "metadata": {
    "slideshow": null
   },
   "outputs": [],
   "source": [
    "import numpy as np\n",
    "import pandas as pd\n",
    "import datetime as dt\n",
    "from static_grader import grader"
   ]
  },
  {
   "cell_type": "markdown",
   "id": "0ab3bc24",
   "metadata": {
    "slideshow": null
   },
   "source": [
    "# Time Series Data: Predict Temperature"
   ]
  },
  {
   "cell_type": "markdown",
   "id": "64d82109",
   "metadata": {
    "slideshow": null
   },
   "source": [
    "Time series prediction presents its own challenges which are different from machine-learning problems.  As with many other classes of problems, there are a number of common features in these predictions.\n"
   ]
  },
  {
   "cell_type": "markdown",
   "id": "0b6a218b",
   "metadata": {
    "slideshow": null
   },
   "source": [
    "## A note on scoring"
   ]
  },
  {
   "cell_type": "markdown",
   "id": "4e5ea4cc",
   "metadata": {
    "slideshow": null
   },
   "source": [
    "It **is** possible to score >1 on these questions. This indicates that you've beaten our reference model - we compare our model's score on a test set to your score on a test set. See how high you can go!\n"
   ]
  },
  {
   "cell_type": "markdown",
   "id": "721043fb",
   "metadata": {
    "slideshow": null
   },
   "source": [
    "## Fetch the data:"
   ]
  },
  {
   "cell_type": "code",
   "execution_count": 3,
   "id": "7620d866",
   "metadata": {
    "slideshow": null
   },
   "outputs": [],
   "source": [
    "!aws s3 sync s3://dataincubator-course/mldata/ . --exclude '*' --include 'train.v2.csv.gz'"
   ]
  },
  {
   "cell_type": "markdown",
   "id": "7262e844",
   "metadata": {
    "slideshow": null
   },
   "source": [
    "The data can be loaded into pandas easily:"
   ]
  },
  {
   "cell_type": "code",
   "execution_count": 4,
   "id": "b4f3f2cd",
   "metadata": {
    "scrolled": false,
    "slideshow": null
   },
   "outputs": [
    {
     "data": {
      "text/html": [
       "<div>\n",
       "<style scoped>\n",
       "    .dataframe tbody tr th:only-of-type {\n",
       "        vertical-align: middle;\n",
       "    }\n",
       "\n",
       "    .dataframe tbody tr th {\n",
       "        vertical-align: top;\n",
       "    }\n",
       "\n",
       "    .dataframe thead th {\n",
       "        text-align: right;\n",
       "    }\n",
       "</style>\n",
       "<table border=\"1\" class=\"dataframe\">\n",
       "  <thead>\n",
       "    <tr style=\"text-align: right;\">\n",
       "      <th></th>\n",
       "      <th>station</th>\n",
       "      <th>time</th>\n",
       "      <th>temp</th>\n",
       "      <th>dew_point</th>\n",
       "      <th>pressure</th>\n",
       "      <th>wind_speed</th>\n",
       "      <th>wind_direction</th>\n",
       "      <th>precip_hour</th>\n",
       "      <th>weather_codes</th>\n",
       "    </tr>\n",
       "  </thead>\n",
       "  <tbody>\n",
       "    <tr>\n",
       "      <th>0</th>\n",
       "      <td>PHX</td>\n",
       "      <td>2010-01-01 00:51</td>\n",
       "      <td>62.06</td>\n",
       "      <td>15.98</td>\n",
       "      <td>1024.90</td>\n",
       "      <td>3.00</td>\n",
       "      <td>20.00</td>\n",
       "      <td>M</td>\n",
       "      <td>M</td>\n",
       "    </tr>\n",
       "    <tr>\n",
       "      <th>1</th>\n",
       "      <td>PHX</td>\n",
       "      <td>2010-01-01 01:51</td>\n",
       "      <td>60.08</td>\n",
       "      <td>17.96</td>\n",
       "      <td>1025.30</td>\n",
       "      <td>4.00</td>\n",
       "      <td>50.00</td>\n",
       "      <td>M</td>\n",
       "      <td>M</td>\n",
       "    </tr>\n",
       "    <tr>\n",
       "      <th>2</th>\n",
       "      <td>PHX</td>\n",
       "      <td>2010-01-01 02:51</td>\n",
       "      <td>59.00</td>\n",
       "      <td>17.96</td>\n",
       "      <td>1025.60</td>\n",
       "      <td>4.00</td>\n",
       "      <td>30.00</td>\n",
       "      <td>M</td>\n",
       "      <td>M</td>\n",
       "    </tr>\n",
       "    <tr>\n",
       "      <th>3</th>\n",
       "      <td>PHX</td>\n",
       "      <td>2010-01-01 03:51</td>\n",
       "      <td>53.96</td>\n",
       "      <td>21.92</td>\n",
       "      <td>1026.00</td>\n",
       "      <td>0.00</td>\n",
       "      <td>0.00</td>\n",
       "      <td>M</td>\n",
       "      <td>M</td>\n",
       "    </tr>\n",
       "    <tr>\n",
       "      <th>4</th>\n",
       "      <td>PHX</td>\n",
       "      <td>2010-01-01 04:51</td>\n",
       "      <td>55.94</td>\n",
       "      <td>17.06</td>\n",
       "      <td>1026.20</td>\n",
       "      <td>5.00</td>\n",
       "      <td>40.00</td>\n",
       "      <td>M</td>\n",
       "      <td>M</td>\n",
       "    </tr>\n",
       "  </tbody>\n",
       "</table>\n",
       "</div>"
      ],
      "text/plain": [
       "  station              time   temp dew_point pressure wind_speed  \\\n",
       "0     PHX  2010-01-01 00:51  62.06     15.98  1024.90       3.00   \n",
       "1     PHX  2010-01-01 01:51  60.08     17.96  1025.30       4.00   \n",
       "2     PHX  2010-01-01 02:51  59.00     17.96  1025.60       4.00   \n",
       "3     PHX  2010-01-01 03:51  53.96     21.92  1026.00       0.00   \n",
       "4     PHX  2010-01-01 04:51  55.94     17.06  1026.20       5.00   \n",
       "\n",
       "  wind_direction precip_hour weather_codes  \n",
       "0          20.00           M             M  \n",
       "1          50.00           M             M  \n",
       "2          30.00           M             M  \n",
       "3           0.00           M             M  \n",
       "4          40.00           M             M  "
      ]
     },
     "execution_count": 4,
     "metadata": {},
     "output_type": "execute_result"
    }
   ],
   "source": [
    "df = pd.read_csv('train.v2.csv.gz')\n",
    "df.head()"
   ]
  },
  {
   "cell_type": "code",
   "execution_count": 5,
   "id": "5133193d",
   "metadata": {},
   "outputs": [
    {
     "data": {
      "text/plain": [
       "392136"
      ]
     },
     "execution_count": 5,
     "metadata": {},
     "output_type": "execute_result"
    }
   ],
   "source": [
    "len(df)"
   ]
  },
  {
   "cell_type": "code",
   "execution_count": 6,
   "id": "6b8f5e1b",
   "metadata": {
    "scrolled": true
   },
   "outputs": [
    {
     "data": {
      "text/plain": [
       "392020"
      ]
     },
     "execution_count": 6,
     "metadata": {},
     "output_type": "execute_result"
    }
   ],
   "source": [
    "# Step 1: Identify the flag value for the 'temp' column\n",
    "flag_value = 'M'\n",
    "\n",
    "# Step 2: Filter the data frame to remove rows with the flag value in the 'temp' column\n",
    "df_filtered = df[df['temp'] != flag_value]\n",
    "\n",
    "df_filtered.reset_index(drop=True, inplace=True)\n",
    "\n",
    "len(df_filtered)"
   ]
  },
  {
   "cell_type": "markdown",
   "id": "bca60cd5",
   "metadata": {
    "slideshow": null
   },
   "source": [
    "The `station` column indicates the city.  The `time` is measured in UTC.  Both `temp` and `dew_point` are measured in degrees Fahrenheit.  The `wind_speed` is in knots, and the `precip_hour` measures the hourly precipitation in inches.\n",
    "\n",
    "Missing values are indicated by a flag value.  Remove rows without valid temperature measurements.  You may also want to change some data types. (But keep in mind that the data provided by the grader will have the same data types as `pd.read_csv` provided.)"
   ]
  },
  {
   "cell_type": "markdown",
   "id": "23be8402",
   "metadata": {
    "slideshow": null
   },
   "source": [
    "We will focus on using the temporal elements to predict the temperature.\n"
   ]
  },
  {
   "cell_type": "markdown",
   "id": "a372ca2e",
   "metadata": {
    "slideshow": null
   },
   "source": [
    "# Questions\n"
   ]
  },
  {
   "cell_type": "markdown",
   "id": "fc14153f",
   "metadata": {
    "slideshow": null
   },
   "source": [
    "For each question, build a model to predict the temperature in a given city at a given time.  You will be given a DataFrame, as we got from `pd.read_csv`.  (As you can imagine, the temperature values will be nonsensical in the DataFrame you are given.)  Return a collection of predicted temperatures, one for each incoming row in the DataFrame.  "
   ]
  },
  {
   "cell_type": "markdown",
   "id": "c242012c",
   "metadata": {
    "slideshow": null
   },
   "source": [
    "## One-city model"
   ]
  },
  {
   "cell_type": "markdown",
   "id": "a1bcacd1",
   "metadata": {
    "slideshow": null
   },
   "source": [
    "As you may have noticed, the data contains rows for multiple cities.  We'll deal with all of them soon, but for this first question, we'll focus on only the data from New York (`\"NYC\"`).  Start by isolating only those rows."
   ]
  },
  {
   "cell_type": "code",
   "execution_count": 7,
   "id": "23b8b583",
   "metadata": {},
   "outputs": [],
   "source": [
    "NYC_filtered = df_filtered[df_filtered['station'] == 'NYC']"
   ]
  },
  {
   "cell_type": "code",
   "execution_count": 8,
   "id": "eba46c89",
   "metadata": {},
   "outputs": [
    {
     "data": {
      "text/html": [
       "<div>\n",
       "<style scoped>\n",
       "    .dataframe tbody tr th:only-of-type {\n",
       "        vertical-align: middle;\n",
       "    }\n",
       "\n",
       "    .dataframe tbody tr th {\n",
       "        vertical-align: top;\n",
       "    }\n",
       "\n",
       "    .dataframe thead th {\n",
       "        text-align: right;\n",
       "    }\n",
       "</style>\n",
       "<table border=\"1\" class=\"dataframe\">\n",
       "  <thead>\n",
       "    <tr style=\"text-align: right;\">\n",
       "      <th></th>\n",
       "      <th>station</th>\n",
       "      <th>time</th>\n",
       "      <th>temp</th>\n",
       "      <th>dew_point</th>\n",
       "      <th>pressure</th>\n",
       "      <th>wind_speed</th>\n",
       "      <th>wind_direction</th>\n",
       "      <th>precip_hour</th>\n",
       "      <th>weather_codes</th>\n",
       "    </tr>\n",
       "  </thead>\n",
       "  <tbody>\n",
       "    <tr>\n",
       "      <th>314275</th>\n",
       "      <td>NYC</td>\n",
       "      <td>2010-01-01 00:51</td>\n",
       "      <td>33.98</td>\n",
       "      <td>30.92</td>\n",
       "      <td>1017.70</td>\n",
       "      <td>3.00</td>\n",
       "      <td>40.00</td>\n",
       "      <td>M</td>\n",
       "      <td>BR</td>\n",
       "    </tr>\n",
       "    <tr>\n",
       "      <th>314276</th>\n",
       "      <td>NYC</td>\n",
       "      <td>2010-01-01 01:51</td>\n",
       "      <td>33.98</td>\n",
       "      <td>30.92</td>\n",
       "      <td>1017.50</td>\n",
       "      <td>0.00</td>\n",
       "      <td>0.00</td>\n",
       "      <td>0.01</td>\n",
       "      <td>-SN BR</td>\n",
       "    </tr>\n",
       "    <tr>\n",
       "      <th>314277</th>\n",
       "      <td>NYC</td>\n",
       "      <td>2010-01-01 02:51</td>\n",
       "      <td>33.98</td>\n",
       "      <td>30.92</td>\n",
       "      <td>1016.80</td>\n",
       "      <td>0.00</td>\n",
       "      <td>0.00</td>\n",
       "      <td>0.03</td>\n",
       "      <td>UP BR</td>\n",
       "    </tr>\n",
       "    <tr>\n",
       "      <th>314278</th>\n",
       "      <td>NYC</td>\n",
       "      <td>2010-01-01 03:51</td>\n",
       "      <td>33.10</td>\n",
       "      <td>32.00</td>\n",
       "      <td>1016.50</td>\n",
       "      <td>5.00</td>\n",
       "      <td>60.00</td>\n",
       "      <td>0.02</td>\n",
       "      <td>-SN BR</td>\n",
       "    </tr>\n",
       "    <tr>\n",
       "      <th>314279</th>\n",
       "      <td>NYC</td>\n",
       "      <td>2010-01-01 04:51</td>\n",
       "      <td>33.08</td>\n",
       "      <td>30.92</td>\n",
       "      <td>1015.80</td>\n",
       "      <td>0.00</td>\n",
       "      <td>0.00</td>\n",
       "      <td>0.01</td>\n",
       "      <td>-SN BR</td>\n",
       "    </tr>\n",
       "  </tbody>\n",
       "</table>\n",
       "</div>"
      ],
      "text/plain": [
       "       station              time   temp dew_point pressure wind_speed  \\\n",
       "314275     NYC  2010-01-01 00:51  33.98     30.92  1017.70       3.00   \n",
       "314276     NYC  2010-01-01 01:51  33.98     30.92  1017.50       0.00   \n",
       "314277     NYC  2010-01-01 02:51  33.98     30.92  1016.80       0.00   \n",
       "314278     NYC  2010-01-01 03:51  33.10     32.00  1016.50       5.00   \n",
       "314279     NYC  2010-01-01 04:51  33.08     30.92  1015.80       0.00   \n",
       "\n",
       "       wind_direction precip_hour weather_codes  \n",
       "314275          40.00           M            BR  \n",
       "314276           0.00        0.01        -SN BR  \n",
       "314277           0.00        0.03         UP BR  \n",
       "314278          60.00        0.02        -SN BR  \n",
       "314279           0.00        0.01        -SN BR  "
      ]
     },
     "execution_count": 8,
     "metadata": {},
     "output_type": "execute_result"
    }
   ],
   "source": [
    "NYC_filtered.head()"
   ]
  },
  {
   "cell_type": "markdown",
   "id": "6a1dad27",
   "metadata": {
    "slideshow": null
   },
   "source": [
    "Seasonal features are nice because they are relatively safe to extrapolate into the future. There are two ways to handle seasonality.  \n",
    "\n",
    "The simplest (and perhaps most robust) is to have a set of indicator variables. That is, make the assumption that the temperature at any given time is a function of only the month of the year and the hour of the day, and use that to predict the temperature value.\n",
    "\n",
    "**Question**: Should month be a continuous or categorical variable?  (Recall that [one-hot encoding](http://scikit-learn.org/stable/modules/generated/sklearn.preprocessing.OneHotEncoder.html) is useful to deal with categorical variables.)\n",
    "\n",
    "Build a model to predict the temperature for a given hour in a given month in New York."
   ]
  },
  {
   "cell_type": "code",
   "execution_count": 9,
   "id": "618df097",
   "metadata": {},
   "outputs": [],
   "source": [
    "train_data = NYC_filtered[:int(len(NYC_filtered)*0.8)]\n",
    "valid_data = NYC_filtered[int(len(NYC_filtered)*0.8):]"
   ]
  },
  {
   "cell_type": "code",
   "execution_count": 10,
   "id": "a6b96921",
   "metadata": {},
   "outputs": [
    {
     "data": {
      "text/plain": [
       "pandas._libs.tslibs.timestamps.Timestamp"
      ]
     },
     "execution_count": 10,
     "metadata": {},
     "output_type": "execute_result"
    }
   ],
   "source": [
    "type(pd.to_datetime(df_filtered['time'][1]))"
   ]
  },
  {
   "cell_type": "code",
   "execution_count": 11,
   "id": "94a04a7b",
   "metadata": {
    "scrolled": true
   },
   "outputs": [
    {
     "data": {
      "text/html": [
       "<style>#sk-container-id-1 {color: black;background-color: white;}#sk-container-id-1 pre{padding: 0;}#sk-container-id-1 div.sk-toggleable {background-color: white;}#sk-container-id-1 label.sk-toggleable__label {cursor: pointer;display: block;width: 100%;margin-bottom: 0;padding: 0.3em;box-sizing: border-box;text-align: center;}#sk-container-id-1 label.sk-toggleable__label-arrow:before {content: \"▸\";float: left;margin-right: 0.25em;color: #696969;}#sk-container-id-1 label.sk-toggleable__label-arrow:hover:before {color: black;}#sk-container-id-1 div.sk-estimator:hover label.sk-toggleable__label-arrow:before {color: black;}#sk-container-id-1 div.sk-toggleable__content {max-height: 0;max-width: 0;overflow: hidden;text-align: left;background-color: #f0f8ff;}#sk-container-id-1 div.sk-toggleable__content pre {margin: 0.2em;color: black;border-radius: 0.25em;background-color: #f0f8ff;}#sk-container-id-1 input.sk-toggleable__control:checked~div.sk-toggleable__content {max-height: 200px;max-width: 100%;overflow: auto;}#sk-container-id-1 input.sk-toggleable__control:checked~label.sk-toggleable__label-arrow:before {content: \"▾\";}#sk-container-id-1 div.sk-estimator input.sk-toggleable__control:checked~label.sk-toggleable__label {background-color: #d4ebff;}#sk-container-id-1 div.sk-label input.sk-toggleable__control:checked~label.sk-toggleable__label {background-color: #d4ebff;}#sk-container-id-1 input.sk-hidden--visually {border: 0;clip: rect(1px 1px 1px 1px);clip: rect(1px, 1px, 1px, 1px);height: 1px;margin: -1px;overflow: hidden;padding: 0;position: absolute;width: 1px;}#sk-container-id-1 div.sk-estimator {font-family: monospace;background-color: #f0f8ff;border: 1px dotted black;border-radius: 0.25em;box-sizing: border-box;margin-bottom: 0.5em;}#sk-container-id-1 div.sk-estimator:hover {background-color: #d4ebff;}#sk-container-id-1 div.sk-parallel-item::after {content: \"\";width: 100%;border-bottom: 1px solid gray;flex-grow: 1;}#sk-container-id-1 div.sk-label:hover label.sk-toggleable__label {background-color: #d4ebff;}#sk-container-id-1 div.sk-serial::before {content: \"\";position: absolute;border-left: 1px solid gray;box-sizing: border-box;top: 0;bottom: 0;left: 50%;z-index: 0;}#sk-container-id-1 div.sk-serial {display: flex;flex-direction: column;align-items: center;background-color: white;padding-right: 0.2em;padding-left: 0.2em;position: relative;}#sk-container-id-1 div.sk-item {position: relative;z-index: 1;}#sk-container-id-1 div.sk-parallel {display: flex;align-items: stretch;justify-content: center;background-color: white;position: relative;}#sk-container-id-1 div.sk-item::before, #sk-container-id-1 div.sk-parallel-item::before {content: \"\";position: absolute;border-left: 1px solid gray;box-sizing: border-box;top: 0;bottom: 0;left: 50%;z-index: -1;}#sk-container-id-1 div.sk-parallel-item {display: flex;flex-direction: column;z-index: 1;position: relative;background-color: white;}#sk-container-id-1 div.sk-parallel-item:first-child::after {align-self: flex-end;width: 50%;}#sk-container-id-1 div.sk-parallel-item:last-child::after {align-self: flex-start;width: 50%;}#sk-container-id-1 div.sk-parallel-item:only-child::after {width: 0;}#sk-container-id-1 div.sk-dashed-wrapped {border: 1px dashed gray;margin: 0 0.4em 0.5em 0.4em;box-sizing: border-box;padding-bottom: 0.4em;background-color: white;}#sk-container-id-1 div.sk-label label {font-family: monospace;font-weight: bold;display: inline-block;line-height: 1.2em;}#sk-container-id-1 div.sk-label-container {text-align: center;}#sk-container-id-1 div.sk-container {/* jupyter's `normalize.less` sets `[hidden] { display: none; }` but bootstrap.min.css set `[hidden] { display: none !important; }` so we also need the `!important` here to be able to override the default hidden behavior on the sphinx rendered scikit-learn.org. See: https://github.com/scikit-learn/scikit-learn/issues/21755 */display: inline-block !important;position: relative;}#sk-container-id-1 div.sk-text-repr-fallback {display: none;}</style><div id=\"sk-container-id-1\" class=\"sk-top-container\"><div class=\"sk-text-repr-fallback\"><pre>Pipeline(steps=[(&#x27;drift&#x27;, MonthTime()), (&#x27;onehot&#x27;, OneHotEncoder(drop=&#x27;first&#x27;)),\n",
       "                (&#x27;regressor&#x27;, LinearRegression())])</pre><b>In a Jupyter environment, please rerun this cell to show the HTML representation or trust the notebook. <br />On GitHub, the HTML representation is unable to render, please try loading this page with nbviewer.org.</b></div><div class=\"sk-container\" hidden><div class=\"sk-item sk-dashed-wrapped\"><div class=\"sk-label-container\"><div class=\"sk-label sk-toggleable\"><input class=\"sk-toggleable__control sk-hidden--visually\" id=\"sk-estimator-id-1\" type=\"checkbox\" ><label for=\"sk-estimator-id-1\" class=\"sk-toggleable__label sk-toggleable__label-arrow\">Pipeline</label><div class=\"sk-toggleable__content\"><pre>Pipeline(steps=[(&#x27;drift&#x27;, MonthTime()), (&#x27;onehot&#x27;, OneHotEncoder(drop=&#x27;first&#x27;)),\n",
       "                (&#x27;regressor&#x27;, LinearRegression())])</pre></div></div></div><div class=\"sk-serial\"><div class=\"sk-item\"><div class=\"sk-estimator sk-toggleable\"><input class=\"sk-toggleable__control sk-hidden--visually\" id=\"sk-estimator-id-2\" type=\"checkbox\" ><label for=\"sk-estimator-id-2\" class=\"sk-toggleable__label sk-toggleable__label-arrow\">MonthTime</label><div class=\"sk-toggleable__content\"><pre>MonthTime()</pre></div></div></div><div class=\"sk-item\"><div class=\"sk-estimator sk-toggleable\"><input class=\"sk-toggleable__control sk-hidden--visually\" id=\"sk-estimator-id-3\" type=\"checkbox\" ><label for=\"sk-estimator-id-3\" class=\"sk-toggleable__label sk-toggleable__label-arrow\">OneHotEncoder</label><div class=\"sk-toggleable__content\"><pre>OneHotEncoder(drop=&#x27;first&#x27;)</pre></div></div></div><div class=\"sk-item\"><div class=\"sk-estimator sk-toggleable\"><input class=\"sk-toggleable__control sk-hidden--visually\" id=\"sk-estimator-id-4\" type=\"checkbox\" ><label for=\"sk-estimator-id-4\" class=\"sk-toggleable__label sk-toggleable__label-arrow\">LinearRegression</label><div class=\"sk-toggleable__content\"><pre>LinearRegression()</pre></div></div></div></div></div></div></div>"
      ],
      "text/plain": [
       "Pipeline(steps=[('drift', MonthTime()), ('onehot', OneHotEncoder(drop='first')),\n",
       "                ('regressor', LinearRegression())])"
      ]
     },
     "execution_count": 11,
     "metadata": {},
     "output_type": "execute_result"
    }
   ],
   "source": [
    "import numpy as np\n",
    "from datetime import datetime\n",
    "from sklearn.linear_model import LinearRegression\n",
    "from sklearn.pipeline import Pipeline\n",
    "from sklearn import base\n",
    "from sklearn.preprocessing import OneHotEncoder\n",
    "\n",
    "\n",
    "class MonthTime(base.BaseEstimator, base.TransformerMixin):\n",
    "    \"\"\"Convert datetime to time in days and make features month, and hour.\"\"\"\n",
    "\n",
    "    def fit(self, X, y=None):\n",
    "        # Since we don't use X for fitting in this transformer, we can ignore it.\n",
    "        return self\n",
    "\n",
    "    def transform(self, X):\n",
    "        X=X.copy()\n",
    "        \n",
    "        # Convert the 'time' column to datetime objects\n",
    "        X['time'] = pd.to_datetime(X['time'])\n",
    "        \n",
    "        # Extract month of the year from datetime\n",
    "        X['month'] = X['time'].dt.month\n",
    "        \n",
    "        # Extract hour of the day from datetime\n",
    "        X['hour'] = X['time'].dt.hour\n",
    "        \n",
    "        # Drop the original 'time' column\n",
    "        X = X.drop('time', axis=1)\n",
    "        \n",
    "        return X[['month', 'hour']]\n",
    "\n",
    "\n",
    "model_drift = Pipeline([('drift', MonthTime()),\n",
    "                    ('onehot', OneHotEncoder(drop='first')),\n",
    "                    ('regressor', LinearRegression())])\n",
    "\n",
    "#train_data = train_data.drop('temp', axis=1)\n",
    "\n",
    "model_drift.fit(train_data, train_data.temp)\n"
   ]
  },
  {
   "cell_type": "markdown",
   "id": "fbec1c03",
   "metadata": {
    "slideshow": null
   },
   "source": [
    "The grader will provide a DataFrame in the same format as `pd.read_csv` provided.  All of the temperature data will be redacted.  As long as your model accepts DataFrame input, you should be able to run the grader line below as-is.  If your model is expecting a different input, you will need to write an adapter function."
   ]
  },
  {
   "cell_type": "code",
   "execution_count": 12,
   "id": "20298d94",
   "metadata": {
    "slideshow": null
   },
   "outputs": [
    {
     "name": "stdout",
     "output_type": "stream",
     "text": [
      "==================\n",
      "Your score: 0.9971\n",
      "==================\n"
     ]
    }
   ],
   "source": [
    "grader.score('ts__one_city_model', model_drift.predict)"
   ]
  },
  {
   "cell_type": "markdown",
   "id": "60be610f",
   "metadata": {
    "slideshow": null
   },
   "source": [
    "## Per-city model"
   ]
  },
  {
   "cell_type": "markdown",
   "id": "70b6465e",
   "metadata": {
    "slideshow": null
   },
   "source": [
    "Now we want to extend this same model to handle all of the cities in our data set.  Rather than adding features to the existing model to handle this, we'll just make a new copy of the model for each city.\n",
    "\n",
    "If your model is a single class, then this is easy&mdash;you can just instantiate your class once per city.  But it's more likely your model was a particular instance of a Pipeline.  If that's the case, make a **factory function** that returns a new copy of that Pipeline each time it's called."
   ]
  },
  {
   "cell_type": "code",
   "execution_count": 13,
   "id": "db734bf2",
   "metadata": {},
   "outputs": [],
   "source": [
    "class MonthTime(base.BaseEstimator, base.TransformerMixin):\n",
    "    \"\"\"Convert datetime to time in days and make features month, and hour.\"\"\"\n",
    "\n",
    "    def fit(self, X, y=None):\n",
    "        # Since we don't use X for fitting in this transformer, we can ignore it.\n",
    "        return self\n",
    "\n",
    "    def transform(self, X):\n",
    "        X=X.copy()\n",
    "        #print(X['time'])\n",
    "        # Convert the 'time' column to datetime objects\n",
    "        X['time'] = pd.to_datetime(X['time'])\n",
    "        \n",
    "        # Extract month of the year from datetime\n",
    "        X['month'] = X['time'].dt.month\n",
    "        \n",
    "        # Extract hour of the day from datetime\n",
    "        X['hour'] = X['time'].dt.hour\n",
    "        \n",
    "        # Drop the original 'time' column\n",
    "        X = X.drop('time', axis=1)\n",
    "        \n",
    "        return X[['month', 'hour']]"
   ]
  },
  {
   "cell_type": "code",
   "execution_count": 14,
   "id": "630b2b48",
   "metadata": {},
   "outputs": [],
   "source": [
    "def season_factory(city_name):\n",
    "    # Define the pipeline components\n",
    "    pipeline = Pipeline([\n",
    "        ('drift', MonthTime()),\n",
    "        ('onehot', OneHotEncoder(drop='first')),\n",
    "        ('regressor', LinearRegression())\n",
    "    ])\n",
    "    return pipeline"
   ]
  },
  {
   "cell_type": "markdown",
   "id": "43367bad",
   "metadata": {
    "slideshow": null
   },
   "source": [
    "Calling this function should give a new copy of the Pipeline.  If we train that new copy on the New York data, it should give us the same model as before.  (You might check this by submitting such a model to the previous `grader.score` call.)\n",
    "\n",
    "While we could manually call this function for each city in our dataset, let's build a \"group-by\" estimator that does this for us.  This estimator should take a column name and a factory function as an argument.  The `fit` method will group the incoming data by that column, and for each group it will call the factory to create a new instance to be trained by on that group.  Then, the `predict` method should look up the corresponding model for each row and perform a predict using that model."
   ]
  },
  {
   "cell_type": "markdown",
   "id": "d1b70f16",
   "metadata": {
    "slideshow": null
   },
   "source": [
    "from sklearn import base\n",
    "\n",
    "class GroupbyEstimator(base.BaseEstimator, base.RegressorMixin):\n",
    "    \n",
    "    def __init__(self, column, estimator_factory):\n",
    "        # column is the value to group by; estimator_factory can be\n",
    "        # called to produce estimators\n",
    "    \n",
    "    def fit(self, X, y):\n",
    "        # Create an estimator and fit it with the portion in each group\n",
    "        return self\n",
    "\n",
    "    def predict(self, X):\n",
    "        # Call the appropriate predict method for each row of X\n",
    "        return ..."
   ]
  },
  {
   "cell_type": "code",
   "execution_count": 15,
   "id": "cba1c407",
   "metadata": {},
   "outputs": [],
   "source": [
    "from sklearn import base\n",
    "\n",
    "class GroupByEstimator(base.BaseEstimator, base.RegressorMixin):\n",
    "    \n",
    "    def __init__(self, column, pipeline_factory):\n",
    "        self.column = column\n",
    "        self.pipeline_factory = pipeline_factory\n",
    "        self.estimators = {}  # Dictionary to hold the trained estimators for each group\n",
    "    \n",
    "    def fit(self, X, y):\n",
    "        groups = X.groupby(self.column)\n",
    "        \n",
    "        for group_value, group_indices in groups.groups.items():\n",
    "            # Create a new instance of the pipeline using the provided factory\n",
    "            pipeline = self.pipeline_factory(group_value)\n",
    "            \n",
    "            # Get the corresponding data and target values for this group\n",
    "            group_X = X.loc[group_indices]\n",
    "            group_y = y[group_indices]\n",
    "            \n",
    "            # Fit the pipeline with the group data\n",
    "            pipeline.fit(group_X, group_y)\n",
    "            \n",
    "            # Store the trained pipeline for this group\n",
    "            self.estimators[group_value] = pipeline\n",
    "        \n",
    "        return self\n",
    "    \n",
    "    def predict(self, X):\n",
    "        predictions = []\n",
    "        \n",
    "        for _, row in X.iterrows():\n",
    "            group_value = row[self.column]\n",
    "            \n",
    "            if group_value in self.estimators:\n",
    "                pipeline = self.estimators[group_value]\n",
    "                # Predict using the appropriate pipeline for the group,make sure to turn individual row into df to be fed into .predict\n",
    "                #[to revisit]inefficient because it calls one row at a time, should try and call all rows at once\n",
    "                prediction = pipeline.predict(row.to_frame().transpose())[0]\n",
    "                predictions.append(prediction)\n",
    "            else:\n",
    "                # If no pipeline is available for the group, predict 0\n",
    "                predictions.append(0)\n",
    "        \n",
    "        return predictions"
   ]
  },
  {
   "cell_type": "code",
   "execution_count": 16,
   "id": "0b07ded3",
   "metadata": {},
   "outputs": [],
   "source": [
    "x = df_filtered.iloc[1]"
   ]
  },
  {
   "cell_type": "code",
   "execution_count": 17,
   "id": "fe33221b",
   "metadata": {},
   "outputs": [
    {
     "data": {
      "text/html": [
       "<div>\n",
       "<style scoped>\n",
       "    .dataframe tbody tr th:only-of-type {\n",
       "        vertical-align: middle;\n",
       "    }\n",
       "\n",
       "    .dataframe tbody tr th {\n",
       "        vertical-align: top;\n",
       "    }\n",
       "\n",
       "    .dataframe thead th {\n",
       "        text-align: right;\n",
       "    }\n",
       "</style>\n",
       "<table border=\"1\" class=\"dataframe\">\n",
       "  <thead>\n",
       "    <tr style=\"text-align: right;\">\n",
       "      <th></th>\n",
       "      <th>station</th>\n",
       "      <th>time</th>\n",
       "      <th>temp</th>\n",
       "      <th>dew_point</th>\n",
       "      <th>pressure</th>\n",
       "      <th>wind_speed</th>\n",
       "      <th>wind_direction</th>\n",
       "      <th>precip_hour</th>\n",
       "      <th>weather_codes</th>\n",
       "    </tr>\n",
       "  </thead>\n",
       "  <tbody>\n",
       "    <tr>\n",
       "      <th>1</th>\n",
       "      <td>PHX</td>\n",
       "      <td>2010-01-01 01:51</td>\n",
       "      <td>60.08</td>\n",
       "      <td>17.96</td>\n",
       "      <td>1025.30</td>\n",
       "      <td>4.00</td>\n",
       "      <td>50.00</td>\n",
       "      <td>M</td>\n",
       "      <td>M</td>\n",
       "    </tr>\n",
       "  </tbody>\n",
       "</table>\n",
       "</div>"
      ],
      "text/plain": [
       "  station              time   temp dew_point pressure wind_speed  \\\n",
       "1     PHX  2010-01-01 01:51  60.08     17.96  1025.30       4.00   \n",
       "\n",
       "  wind_direction precip_hour weather_codes  \n",
       "1          50.00           M             M  "
      ]
     },
     "execution_count": 17,
     "metadata": {},
     "output_type": "execute_result"
    }
   ],
   "source": [
    "x.to_frame().transpose()"
   ]
  },
  {
   "cell_type": "markdown",
   "id": "3e02babc",
   "metadata": {
    "slideshow": null
   },
   "source": [
    "Now, we should be able to build an equivalent model for each city:"
   ]
  },
  {
   "cell_type": "code",
   "execution_count": 18,
   "id": "a26c6926",
   "metadata": {},
   "outputs": [],
   "source": [
    "train_data = df_filtered[:int(len(df_filtered)*0.8)]"
   ]
  },
  {
   "cell_type": "code",
   "execution_count": 19,
   "id": "a42046ba",
   "metadata": {
    "collapsed": true
   },
   "outputs": [
    {
     "ename": "NameError",
     "evalue": "name 'groupby_estimator' is not defined",
     "output_type": "error",
     "traceback": [
      "\u001b[0;31m---------------------------------------------------------------------------\u001b[0m",
      "\u001b[0;31mNameError\u001b[0m                                 Traceback (most recent call last)",
      "Cell \u001b[0;32mIn[19], line 1\u001b[0m\n\u001b[0;32m----> 1\u001b[0m \u001b[43mgroupby_estimator\u001b[49m\u001b[38;5;241m.\u001b[39mestimators\n",
      "\u001b[0;31mNameError\u001b[0m: name 'groupby_estimator' is not defined"
     ]
    }
   ],
   "source": [
    "#groupby_estimator.estimators"
   ]
  },
  {
   "cell_type": "code",
   "execution_count": 20,
   "id": "c22e29fc",
   "metadata": {},
   "outputs": [
    {
     "data": {
      "text/html": [
       "<style>#sk-container-id-2 {color: black;background-color: white;}#sk-container-id-2 pre{padding: 0;}#sk-container-id-2 div.sk-toggleable {background-color: white;}#sk-container-id-2 label.sk-toggleable__label {cursor: pointer;display: block;width: 100%;margin-bottom: 0;padding: 0.3em;box-sizing: border-box;text-align: center;}#sk-container-id-2 label.sk-toggleable__label-arrow:before {content: \"▸\";float: left;margin-right: 0.25em;color: #696969;}#sk-container-id-2 label.sk-toggleable__label-arrow:hover:before {color: black;}#sk-container-id-2 div.sk-estimator:hover label.sk-toggleable__label-arrow:before {color: black;}#sk-container-id-2 div.sk-toggleable__content {max-height: 0;max-width: 0;overflow: hidden;text-align: left;background-color: #f0f8ff;}#sk-container-id-2 div.sk-toggleable__content pre {margin: 0.2em;color: black;border-radius: 0.25em;background-color: #f0f8ff;}#sk-container-id-2 input.sk-toggleable__control:checked~div.sk-toggleable__content {max-height: 200px;max-width: 100%;overflow: auto;}#sk-container-id-2 input.sk-toggleable__control:checked~label.sk-toggleable__label-arrow:before {content: \"▾\";}#sk-container-id-2 div.sk-estimator input.sk-toggleable__control:checked~label.sk-toggleable__label {background-color: #d4ebff;}#sk-container-id-2 div.sk-label input.sk-toggleable__control:checked~label.sk-toggleable__label {background-color: #d4ebff;}#sk-container-id-2 input.sk-hidden--visually {border: 0;clip: rect(1px 1px 1px 1px);clip: rect(1px, 1px, 1px, 1px);height: 1px;margin: -1px;overflow: hidden;padding: 0;position: absolute;width: 1px;}#sk-container-id-2 div.sk-estimator {font-family: monospace;background-color: #f0f8ff;border: 1px dotted black;border-radius: 0.25em;box-sizing: border-box;margin-bottom: 0.5em;}#sk-container-id-2 div.sk-estimator:hover {background-color: #d4ebff;}#sk-container-id-2 div.sk-parallel-item::after {content: \"\";width: 100%;border-bottom: 1px solid gray;flex-grow: 1;}#sk-container-id-2 div.sk-label:hover label.sk-toggleable__label {background-color: #d4ebff;}#sk-container-id-2 div.sk-serial::before {content: \"\";position: absolute;border-left: 1px solid gray;box-sizing: border-box;top: 0;bottom: 0;left: 50%;z-index: 0;}#sk-container-id-2 div.sk-serial {display: flex;flex-direction: column;align-items: center;background-color: white;padding-right: 0.2em;padding-left: 0.2em;position: relative;}#sk-container-id-2 div.sk-item {position: relative;z-index: 1;}#sk-container-id-2 div.sk-parallel {display: flex;align-items: stretch;justify-content: center;background-color: white;position: relative;}#sk-container-id-2 div.sk-item::before, #sk-container-id-2 div.sk-parallel-item::before {content: \"\";position: absolute;border-left: 1px solid gray;box-sizing: border-box;top: 0;bottom: 0;left: 50%;z-index: -1;}#sk-container-id-2 div.sk-parallel-item {display: flex;flex-direction: column;z-index: 1;position: relative;background-color: white;}#sk-container-id-2 div.sk-parallel-item:first-child::after {align-self: flex-end;width: 50%;}#sk-container-id-2 div.sk-parallel-item:last-child::after {align-self: flex-start;width: 50%;}#sk-container-id-2 div.sk-parallel-item:only-child::after {width: 0;}#sk-container-id-2 div.sk-dashed-wrapped {border: 1px dashed gray;margin: 0 0.4em 0.5em 0.4em;box-sizing: border-box;padding-bottom: 0.4em;background-color: white;}#sk-container-id-2 div.sk-label label {font-family: monospace;font-weight: bold;display: inline-block;line-height: 1.2em;}#sk-container-id-2 div.sk-label-container {text-align: center;}#sk-container-id-2 div.sk-container {/* jupyter's `normalize.less` sets `[hidden] { display: none; }` but bootstrap.min.css set `[hidden] { display: none !important; }` so we also need the `!important` here to be able to override the default hidden behavior on the sphinx rendered scikit-learn.org. See: https://github.com/scikit-learn/scikit-learn/issues/21755 */display: inline-block !important;position: relative;}#sk-container-id-2 div.sk-text-repr-fallback {display: none;}</style><div id=\"sk-container-id-2\" class=\"sk-top-container\"><div class=\"sk-text-repr-fallback\"><pre>GroupByEstimator(column=&#x27;station&#x27;,\n",
       "                 pipeline_factory=&lt;function season_factory at 0x7f84a99c3d00&gt;)</pre><b>In a Jupyter environment, please rerun this cell to show the HTML representation or trust the notebook. <br />On GitHub, the HTML representation is unable to render, please try loading this page with nbviewer.org.</b></div><div class=\"sk-container\" hidden><div class=\"sk-item\"><div class=\"sk-estimator sk-toggleable\"><input class=\"sk-toggleable__control sk-hidden--visually\" id=\"sk-estimator-id-5\" type=\"checkbox\" checked><label for=\"sk-estimator-id-5\" class=\"sk-toggleable__label sk-toggleable__label-arrow\">GroupByEstimator</label><div class=\"sk-toggleable__content\"><pre>GroupByEstimator(column=&#x27;station&#x27;,\n",
       "                 pipeline_factory=&lt;function season_factory at 0x7f84a99c3d00&gt;)</pre></div></div></div></div></div>"
      ],
      "text/plain": [
       "GroupByEstimator(column='station',\n",
       "                 pipeline_factory=<function season_factory at 0x7f84a99c3d00>)"
      ]
     },
     "execution_count": 20,
     "metadata": {},
     "output_type": "execute_result"
    }
   ],
   "source": [
    "groupby_estimator = GroupByEstimator('station', season_factory)\n",
    "groupby_estimator.fit(df_filtered, df_filtered.temp)\n",
    "\n",
    "# Assuming df_filtered is a DataFrame with similar structure as your input data\n",
    "#predictions = groupby_estimator.predict(df_filtered)"
   ]
  },
  {
   "cell_type": "markdown",
   "id": "e7c5cc8f",
   "metadata": {
    "slideshow": null
   },
   "source": [
    "Again, as long as this model accepts a DataFrame as input, you should be able to pass the `predict` method to the grader."
   ]
  },
  {
   "cell_type": "code",
   "execution_count": 21,
   "id": "d2345ae1",
   "metadata": {
    "slideshow": null
   },
   "outputs": [
    {
     "name": "stdout",
     "output_type": "stream",
     "text": [
      "==================\n",
      "Your score: 1.0000\n",
      "==================\n"
     ]
    }
   ],
   "source": [
    "grader.score('ts__month_hour_model', groupby_estimator.predict)"
   ]
  },
  {
   "cell_type": "markdown",
   "id": "2e5748cb",
   "metadata": {
    "slideshow": null
   },
   "source": [
    "## Handling data in arbitrary order"
   ]
  },
  {
   "cell_type": "markdown",
   "id": "10fd8997",
   "metadata": {
    "slideshow": null
   },
   "source": [
    "Submit the same model again to the following scorer:"
   ]
  },
  {
   "cell_type": "code",
   "execution_count": null,
   "id": "30ac3848",
   "metadata": {
    "slideshow": null
   },
   "outputs": [],
   "source": [
    "grader.score('ts__shuffled_model', groupby_estimator.predict)"
   ]
  },
  {
   "cell_type": "markdown",
   "id": "847e067b",
   "metadata": {
    "slideshow": null
   },
   "source": [
    "If you passed, congratulations&mdash;you avoided a common pitfall!  Move on to the next question.\n",
    "\n",
    "But if your model suddenly behaved worse: In the previous question, we provided each city's rows in contiguous groups.  In this question, the rows were all shuffled together.  If you were predicting for a group at a time and just appending those grouped predictions for the final output, it'll be in the wrong order.\n",
    "\n",
    "There are two ways to fix this:\n",
    "1. Predict for each row individually.  This is straightforward, but very, _very_ slow.\n",
    "2. Predict for each group, and then reorder the predictions to match the input order.  A common way to do this is to attach the index of the feature matrix to the predictions, and then order the full prediction series by the index of the feature matrix.\n",
    "\n",
    "Once you've fixed your `GroupbyEstimator.predict` method, resubmit to this question."
   ]
  },
  {
   "cell_type": "markdown",
   "id": "fbdcbc68",
   "metadata": {
    "slideshow": null
   },
   "source": [
    "## Fourier model"
   ]
  },
  {
   "cell_type": "markdown",
   "id": "ae312a05",
   "metadata": {
    "slideshow": null
   },
   "source": [
    "Let's consider another way to deal with the seasonal terms.  Since we know that temperature is roughly sinusoidal, we know that a reasonable model might be\n",
    "\n",
    "$$ y_t = y_0 \\sin\\left(2\\pi\\frac{t - t_0}{T}\\right) + \\epsilon $$\n",
    "\n",
    "where $y_0$ and $t_0$ are parameters to be learned and $T$ is the period - one year for seasonal variation, one day for daily, etc.  While this is linear in $y_0$, it is not linear in $t_0$. However, we know from Fourier analysis, that the above is\n",
    "equivalent to\n",
    "\n",
    "$$ y_t = A \\sin\\left(2\\pi\\frac{t}{T}\\right) + B \\cos\\left(2\\pi\\frac{t}{T}\\right) + \\epsilon $$\n",
    "\n",
    "which is linear in $A$ and $B$.\n",
    "\n",
    "Create a model containing sinusoidal terms on one or more time scales, and fit it to the data using a linear regression.  Build a `fourier_factory` function that will return instances of this model."
   ]
  },
  {
   "cell_type": "code",
   "execution_count": null,
   "id": "e9db5594",
   "metadata": {
    "slideshow": null
   },
   "outputs": [],
   "source": [
    "def fourier_factory():\n",
    "    return ..."
   ]
  },
  {
   "cell_type": "markdown",
   "id": "a5660d7d",
   "metadata": {
    "slideshow": null
   },
   "source": [
    "A general `GroupByEstimator` should be able to take the new factory function and build a model for each city."
   ]
  },
  {
   "cell_type": "code",
   "execution_count": null,
   "id": "bb839946",
   "metadata": {
    "slideshow": null
   },
   "outputs": [],
   "source": [
    "fourier_model = ..."
   ]
  },
  {
   "cell_type": "markdown",
   "id": "858f6b43",
   "metadata": {
    "slideshow": null
   },
   "source": [
    "Submit this model to the grader."
   ]
  },
  {
   "cell_type": "code",
   "execution_count": 22,
   "id": "eeb645c5",
   "metadata": {
    "slideshow": null
   },
   "outputs": [
    {
     "name": "stdout",
     "output_type": "stream",
     "text": [
      "==================\n",
      "Your score: 0.9939\n",
      "==================\n"
     ]
    }
   ],
   "source": [
    "grader.score('ts__fourier_model', groupby_estimator.predict)"
   ]
  },
  {
   "cell_type": "markdown",
   "id": "3ef6fd99",
   "metadata": {
    "slideshow": null
   },
   "source": [
    "*Copyright &copy; 2022 Pragmatic Institute. This content is licensed solely for personal use. Redistribution or publication of this material is strictly prohibited.*"
   ]
  }
 ],
 "metadata": {
  "kernelspec": {
   "display_name": "Python 3 (ipykernel)",
   "language": "python",
   "name": "python3"
  },
  "language_info": {
   "codemirror_mode": {
    "name": "ipython",
    "version": 3
   },
   "file_extension": ".py",
   "mimetype": "text/x-python",
   "name": "python",
   "nbconvert_exporter": "python",
   "pygments_lexer": "ipython3",
   "version": "3.9.13"
  },
  "nbclean": true
 },
 "nbformat": 4,
 "nbformat_minor": 5
}
